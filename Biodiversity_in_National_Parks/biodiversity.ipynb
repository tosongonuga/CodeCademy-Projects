{
 "cells": [
  {
   "cell_type": "markdown",
   "metadata": {},
   "source": [
    "<br>\n",
    "\n",
    "# **Biodiversity Analysis of U.S. National Parks**\n",
    "\n",
    "<br>"
   ]
  },
  {
   "cell_type": "markdown",
   "metadata": {},
   "source": [
    "<br>\n",
    "\n",
    "## **Table of Contents**\n",
    "<a id='ToC'> </a>\n",
    "\n",
    "<br>"
   ]
  },
  {
   "cell_type": "markdown",
   "metadata": {},
   "source": [
    "<br>\n",
    "\n",
    "#### [**1: Introduction**](#introduction)\n",
    "\n",
    "<br>\n",
    "\n",
    "#### [**2: Modules**](modules)\n",
    "\n",
    "<br>\n",
    "\n",
    "#### [**3: Data Cleaning**](#dataclean)\n",
    "\n",
    "- [**3.0: Data Load & Personal Preferences**](#perspref)\n",
    "\n",
    "- [**3.1: species.csv**](#species)\n",
    "\n",
    "- [**3.2: observations.csv**](#observations)\n",
    "\n",
    "- [**3.3: Merged Data**](#merged)\n",
    "  \n",
    "<br>\n",
    "\n",
    "#### [**4: Questions and Analysis**](#q_analysis)\n",
    "\n",
    "- [**4.1: Which species were observed the most at each park?**](#q1)\n",
    "\n",
    "> **[Figure 1:](#figure1) Top 5 Most Observed Species by National Park**\n",
    "\n",
    "> **[Figure 2:](#figure2) Total Observations by National Park**\n",
    "\n",
    "> **[Figure 3:](#figure3) Most Observed Species by Category**\n",
    "\n",
    "> **[Figure 4:](#figure4) Total Observations by Category**\n",
    "\n",
    "> **[Figure 5:](#figure5) Species Distribution by Category** \n",
    "\n",
    "> **[Table 1:](#table1) Species Distribution by Category: Count and Percentage**\n",
    " \n",
    "- [**4.2: How are species distributed by conservation status**](#q2)\n",
    "  \n",
    "> **[Figure 6:](#figure6) Species Distribution by Conservation Status (Log scale)**\n",
    "\n",
    "> **[Table 2:](#table2) Conservation Status Distribution by Park**\n",
    "\n",
    "> **[Table 3:](#table3) Conservation Status Distribution by Category**\n",
    "\n",
    "- [**4.3: Are certain types of species more likely to be endangered?**](#q3)\n",
    "\n",
    "> **[Table 4:](#table4) Conservation Status Distribution Per Category in Percentages**\n",
    "\n",
    "> **[Figure 7:](#figure7) Species of Concern Distribution by Category**\n",
    "\n",
    "> **[Figure 8:](#figure8) Threatened Species Distribution by Category**\n",
    "\n",
    "> **[Figure 9:](#figure9) Endangered Species Distribution by Category**\n",
    "\n",
    "- [**4.4: Are the differences between species and their conservation status significant?**](#q4)\n",
    "\n",
    "\n",
    "- [**4.4.1: Chi-Square Test**](#q4.1)\n",
    "\n",
    "> **[Table 5:](#table5) Category Protection Breakdown: Counts, Totals, and Percentages**\n",
    "\n",
    "> **[Table 6:](#table6) Chi-square test**\n",
    "\n",
    "<br>\n",
    "\n",
    "#### [**5: Discussion**](#discussion)\n",
    "\n",
    "<br>"
   ]
  },
  {
   "cell_type": "markdown",
   "metadata": {},
   "source": [
    "<br>\n",
    "\n",
    "## **1: Introduction**\n",
    "<a id='introduction'> </a>\n",
    "\n",
    "<br>"
   ]
  },
  {
   "cell_type": "markdown",
   "metadata": {},
   "source": [
    "## Project Goals\n",
    "The goal of this project was to analyze biodiversity data from the U.S. National Parks Service. To maintain the level of biodiversity within their parks, the National Park Service aims to ensure the survival of at-risk species. This is achieved by analyzing the characteristics of the species and their conservation status, as well as the species' relationship to the national parks using the frequency of sightings of those species.\n",
    "\n",
    "A few of the questions that guided this analysis were:\n",
    "- Which species were spotted the most at each National Park?\n",
    "- How are species distributed by their conservation status?\n",
    "- Are certain types of species more likely to be endangered?\n",
    "- Are the differences between species and their conservation status significant?\n",
    "\n",
    "<br>\n",
    "\n",
    "## Data\n",
    "The data used for this project contained two datasets. The first csv file provided information about each species and the second had records of observations of species by park location.\n",
    "\n",
    "Both 'Observations.csv' and 'Species_info.csv' were provided by Codecademy.com.\n",
    "\n",
    "Note: The data used for this project is inspired by real data, but is mostly fictional.\n",
    "\n",
    "<br>\n",
    "\n",
    "## Analysis\n",
    "Descriptive statistics and data visualization techniques were employed to better understand the data. Statistical inferences were also made to test whether the observed values were statistically significant. \n",
    "\n",
    "Some of the key metrics that were computed include:\n",
    "- Distributions\n",
    "- Counts\n",
    "- Relationship between Species\n",
    "- Species Conservation Status\n",
    "- Species Observations by Park\n",
    "\n",
    "<br>"
   ]
  },
  {
   "cell_type": "markdown",
   "metadata": {},
   "source": [
    "<br>\n",
    "\n",
    "## **2: Modules**\n",
    "<a id='modules'> </a>\n",
    "\n",
    "<br>"
   ]
  },
  {
   "cell_type": "code",
   "execution_count": 1,
   "metadata": {},
   "outputs": [],
   "source": [
    "import re\n",
    "import pandas as pd\n",
    "import numpy as np\n",
    "import seaborn as sns\n",
    "import matplotlib.pyplot as plt\n",
    "plt.style.use('default')\n",
    "from scipy.stats import chi2_contingency"
   ]
  },
  {
   "cell_type": "markdown",
   "metadata": {},
   "source": [
    "<br>\n",
    "\n",
    "## **3: Data Cleaning**\n",
    "<a id='DataCleaning'> </a>\n",
    "\n",
    "<br>"
   ]
  },
  {
   "cell_type": "markdown",
   "metadata": {},
   "source": [
    "<br>\n",
    "\n",
    "### **3.0: Data Load & Personal Preferences**\n",
    "<a id='perspref'> </a>\n",
    "\n",
    "<br>"
   ]
  },
  {
   "cell_type": "code",
   "execution_count": 2,
   "metadata": {},
   "outputs": [],
   "source": [
    "# loading project csv files into DataFrames\n",
    "species = pd.read_csv('species_info.csv',encoding='utf-8')\n",
    "observations = pd.read_csv('observations.csv',encoding='utf-8')\n",
    "\n",
    "# personal preference settings that alter the way tabular outputs are displayed\n",
    "pd.set_option('display.max_columns', None) \n",
    "pd.set_option('display.max_rows', None) \n",
    "pd.set_option('display.max_colwidth', None)\n",
    "pd.set_option('expand_frame_repr', False)"
   ]
  },
  {
   "cell_type": "markdown",
   "metadata": {},
   "source": [
    "<br>\n",
    "\n",
    "### **3.1: species.csv**\n",
    "<a id=\"species\"> </a>\n",
    "\n",
    "<br>"
   ]
  },
  {
   "cell_type": "code",
   "execution_count": 3,
   "metadata": {},
   "outputs": [
    {
     "name": "stdout",
     "output_type": "stream",
     "text": [
      "<class 'pandas.core.frame.DataFrame'>\n",
      "RangeIndex: 5824 entries, 0 to 5823\n",
      "Data columns (total 4 columns):\n",
      " #   Column               Non-Null Count  Dtype \n",
      "---  ------               --------------  ----- \n",
      " 0   category             5824 non-null   object\n",
      " 1   scientific_name      5824 non-null   object\n",
      " 2   common_names         5824 non-null   object\n",
      " 3   conservation_status  191 non-null    object\n",
      "dtypes: object(4)\n",
      "memory usage: 182.1+ KB\n"
     ]
    }
   ],
   "source": [
    "# looking at the DataFrame structure\n",
    "species.info()"
   ]
  },
  {
   "cell_type": "code",
   "execution_count": 4,
   "metadata": {
    "scrolled": true
   },
   "outputs": [
    {
     "data": {
      "text/html": [
       "<div>\n",
       "<style scoped>\n",
       "    .dataframe tbody tr th:only-of-type {\n",
       "        vertical-align: middle;\n",
       "    }\n",
       "\n",
       "    .dataframe tbody tr th {\n",
       "        vertical-align: top;\n",
       "    }\n",
       "\n",
       "    .dataframe thead th {\n",
       "        text-align: right;\n",
       "    }\n",
       "</style>\n",
       "<table border=\"1\" class=\"dataframe\">\n",
       "  <thead>\n",
       "    <tr style=\"text-align: right;\">\n",
       "      <th></th>\n",
       "      <th>category</th>\n",
       "      <th>scientific_name</th>\n",
       "      <th>common_names</th>\n",
       "      <th>conservation_status</th>\n",
       "    </tr>\n",
       "  </thead>\n",
       "  <tbody>\n",
       "    <tr>\n",
       "      <th>0</th>\n",
       "      <td>Mammal</td>\n",
       "      <td>Clethrionomys gapperi gapperi</td>\n",
       "      <td>Gapper's Red-Backed Vole</td>\n",
       "      <td>NaN</td>\n",
       "    </tr>\n",
       "    <tr>\n",
       "      <th>1</th>\n",
       "      <td>Mammal</td>\n",
       "      <td>Bos bison</td>\n",
       "      <td>American Bison, Bison</td>\n",
       "      <td>NaN</td>\n",
       "    </tr>\n",
       "    <tr>\n",
       "      <th>2</th>\n",
       "      <td>Mammal</td>\n",
       "      <td>Bos taurus</td>\n",
       "      <td>Aurochs, Aurochs, Domestic Cattle (Feral), Domesticated Cattle</td>\n",
       "      <td>NaN</td>\n",
       "    </tr>\n",
       "    <tr>\n",
       "      <th>3</th>\n",
       "      <td>Mammal</td>\n",
       "      <td>Ovis aries</td>\n",
       "      <td>Domestic Sheep, Mouflon, Red Sheep, Sheep (Feral)</td>\n",
       "      <td>NaN</td>\n",
       "    </tr>\n",
       "    <tr>\n",
       "      <th>4</th>\n",
       "      <td>Mammal</td>\n",
       "      <td>Cervus elaphus</td>\n",
       "      <td>Wapiti Or Elk</td>\n",
       "      <td>NaN</td>\n",
       "    </tr>\n",
       "  </tbody>\n",
       "</table>\n",
       "</div>"
      ],
      "text/plain": [
       "  category                scientific_name                                                    common_names conservation_status\n",
       "0   Mammal  Clethrionomys gapperi gapperi                                        Gapper's Red-Backed Vole                 NaN\n",
       "1   Mammal                      Bos bison                                           American Bison, Bison                 NaN\n",
       "2   Mammal                     Bos taurus  Aurochs, Aurochs, Domestic Cattle (Feral), Domesticated Cattle                 NaN\n",
       "3   Mammal                     Ovis aries               Domestic Sheep, Mouflon, Red Sheep, Sheep (Feral)                 NaN\n",
       "4   Mammal                 Cervus elaphus                                                   Wapiti Or Elk                 NaN"
      ]
     },
     "metadata": {},
     "output_type": "display_data"
    }
   ],
   "source": [
    "# quick look at the the first few rows of data\n",
    "display(species.head())"
   ]
  },
  {
   "cell_type": "code",
   "execution_count": 5,
   "metadata": {},
   "outputs": [
    {
     "data": {
      "text/plain": [
       "category                  0\n",
       "scientific_name           0\n",
       "common_names              0\n",
       "conservation_status    5633\n",
       "dtype: int64"
      ]
     },
     "execution_count": 5,
     "metadata": {},
     "output_type": "execute_result"
    }
   ],
   "source": [
    "# checking the data for null values\n",
    "species.isna().sum()"
   ]
  },
  {
   "cell_type": "code",
   "execution_count": 6,
   "metadata": {},
   "outputs": [
    {
     "name": "stdout",
     "output_type": "stream",
     "text": [
      "list of conservation statuses: [nan 'Species of Concern' 'Endangered' 'Threatened' 'In Recovery']\n",
      "nan values: 5633\n"
     ]
    },
    {
     "data": {
      "text/plain": [
       "conservation_status\n",
       "Species of Concern    161\n",
       "Endangered             16\n",
       "Threatened             10\n",
       "In Recovery             4\n",
       "Name: conservation_status, dtype: int64"
      ]
     },
     "execution_count": 6,
     "metadata": {},
     "output_type": "execute_result"
    }
   ],
   "source": [
    "print(f'list of conservation statuses: {species.conservation_status.unique()}')\n",
    "print(f'nan values: {species.conservation_status.isnull().sum()}')\n",
    "\n",
    "species.groupby('conservation_status').conservation_status.count().sort_values(ascending=False)"
   ]
  },
  {
   "cell_type": "markdown",
   "metadata": {},
   "source": [
    "<br>\n",
    "\n",
    "##### Cleaning the **conservation_status** column\n",
    "\n",
    "<br>"
   ]
  },
  {
   "cell_type": "markdown",
   "metadata": {},
   "source": [
    "<br>\n",
    "\n",
    "The **conservation_status** column has 5 unique values: `Species of Concern`, `Endagered`, `Threatened`, `In Recovery` and `nan` values. \n",
    "\n",
    "<br>\n",
    "\n",
    "The `nan` values in this data correspond to species of \"Least Concern\". These are species are not a focus of conservation efforts and as such, the `nan` values in this data will be replaced with `Least Concern`. This will allow the inclusion of this group in later analysis of the data.\n",
    "\n",
    "<br>"
   ]
  },
  {
   "cell_type": "code",
   "execution_count": 7,
   "metadata": {},
   "outputs": [
    {
     "data": {
      "text/plain": [
       "Least Concern         5633\n",
       "Species of Concern     161\n",
       "Endangered              16\n",
       "Threatened              10\n",
       "In Recovery              4\n",
       "Name: conservation_status, dtype: int64"
      ]
     },
     "execution_count": 7,
     "metadata": {},
     "output_type": "execute_result"
    }
   ],
   "source": [
    "# replacing all nan values with \"Least Concern\"\n",
    "species.fillna('Least Concern', inplace=True)\n",
    "\n",
    "species.conservation_status.value_counts().sort_values(ascending=False)"
   ]
  },
  {
   "cell_type": "markdown",
   "metadata": {},
   "source": [
    "<br>\n",
    "\n",
    "##### Cleaning the **common_names** column\n",
    "\n",
    "<br>"
   ]
  },
  {
   "cell_type": "code",
   "execution_count": 8,
   "metadata": {
    "scrolled": true
   },
   "outputs": [
    {
     "data": {
      "text/plain": [
       "0                                          Gapper's Red-Backed Vole\n",
       "1                                             American Bison, Bison\n",
       "2    Aurochs, Aurochs, Domestic Cattle (Feral), Domesticated Cattle\n",
       "3                 Domestic Sheep, Mouflon, Red Sheep, Sheep (Feral)\n",
       "4                                                     Wapiti Or Elk\n",
       "Name: common_names, dtype: object"
      ]
     },
     "execution_count": 8,
     "metadata": {},
     "output_type": "execute_result"
    }
   ],
   "source": [
    "# quick look at the common_names column\n",
    "species.common_names.head()"
   ]
  },
  {
   "cell_type": "markdown",
   "metadata": {},
   "source": [
    "<br>\n",
    "\n",
    "After combing through the `Species_info.csv` file, a few delimeters and characters were identified that needed to cleaned. These delimeters and characters can be seen in the examples below.\n",
    "\n",
    "<br>"
   ]
  },
  {
   "cell_type": "code",
   "execution_count": 9,
   "metadata": {
    "scrolled": true
   },
   "outputs": [
    {
     "data": {
      "text/plain": [
       "2       Aurochs, Aurochs, Domestic Cattle (Feral), Domesticated Cattle\n",
       "4                                                        Wapiti Or Elk\n",
       "16                                             Panther (Mountain Lion)\n",
       "22                                                    Mink (Or Weasel)\n",
       "750                                                      Curtis? Aster\n",
       "936                                     A Goldenrod, Zig-Zag Goldenrod\n",
       "937                                        A Goldenrod, Tall Goldenrod\n",
       "1413                               Curtiss Milkwort, Curtiss? Milkwort\n",
       "3898                  IsoTe _ Spores _Pineuses, Spiny-Spore Quillwort\n",
       "4482                        Pi_On Deermouse, Pi_On Mouse, Pinyon Mouse\n",
       "4587                                     Sierra (Aquatic) Garter Snake\n",
       "Name: common_names, dtype: object"
      ]
     },
     "execution_count": 9,
     "metadata": {},
     "output_type": "execute_result"
    }
   ],
   "source": [
    "# delimeter examples\n",
    "species.common_names.iloc[[2, 4, 16, 22, 750, 936, 937, 1413, 3898, 4482, 4587]]"
   ]
  },
  {
   "cell_type": "code",
   "execution_count": 10,
   "metadata": {},
   "outputs": [],
   "source": [
    "#regular expression that matches the following delimeters: \",\" and the word \"Or\"\n",
    "delim = r',|\\bOr\\b'\n",
    "\n",
    "# cleaning the common_names column with the delim variable and keeping only the last common name\n",
    "species.common_names = species.common_names.apply(lambda x: re.split(delim, x)[-1])\n",
    "\n",
    "# removing all instances of the capital letter \"A\" followed by a whitespace\n",
    "# and words in between parentheses (parentheses included)\n",
    "species.common_names = species.common_names.apply(lambda x: re.sub(r'A\\s|\\s+\\([^()]*\\)', '', x))\n",
    "\n",
    "# removing all instances of a question mark (?)\n",
    "species.common_names = species.common_names.apply(lambda x: re.sub(r'[?]', '', x))\n",
    "\n",
    "# removing any leading and trailing spaces\n",
    "species.common_names = species.common_names.apply(lambda x: x.strip())"
   ]
  },
  {
   "cell_type": "code",
   "execution_count": 11,
   "metadata": {},
   "outputs": [
    {
     "name": "stdout",
     "output_type": "stream",
     "text": [
      "2         Domesticated Cattle\n",
      "4                         Elk\n",
      "16                    Panther\n",
      "22                    Weasel)\n",
      "750              Curtis Aster\n",
      "936         Zig-Zag Goldenrod\n",
      "937            Tall Goldenrod\n",
      "1413         Curtiss Milkwort\n",
      "3898    Spiny-Spore Quillwort\n",
      "4482             Pinyon Mouse\n",
      "4587      Sierra Garter Snake\n",
      "Name: common_names, dtype: object \n",
      "\n",
      "2         Domesticated Cattle\n",
      "4                         Elk\n",
      "16                    Panther\n",
      "22                     Weasel\n",
      "750              Curtis Aster\n",
      "936         Zig-Zag Goldenrod\n",
      "937            Tall Goldenrod\n",
      "1413         Curtiss Milkwort\n",
      "3898    Spiny-Spore Quillwort\n",
      "4482             Pinyon Mouse\n",
      "4587      Sierra Garter Snake\n",
      "Name: common_names, dtype: object\n"
     ]
    }
   ],
   "source": [
    "# reviewing the examples after cleaning\n",
    "print(species.common_names.iloc[[2, 4, 16, 22, 750, 936, 937, 1413, 3898, 4482, 4587]], '\\n')\n",
    "\n",
    "# removing all instances of a closing parenthesis \")\"\n",
    "species.common_names = species.common_names.apply(lambda x: re.sub(r'[)]', '', x))\n",
    "\n",
    "# confirming removal of standalone closing parentheses\n",
    "print(species.common_names.iloc[[2, 4, 16, 22, 750, 936, 937, 1413, 3898, 4482, 4587]])"
   ]
  },
  {
   "cell_type": "markdown",
   "metadata": {},
   "source": [
    "<br>\n",
    "\n",
    "##### Cleaning the **scientific_names** column\n",
    "\n",
    "<br>"
   ]
  },
  {
   "cell_type": "code",
   "execution_count": 12,
   "metadata": {},
   "outputs": [
    {
     "name": "stdout",
     "output_type": "stream",
     "text": [
      "False    5541\n",
      "True      283\n",
      "Name: scientific_name, dtype: int64\n"
     ]
    }
   ],
   "source": [
    "# looking for duplicated scientific names in the data\n",
    "# number of duplicates\n",
    "duplicated_scientific_names = species.scientific_name.duplicated()\n",
    "print(duplicated_scientific_names.value_counts())"
   ]
  },
  {
   "cell_type": "markdown",
   "metadata": {},
   "source": [
    "<br>\n",
    "\n",
    "There are 283 duplicated values in the `species` dataset. Because this dataset will be serving as a fact table for analysis in this project, all duplicates will need to be dropped.\n",
    "\n",
    "<br>"
   ]
  },
  {
   "cell_type": "code",
   "execution_count": 13,
   "metadata": {},
   "outputs": [
    {
     "data": {
      "text/html": [
       "<div>\n",
       "<style scoped>\n",
       "    .dataframe tbody tr th:only-of-type {\n",
       "        vertical-align: middle;\n",
       "    }\n",
       "\n",
       "    .dataframe tbody tr th {\n",
       "        vertical-align: top;\n",
       "    }\n",
       "\n",
       "    .dataframe thead th {\n",
       "        text-align: right;\n",
       "    }\n",
       "</style>\n",
       "<table border=\"1\" class=\"dataframe\">\n",
       "  <thead>\n",
       "    <tr style=\"text-align: right;\">\n",
       "      <th></th>\n",
       "      <th>category</th>\n",
       "      <th>scientific_name</th>\n",
       "      <th>common_names</th>\n",
       "      <th>conservation_status</th>\n",
       "    </tr>\n",
       "  </thead>\n",
       "  <tbody>\n",
       "    <tr>\n",
       "      <th>4</th>\n",
       "      <td>Mammal</td>\n",
       "      <td>Cervus elaphus</td>\n",
       "      <td>Elk</td>\n",
       "      <td>Least Concern</td>\n",
       "    </tr>\n",
       "    <tr>\n",
       "      <th>5</th>\n",
       "      <td>Mammal</td>\n",
       "      <td>Odocoileus virginianus</td>\n",
       "      <td>White-Tailed Deer</td>\n",
       "      <td>Least Concern</td>\n",
       "    </tr>\n",
       "    <tr>\n",
       "      <th>6</th>\n",
       "      <td>Mammal</td>\n",
       "      <td>Sus scrofa</td>\n",
       "      <td>Wild Pig</td>\n",
       "      <td>Least Concern</td>\n",
       "    </tr>\n",
       "    <tr>\n",
       "      <th>8</th>\n",
       "      <td>Mammal</td>\n",
       "      <td>Canis lupus</td>\n",
       "      <td>Gray Wolf</td>\n",
       "      <td>Endangered</td>\n",
       "    </tr>\n",
       "    <tr>\n",
       "      <th>10</th>\n",
       "      <td>Mammal</td>\n",
       "      <td>Urocyon cinereoargenteus</td>\n",
       "      <td>Gray Fox</td>\n",
       "      <td>Least Concern</td>\n",
       "    </tr>\n",
       "  </tbody>\n",
       "</table>\n",
       "</div>"
      ],
      "text/plain": [
       "   category           scientific_name       common_names conservation_status\n",
       "4    Mammal            Cervus elaphus                Elk       Least Concern\n",
       "5    Mammal    Odocoileus virginianus  White-Tailed Deer       Least Concern\n",
       "6    Mammal                Sus scrofa           Wild Pig       Least Concern\n",
       "8    Mammal               Canis lupus          Gray Wolf          Endangered\n",
       "10   Mammal  Urocyon cinereoargenteus           Gray Fox       Least Concern"
      ]
     },
     "execution_count": 13,
     "metadata": {},
     "output_type": "execute_result"
    }
   ],
   "source": [
    "# storing duplicated values in \"dups\" variable\n",
    "dups = species[species.duplicated(subset='scientific_name', keep=False)]\n",
    "dups.head()"
   ]
  },
  {
   "cell_type": "code",
   "execution_count": 14,
   "metadata": {},
   "outputs": [
    {
     "data": {
      "text/html": [
       "<div>\n",
       "<style scoped>\n",
       "    .dataframe tbody tr th:only-of-type {\n",
       "        vertical-align: middle;\n",
       "    }\n",
       "\n",
       "    .dataframe tbody tr th {\n",
       "        vertical-align: top;\n",
       "    }\n",
       "\n",
       "    .dataframe thead th {\n",
       "        text-align: right;\n",
       "    }\n",
       "</style>\n",
       "<table border=\"1\" class=\"dataframe\">\n",
       "  <thead>\n",
       "    <tr style=\"text-align: right;\">\n",
       "      <th></th>\n",
       "      <th>category</th>\n",
       "      <th>scientific_name</th>\n",
       "      <th>common_names</th>\n",
       "      <th>conservation_status</th>\n",
       "    </tr>\n",
       "  </thead>\n",
       "  <tbody>\n",
       "    <tr>\n",
       "      <th>4</th>\n",
       "      <td>Mammal</td>\n",
       "      <td>Cervus elaphus</td>\n",
       "      <td>Elk</td>\n",
       "      <td>Least Concern</td>\n",
       "    </tr>\n",
       "    <tr>\n",
       "      <th>3017</th>\n",
       "      <td>Mammal</td>\n",
       "      <td>Cervus elaphus</td>\n",
       "      <td>Rocky Mountain Elk</td>\n",
       "      <td>Least Concern</td>\n",
       "    </tr>\n",
       "  </tbody>\n",
       "</table>\n",
       "</div>"
      ],
      "text/plain": [
       "     category scientific_name        common_names conservation_status\n",
       "4      Mammal  Cervus elaphus                 Elk       Least Concern\n",
       "3017   Mammal  Cervus elaphus  Rocky Mountain Elk       Least Concern"
      ]
     },
     "metadata": {},
     "output_type": "display_data"
    },
    {
     "data": {
      "text/html": [
       "<div>\n",
       "<style scoped>\n",
       "    .dataframe tbody tr th:only-of-type {\n",
       "        vertical-align: middle;\n",
       "    }\n",
       "\n",
       "    .dataframe tbody tr th {\n",
       "        vertical-align: top;\n",
       "    }\n",
       "\n",
       "    .dataframe thead th {\n",
       "        text-align: right;\n",
       "    }\n",
       "</style>\n",
       "<table border=\"1\" class=\"dataframe\">\n",
       "  <thead>\n",
       "    <tr style=\"text-align: right;\">\n",
       "      <th></th>\n",
       "      <th>category</th>\n",
       "      <th>scientific_name</th>\n",
       "      <th>common_names</th>\n",
       "      <th>conservation_status</th>\n",
       "    </tr>\n",
       "  </thead>\n",
       "  <tbody>\n",
       "    <tr>\n",
       "      <th>8</th>\n",
       "      <td>Mammal</td>\n",
       "      <td>Canis lupus</td>\n",
       "      <td>Gray Wolf</td>\n",
       "      <td>Endangered</td>\n",
       "    </tr>\n",
       "    <tr>\n",
       "      <th>3020</th>\n",
       "      <td>Mammal</td>\n",
       "      <td>Canis lupus</td>\n",
       "      <td>Wolf</td>\n",
       "      <td>In Recovery</td>\n",
       "    </tr>\n",
       "    <tr>\n",
       "      <th>4448</th>\n",
       "      <td>Mammal</td>\n",
       "      <td>Canis lupus</td>\n",
       "      <td>Wolf</td>\n",
       "      <td>Endangered</td>\n",
       "    </tr>\n",
       "  </tbody>\n",
       "</table>\n",
       "</div>"
      ],
      "text/plain": [
       "     category scientific_name common_names conservation_status\n",
       "8      Mammal     Canis lupus    Gray Wolf          Endangered\n",
       "3020   Mammal     Canis lupus         Wolf         In Recovery\n",
       "4448   Mammal     Canis lupus         Wolf          Endangered"
      ]
     },
     "metadata": {},
     "output_type": "display_data"
    },
    {
     "data": {
      "text/html": [
       "<div>\n",
       "<style scoped>\n",
       "    .dataframe tbody tr th:only-of-type {\n",
       "        vertical-align: middle;\n",
       "    }\n",
       "\n",
       "    .dataframe tbody tr th {\n",
       "        vertical-align: top;\n",
       "    }\n",
       "\n",
       "    .dataframe thead th {\n",
       "        text-align: right;\n",
       "    }\n",
       "</style>\n",
       "<table border=\"1\" class=\"dataframe\">\n",
       "  <thead>\n",
       "    <tr style=\"text-align: right;\">\n",
       "      <th></th>\n",
       "      <th>category</th>\n",
       "      <th>scientific_name</th>\n",
       "      <th>common_names</th>\n",
       "      <th>conservation_status</th>\n",
       "    </tr>\n",
       "  </thead>\n",
       "  <tbody>\n",
       "    <tr>\n",
       "      <th>10</th>\n",
       "      <td>Mammal</td>\n",
       "      <td>Urocyon cinereoargenteus</td>\n",
       "      <td>Gray Fox</td>\n",
       "      <td>Least Concern</td>\n",
       "    </tr>\n",
       "    <tr>\n",
       "      <th>4449</th>\n",
       "      <td>Mammal</td>\n",
       "      <td>Urocyon cinereoargenteus</td>\n",
       "      <td>Gray Fox</td>\n",
       "      <td>Least Concern</td>\n",
       "    </tr>\n",
       "  </tbody>\n",
       "</table>\n",
       "</div>"
      ],
      "text/plain": [
       "     category           scientific_name common_names conservation_status\n",
       "10     Mammal  Urocyon cinereoargenteus     Gray Fox       Least Concern\n",
       "4449   Mammal  Urocyon cinereoargenteus     Gray Fox       Least Concern"
      ]
     },
     "metadata": {},
     "output_type": "display_data"
    }
   ],
   "source": [
    "display(species[species.scientific_name == 'Cervus elaphus'])\n",
    "display(species[species.scientific_name == 'Canis lupus'])\n",
    "display(species[species.scientific_name == 'Urocyon cinereoargenteus'])"
   ]
  },
  {
   "cell_type": "markdown",
   "metadata": {},
   "source": [
    "<br>\n",
    "\n",
    "Some of these duplicates appear to have discrepancies in their conservation status.\n",
    "\n",
    "<br>"
   ]
  },
  {
   "cell_type": "code",
   "execution_count": 15,
   "metadata": {},
   "outputs": [
    {
     "data": {
      "text/html": [
       "<div>\n",
       "<style scoped>\n",
       "    .dataframe tbody tr th:only-of-type {\n",
       "        vertical-align: middle;\n",
       "    }\n",
       "\n",
       "    .dataframe tbody tr th {\n",
       "        vertical-align: top;\n",
       "    }\n",
       "\n",
       "    .dataframe thead th {\n",
       "        text-align: right;\n",
       "    }\n",
       "</style>\n",
       "<table border=\"1\" class=\"dataframe\">\n",
       "  <thead>\n",
       "    <tr style=\"text-align: right;\">\n",
       "      <th></th>\n",
       "      <th>category</th>\n",
       "      <th>scientific_name</th>\n",
       "      <th>common_names</th>\n",
       "      <th>conservation_status</th>\n",
       "    </tr>\n",
       "  </thead>\n",
       "  <tbody>\n",
       "    <tr>\n",
       "      <th>3020</th>\n",
       "      <td>Mammal</td>\n",
       "      <td>Canis lupus</td>\n",
       "      <td>Wolf</td>\n",
       "      <td>In Recovery</td>\n",
       "    </tr>\n",
       "    <tr>\n",
       "      <th>3283</th>\n",
       "      <td>Fish</td>\n",
       "      <td>Oncorhynchus mykiss</td>\n",
       "      <td>Rainbow Trout</td>\n",
       "      <td>Threatened</td>\n",
       "    </tr>\n",
       "  </tbody>\n",
       "</table>\n",
       "</div>"
      ],
      "text/plain": [
       "     category      scientific_name   common_names conservation_status\n",
       "3020   Mammal          Canis lupus           Wolf         In Recovery\n",
       "3283     Fish  Oncorhynchus mykiss  Rainbow Trout          Threatened"
      ]
     },
     "metadata": {},
     "output_type": "display_data"
    }
   ],
   "source": [
    "# finding duplicates with different conservation status\n",
    "dups_with_diff_status = dups[dups.duplicated(subset='scientific_name', keep=False)\\\n",
    "                             & ~dups.duplicated(subset='conservation_status', keep=False)]\n",
    "\n",
    "display(dups_with_diff_status)"
   ]
  },
  {
   "cell_type": "markdown",
   "metadata": {},
   "source": [
    "<br>\n",
    "\n",
    "2 species were found with multiple entries.\n",
    "\n",
    "<br>"
   ]
  },
  {
   "cell_type": "code",
   "execution_count": 16,
   "metadata": {},
   "outputs": [
    {
     "data": {
      "text/html": [
       "<div>\n",
       "<style scoped>\n",
       "    .dataframe tbody tr th:only-of-type {\n",
       "        vertical-align: middle;\n",
       "    }\n",
       "\n",
       "    .dataframe tbody tr th {\n",
       "        vertical-align: top;\n",
       "    }\n",
       "\n",
       "    .dataframe thead th {\n",
       "        text-align: right;\n",
       "    }\n",
       "</style>\n",
       "<table border=\"1\" class=\"dataframe\">\n",
       "  <thead>\n",
       "    <tr style=\"text-align: right;\">\n",
       "      <th></th>\n",
       "      <th>category</th>\n",
       "      <th>scientific_name</th>\n",
       "      <th>common_names</th>\n",
       "      <th>conservation_status</th>\n",
       "    </tr>\n",
       "  </thead>\n",
       "  <tbody>\n",
       "    <tr>\n",
       "      <th>8</th>\n",
       "      <td>Mammal</td>\n",
       "      <td>Canis lupus</td>\n",
       "      <td>Gray Wolf</td>\n",
       "      <td>Endangered</td>\n",
       "    </tr>\n",
       "    <tr>\n",
       "      <th>3020</th>\n",
       "      <td>Mammal</td>\n",
       "      <td>Canis lupus</td>\n",
       "      <td>Wolf</td>\n",
       "      <td>In Recovery</td>\n",
       "    </tr>\n",
       "    <tr>\n",
       "      <th>4448</th>\n",
       "      <td>Mammal</td>\n",
       "      <td>Canis lupus</td>\n",
       "      <td>Wolf</td>\n",
       "      <td>Endangered</td>\n",
       "    </tr>\n",
       "  </tbody>\n",
       "</table>\n",
       "</div>"
      ],
      "text/plain": [
       "     category scientific_name common_names conservation_status\n",
       "8      Mammal     Canis lupus    Gray Wolf          Endangered\n",
       "3020   Mammal     Canis lupus         Wolf         In Recovery\n",
       "4448   Mammal     Canis lupus         Wolf          Endangered"
      ]
     },
     "metadata": {},
     "output_type": "display_data"
    },
    {
     "data": {
      "text/html": [
       "<div>\n",
       "<style scoped>\n",
       "    .dataframe tbody tr th:only-of-type {\n",
       "        vertical-align: middle;\n",
       "    }\n",
       "\n",
       "    .dataframe tbody tr th {\n",
       "        vertical-align: top;\n",
       "    }\n",
       "\n",
       "    .dataframe thead th {\n",
       "        text-align: right;\n",
       "    }\n",
       "</style>\n",
       "<table border=\"1\" class=\"dataframe\">\n",
       "  <thead>\n",
       "    <tr style=\"text-align: right;\">\n",
       "      <th></th>\n",
       "      <th>category</th>\n",
       "      <th>scientific_name</th>\n",
       "      <th>common_names</th>\n",
       "      <th>conservation_status</th>\n",
       "    </tr>\n",
       "  </thead>\n",
       "  <tbody>\n",
       "    <tr>\n",
       "      <th>560</th>\n",
       "      <td>Fish</td>\n",
       "      <td>Oncorhynchus mykiss</td>\n",
       "      <td>Rainbow Trout</td>\n",
       "      <td>Least Concern</td>\n",
       "    </tr>\n",
       "    <tr>\n",
       "      <th>3283</th>\n",
       "      <td>Fish</td>\n",
       "      <td>Oncorhynchus mykiss</td>\n",
       "      <td>Rainbow Trout</td>\n",
       "      <td>Threatened</td>\n",
       "    </tr>\n",
       "  </tbody>\n",
       "</table>\n",
       "</div>"
      ],
      "text/plain": [
       "     category      scientific_name   common_names conservation_status\n",
       "560      Fish  Oncorhynchus mykiss  Rainbow Trout       Least Concern\n",
       "3283     Fish  Oncorhynchus mykiss  Rainbow Trout          Threatened"
      ]
     },
     "metadata": {},
     "output_type": "display_data"
    }
   ],
   "source": [
    "display(species[species.scientific_name == 'Canis lupus'])\n",
    "display(species[species.scientific_name == 'Oncorhynchus mykiss'])"
   ]
  },
  {
   "cell_type": "markdown",
   "metadata": {},
   "source": [
    "<br>\n",
    "\n",
    "The conservation status for these two species was checked online to ensure that the correct status was kept. \n",
    "\n",
    "The Gray Wolf is listed as `Endagered` by the ***U.S. Fish & Wildlife Service***, while the Rainbow Trout is listed as `Threatened` by ***National Oceanic and Atmospheric Administration (NOAA)***, under the ***U.S. Department of Commerce***.\n",
    "\n",
    "Gray Wolf Conservation Status: (https://ecos.fws.gov/ecp/species/4488)\n",
    "\n",
    "Rainbow Trout Conservatioon Status: (https://www.fisheries.noaa.gov/species/steelhead-trout)\n",
    "\n",
    "<br>\n",
    "\n",
    "For these two reasons, the last duplicates will be kept, and this will be extended to other duplicates as well to ensure a clean dataset.\n",
    "\n",
    "<br>"
   ]
  },
  {
   "cell_type": "code",
   "execution_count": 17,
   "metadata": {},
   "outputs": [
    {
     "name": "stdout",
     "output_type": "stream",
     "text": [
      "species dataset length: 5541\n",
      "number of species: 5541\n"
     ]
    },
    {
     "data": {
      "text/html": [
       "<div>\n",
       "<style scoped>\n",
       "    .dataframe tbody tr th:only-of-type {\n",
       "        vertical-align: middle;\n",
       "    }\n",
       "\n",
       "    .dataframe tbody tr th {\n",
       "        vertical-align: top;\n",
       "    }\n",
       "\n",
       "    .dataframe thead th {\n",
       "        text-align: right;\n",
       "    }\n",
       "</style>\n",
       "<table border=\"1\" class=\"dataframe\">\n",
       "  <thead>\n",
       "    <tr style=\"text-align: right;\">\n",
       "      <th></th>\n",
       "      <th>category</th>\n",
       "      <th>scientific_name</th>\n",
       "      <th>common_names</th>\n",
       "      <th>conservation_status</th>\n",
       "    </tr>\n",
       "  </thead>\n",
       "  <tbody>\n",
       "    <tr>\n",
       "      <th>4448</th>\n",
       "      <td>Mammal</td>\n",
       "      <td>Canis lupus</td>\n",
       "      <td>Wolf</td>\n",
       "      <td>Endangered</td>\n",
       "    </tr>\n",
       "  </tbody>\n",
       "</table>\n",
       "</div>"
      ],
      "text/plain": [
       "     category scientific_name common_names conservation_status\n",
       "4448   Mammal     Canis lupus         Wolf          Endangered"
      ]
     },
     "metadata": {},
     "output_type": "display_data"
    },
    {
     "data": {
      "text/html": [
       "<div>\n",
       "<style scoped>\n",
       "    .dataframe tbody tr th:only-of-type {\n",
       "        vertical-align: middle;\n",
       "    }\n",
       "\n",
       "    .dataframe tbody tr th {\n",
       "        vertical-align: top;\n",
       "    }\n",
       "\n",
       "    .dataframe thead th {\n",
       "        text-align: right;\n",
       "    }\n",
       "</style>\n",
       "<table border=\"1\" class=\"dataframe\">\n",
       "  <thead>\n",
       "    <tr style=\"text-align: right;\">\n",
       "      <th></th>\n",
       "      <th>category</th>\n",
       "      <th>scientific_name</th>\n",
       "      <th>common_names</th>\n",
       "      <th>conservation_status</th>\n",
       "    </tr>\n",
       "  </thead>\n",
       "  <tbody>\n",
       "    <tr>\n",
       "      <th>3283</th>\n",
       "      <td>Fish</td>\n",
       "      <td>Oncorhynchus mykiss</td>\n",
       "      <td>Rainbow Trout</td>\n",
       "      <td>Threatened</td>\n",
       "    </tr>\n",
       "  </tbody>\n",
       "</table>\n",
       "</div>"
      ],
      "text/plain": [
       "     category      scientific_name   common_names conservation_status\n",
       "3283     Fish  Oncorhynchus mykiss  Rainbow Trout          Threatened"
      ]
     },
     "metadata": {},
     "output_type": "display_data"
    }
   ],
   "source": [
    "# dropping duplicates and keeping only the last instance\n",
    "species.drop_duplicates(subset=['scientific_name'], keep='last', inplace=True)\n",
    "\n",
    "# quick check to ensure duplicates were dropped\n",
    "print(f'species dataset length: {len(species)}')\n",
    "print(f'number of species: {species.scientific_name.nunique()}')\n",
    "\n",
    "display(species[species.scientific_name == 'Canis lupus'])\n",
    "display(species[species.scientific_name == 'Oncorhynchus mykiss'])"
   ]
  },
  {
   "cell_type": "code",
   "execution_count": 18,
   "metadata": {},
   "outputs": [
    {
     "name": "stdout",
     "output_type": "stream",
     "text": [
      "<class 'pandas.core.frame.DataFrame'>\n",
      "Int64Index: 5541 entries, 0 to 5823\n",
      "Data columns (total 4 columns):\n",
      " #   Column               Non-Null Count  Dtype \n",
      "---  ------               --------------  ----- \n",
      " 0   category             5541 non-null   object\n",
      " 1   scientific_name      5541 non-null   object\n",
      " 2   common_names         5541 non-null   object\n",
      " 3   conservation_status  5541 non-null   object\n",
      "dtypes: object(4)\n",
      "memory usage: 216.4+ KB\n"
     ]
    },
    {
     "data": {
      "text/html": [
       "<div>\n",
       "<style scoped>\n",
       "    .dataframe tbody tr th:only-of-type {\n",
       "        vertical-align: middle;\n",
       "    }\n",
       "\n",
       "    .dataframe tbody tr th {\n",
       "        vertical-align: top;\n",
       "    }\n",
       "\n",
       "    .dataframe thead th {\n",
       "        text-align: right;\n",
       "    }\n",
       "</style>\n",
       "<table border=\"1\" class=\"dataframe\">\n",
       "  <thead>\n",
       "    <tr style=\"text-align: right;\">\n",
       "      <th></th>\n",
       "      <th>category</th>\n",
       "      <th>scientific_name</th>\n",
       "      <th>common_names</th>\n",
       "      <th>conservation_status</th>\n",
       "    </tr>\n",
       "  </thead>\n",
       "  <tbody>\n",
       "    <tr>\n",
       "      <th>0</th>\n",
       "      <td>Mammal</td>\n",
       "      <td>Clethrionomys gapperi gapperi</td>\n",
       "      <td>Gapper's Red-Backed Vole</td>\n",
       "      <td>Least Concern</td>\n",
       "    </tr>\n",
       "    <tr>\n",
       "      <th>1</th>\n",
       "      <td>Mammal</td>\n",
       "      <td>Bos bison</td>\n",
       "      <td>Bison</td>\n",
       "      <td>Least Concern</td>\n",
       "    </tr>\n",
       "    <tr>\n",
       "      <th>2</th>\n",
       "      <td>Mammal</td>\n",
       "      <td>Bos taurus</td>\n",
       "      <td>Domesticated Cattle</td>\n",
       "      <td>Least Concern</td>\n",
       "    </tr>\n",
       "    <tr>\n",
       "      <th>3</th>\n",
       "      <td>Mammal</td>\n",
       "      <td>Ovis aries</td>\n",
       "      <td>Sheep</td>\n",
       "      <td>Least Concern</td>\n",
       "    </tr>\n",
       "    <tr>\n",
       "      <th>7</th>\n",
       "      <td>Mammal</td>\n",
       "      <td>Canis latrans</td>\n",
       "      <td>Coyote</td>\n",
       "      <td>Species of Concern</td>\n",
       "    </tr>\n",
       "  </tbody>\n",
       "</table>\n",
       "</div>"
      ],
      "text/plain": [
       "  category                scientific_name              common_names conservation_status\n",
       "0   Mammal  Clethrionomys gapperi gapperi  Gapper's Red-Backed Vole       Least Concern\n",
       "1   Mammal                      Bos bison                     Bison       Least Concern\n",
       "2   Mammal                     Bos taurus       Domesticated Cattle       Least Concern\n",
       "3   Mammal                     Ovis aries                     Sheep       Least Concern\n",
       "7   Mammal                  Canis latrans                    Coyote  Species of Concern"
      ]
     },
     "execution_count": 18,
     "metadata": {},
     "output_type": "execute_result"
    }
   ],
   "source": [
    "# checking the DataFrame structure of the cleaned dataset\n",
    "species.info()\n",
    "\n",
    "species.head()"
   ]
  },
  {
   "cell_type": "markdown",
   "metadata": {},
   "source": [
    "<br>\n",
    "\n",
    "### **3.2: observations.csv**\n",
    "<a id=\"observations\"></a>\n",
    "\n",
    "<br>"
   ]
  },
  {
   "cell_type": "code",
   "execution_count": 19,
   "metadata": {},
   "outputs": [
    {
     "name": "stdout",
     "output_type": "stream",
     "text": [
      "<class 'pandas.core.frame.DataFrame'>\n",
      "RangeIndex: 23296 entries, 0 to 23295\n",
      "Data columns (total 3 columns):\n",
      " #   Column           Non-Null Count  Dtype \n",
      "---  ------           --------------  ----- \n",
      " 0   scientific_name  23296 non-null  object\n",
      " 1   park_name        23296 non-null  object\n",
      " 2   observations     23296 non-null  int64 \n",
      "dtypes: int64(1), object(2)\n",
      "memory usage: 546.1+ KB\n"
     ]
    }
   ],
   "source": [
    "# looking at the DataFrame structure\n",
    "observations.info()"
   ]
  },
  {
   "cell_type": "code",
   "execution_count": 20,
   "metadata": {},
   "outputs": [
    {
     "data": {
      "text/html": [
       "<div>\n",
       "<style scoped>\n",
       "    .dataframe tbody tr th:only-of-type {\n",
       "        vertical-align: middle;\n",
       "    }\n",
       "\n",
       "    .dataframe tbody tr th {\n",
       "        vertical-align: top;\n",
       "    }\n",
       "\n",
       "    .dataframe thead th {\n",
       "        text-align: right;\n",
       "    }\n",
       "</style>\n",
       "<table border=\"1\" class=\"dataframe\">\n",
       "  <thead>\n",
       "    <tr style=\"text-align: right;\">\n",
       "      <th></th>\n",
       "      <th>scientific_name</th>\n",
       "      <th>park_name</th>\n",
       "      <th>observations</th>\n",
       "    </tr>\n",
       "  </thead>\n",
       "  <tbody>\n",
       "    <tr>\n",
       "      <th>0</th>\n",
       "      <td>Vicia benghalensis</td>\n",
       "      <td>Great Smoky Mountains National Park</td>\n",
       "      <td>68</td>\n",
       "    </tr>\n",
       "    <tr>\n",
       "      <th>1</th>\n",
       "      <td>Neovison vison</td>\n",
       "      <td>Great Smoky Mountains National Park</td>\n",
       "      <td>77</td>\n",
       "    </tr>\n",
       "    <tr>\n",
       "      <th>2</th>\n",
       "      <td>Prunus subcordata</td>\n",
       "      <td>Yosemite National Park</td>\n",
       "      <td>138</td>\n",
       "    </tr>\n",
       "    <tr>\n",
       "      <th>3</th>\n",
       "      <td>Abutilon theophrasti</td>\n",
       "      <td>Bryce National Park</td>\n",
       "      <td>84</td>\n",
       "    </tr>\n",
       "    <tr>\n",
       "      <th>4</th>\n",
       "      <td>Githopsis specularioides</td>\n",
       "      <td>Great Smoky Mountains National Park</td>\n",
       "      <td>85</td>\n",
       "    </tr>\n",
       "  </tbody>\n",
       "</table>\n",
       "</div>"
      ],
      "text/plain": [
       "            scientific_name                            park_name  observations\n",
       "0        Vicia benghalensis  Great Smoky Mountains National Park            68\n",
       "1            Neovison vison  Great Smoky Mountains National Park            77\n",
       "2         Prunus subcordata               Yosemite National Park           138\n",
       "3      Abutilon theophrasti                  Bryce National Park            84\n",
       "4  Githopsis specularioides  Great Smoky Mountains National Park            85"
      ]
     },
     "execution_count": 20,
     "metadata": {},
     "output_type": "execute_result"
    }
   ],
   "source": [
    "# a quick look at the first few rows of data\n",
    "observations.head()"
   ]
  },
  {
   "cell_type": "code",
   "execution_count": 21,
   "metadata": {},
   "outputs": [
    {
     "data": {
      "text/html": [
       "<div>\n",
       "<style scoped>\n",
       "    .dataframe tbody tr th:only-of-type {\n",
       "        vertical-align: middle;\n",
       "    }\n",
       "\n",
       "    .dataframe tbody tr th {\n",
       "        vertical-align: top;\n",
       "    }\n",
       "\n",
       "    .dataframe thead th {\n",
       "        text-align: right;\n",
       "    }\n",
       "</style>\n",
       "<table border=\"1\" class=\"dataframe\">\n",
       "  <thead>\n",
       "    <tr style=\"text-align: right;\">\n",
       "      <th></th>\n",
       "      <th>scientific_name</th>\n",
       "      <th>park_name</th>\n",
       "      <th>observations</th>\n",
       "    </tr>\n",
       "  </thead>\n",
       "  <tbody>\n",
       "    <tr>\n",
       "      <th>1766</th>\n",
       "      <td>Canis lupus</td>\n",
       "      <td>Bryce National Park</td>\n",
       "      <td>27</td>\n",
       "    </tr>\n",
       "    <tr>\n",
       "      <th>7346</th>\n",
       "      <td>Canis lupus</td>\n",
       "      <td>Bryce National Park</td>\n",
       "      <td>29</td>\n",
       "    </tr>\n",
       "    <tr>\n",
       "      <th>9884</th>\n",
       "      <td>Canis lupus</td>\n",
       "      <td>Bryce National Park</td>\n",
       "      <td>74</td>\n",
       "    </tr>\n",
       "    <tr>\n",
       "      <th>10190</th>\n",
       "      <td>Canis lupus</td>\n",
       "      <td>Great Smoky Mountains National Park</td>\n",
       "      <td>15</td>\n",
       "    </tr>\n",
       "    <tr>\n",
       "      <th>17756</th>\n",
       "      <td>Canis lupus</td>\n",
       "      <td>Great Smoky Mountains National Park</td>\n",
       "      <td>14</td>\n",
       "    </tr>\n",
       "    <tr>\n",
       "      <th>20353</th>\n",
       "      <td>Canis lupus</td>\n",
       "      <td>Great Smoky Mountains National Park</td>\n",
       "      <td>30</td>\n",
       "    </tr>\n",
       "    <tr>\n",
       "      <th>10268</th>\n",
       "      <td>Canis lupus</td>\n",
       "      <td>Yellowstone National Park</td>\n",
       "      <td>60</td>\n",
       "    </tr>\n",
       "    <tr>\n",
       "      <th>10907</th>\n",
       "      <td>Canis lupus</td>\n",
       "      <td>Yellowstone National Park</td>\n",
       "      <td>67</td>\n",
       "    </tr>\n",
       "    <tr>\n",
       "      <th>13427</th>\n",
       "      <td>Canis lupus</td>\n",
       "      <td>Yellowstone National Park</td>\n",
       "      <td>203</td>\n",
       "    </tr>\n",
       "    <tr>\n",
       "      <th>1294</th>\n",
       "      <td>Canis lupus</td>\n",
       "      <td>Yosemite National Park</td>\n",
       "      <td>35</td>\n",
       "    </tr>\n",
       "    <tr>\n",
       "      <th>19330</th>\n",
       "      <td>Canis lupus</td>\n",
       "      <td>Yosemite National Park</td>\n",
       "      <td>117</td>\n",
       "    </tr>\n",
       "    <tr>\n",
       "      <th>19987</th>\n",
       "      <td>Canis lupus</td>\n",
       "      <td>Yosemite National Park</td>\n",
       "      <td>44</td>\n",
       "    </tr>\n",
       "  </tbody>\n",
       "</table>\n",
       "</div>"
      ],
      "text/plain": [
       "      scientific_name                            park_name  observations\n",
       "1766      Canis lupus                  Bryce National Park            27\n",
       "7346      Canis lupus                  Bryce National Park            29\n",
       "9884      Canis lupus                  Bryce National Park            74\n",
       "10190     Canis lupus  Great Smoky Mountains National Park            15\n",
       "17756     Canis lupus  Great Smoky Mountains National Park            14\n",
       "20353     Canis lupus  Great Smoky Mountains National Park            30\n",
       "10268     Canis lupus            Yellowstone National Park            60\n",
       "10907     Canis lupus            Yellowstone National Park            67\n",
       "13427     Canis lupus            Yellowstone National Park           203\n",
       "1294      Canis lupus               Yosemite National Park            35\n",
       "19330     Canis lupus               Yosemite National Park           117\n",
       "19987     Canis lupus               Yosemite National Park            44"
      ]
     },
     "metadata": {},
     "output_type": "display_data"
    },
    {
     "data": {
      "text/html": [
       "<div>\n",
       "<style scoped>\n",
       "    .dataframe tbody tr th:only-of-type {\n",
       "        vertical-align: middle;\n",
       "    }\n",
       "\n",
       "    .dataframe tbody tr th {\n",
       "        vertical-align: top;\n",
       "    }\n",
       "\n",
       "    .dataframe thead th {\n",
       "        text-align: right;\n",
       "    }\n",
       "</style>\n",
       "<table border=\"1\" class=\"dataframe\">\n",
       "  <thead>\n",
       "    <tr style=\"text-align: right;\">\n",
       "      <th></th>\n",
       "      <th>scientific_name</th>\n",
       "      <th>park_name</th>\n",
       "      <th>observations</th>\n",
       "    </tr>\n",
       "  </thead>\n",
       "  <tbody>\n",
       "    <tr>\n",
       "      <th>925</th>\n",
       "      <td>Oncorhynchus mykiss</td>\n",
       "      <td>Bryce National Park</td>\n",
       "      <td>59</td>\n",
       "    </tr>\n",
       "    <tr>\n",
       "      <th>11893</th>\n",
       "      <td>Oncorhynchus mykiss</td>\n",
       "      <td>Bryce National Park</td>\n",
       "      <td>105</td>\n",
       "    </tr>\n",
       "    <tr>\n",
       "      <th>3354</th>\n",
       "      <td>Oncorhynchus mykiss</td>\n",
       "      <td>Great Smoky Mountains National Park</td>\n",
       "      <td>61</td>\n",
       "    </tr>\n",
       "    <tr>\n",
       "      <th>15020</th>\n",
       "      <td>Oncorhynchus mykiss</td>\n",
       "      <td>Great Smoky Mountains National Park</td>\n",
       "      <td>39</td>\n",
       "    </tr>\n",
       "    <tr>\n",
       "      <th>4649</th>\n",
       "      <td>Oncorhynchus mykiss</td>\n",
       "      <td>Yellowstone National Park</td>\n",
       "      <td>119</td>\n",
       "    </tr>\n",
       "    <tr>\n",
       "      <th>8682</th>\n",
       "      <td>Oncorhynchus mykiss</td>\n",
       "      <td>Yellowstone National Park</td>\n",
       "      <td>253</td>\n",
       "    </tr>\n",
       "    <tr>\n",
       "      <th>167</th>\n",
       "      <td>Oncorhynchus mykiss</td>\n",
       "      <td>Yosemite National Park</td>\n",
       "      <td>118</td>\n",
       "    </tr>\n",
       "    <tr>\n",
       "      <th>15239</th>\n",
       "      <td>Oncorhynchus mykiss</td>\n",
       "      <td>Yosemite National Park</td>\n",
       "      <td>59</td>\n",
       "    </tr>\n",
       "  </tbody>\n",
       "</table>\n",
       "</div>"
      ],
      "text/plain": [
       "           scientific_name                            park_name  observations\n",
       "925    Oncorhynchus mykiss                  Bryce National Park            59\n",
       "11893  Oncorhynchus mykiss                  Bryce National Park           105\n",
       "3354   Oncorhynchus mykiss  Great Smoky Mountains National Park            61\n",
       "15020  Oncorhynchus mykiss  Great Smoky Mountains National Park            39\n",
       "4649   Oncorhynchus mykiss            Yellowstone National Park           119\n",
       "8682   Oncorhynchus mykiss            Yellowstone National Park           253\n",
       "167    Oncorhynchus mykiss               Yosemite National Park           118\n",
       "15239  Oncorhynchus mykiss               Yosemite National Park            59"
      ]
     },
     "metadata": {},
     "output_type": "display_data"
    }
   ],
   "source": [
    "# checking the dataframe for random species\n",
    "display(observations[observations.scientific_name == 'Canis lupus'].sort_values(by='park_name'))\n",
    "display(observations[observations.scientific_name == 'Oncorhynchus mykiss'].sort_values(by='park_name'))"
   ]
  },
  {
   "cell_type": "markdown",
   "metadata": {},
   "source": [
    "<br>\n",
    "\n",
    "It should be noted that multiple observations can be made for any species in any of the National Parks, as these datapoints correspond to different days within the 7 day period that this data was collected.\n",
    "\n",
    "These observations can be summed up to reduce the number of rows in the dataset.\n",
    "\n",
    "<br>"
   ]
  },
  {
   "cell_type": "markdown",
   "metadata": {},
   "source": [
    "<br>\n",
    "\n",
    "##### Reducing the number of rows in the dataset\n",
    "\n",
    "<br>"
   ]
  },
  {
   "cell_type": "code",
   "execution_count": 22,
   "metadata": {
    "scrolled": true
   },
   "outputs": [
    {
     "name": "stdout",
     "output_type": "stream",
     "text": [
      "Most Data Entries:\n",
      "Myotis lucifugus         12\n",
      "Columba livia            12\n",
      "Hypochaeris radicata     12\n",
      "Holcus lanatus           12\n",
      "Streptopelia decaocto    12\n",
      "Name: scientific_name, dtype: int64 \n",
      "\n",
      "Fewest Data Entries:\n",
      "Anas platyrhynchos       4\n",
      "Trifolium haydenii       4\n",
      "Eriogonum hirtiflorum    4\n",
      "Poa cusickii             4\n",
      "Populus X jackii         4\n",
      "Name: scientific_name, dtype: int64\n"
     ]
    }
   ],
   "source": [
    "# counting the number of data entries for each species\n",
    "data_entries = observations.scientific_name.value_counts()\n",
    "\n",
    "# looking at the species with the most and the fewest data entries\n",
    "print(f'Most Data Entries:\\n{data_entries[:5]} \\n')\n",
    "print(f'Fewest Data Entries:\\n{data_entries[-5:]}')"
   ]
  },
  {
   "cell_type": "code",
   "execution_count": 23,
   "metadata": {
    "scrolled": false
   },
   "outputs": [
    {
     "data": {
      "text/html": [
       "<div>\n",
       "<style scoped>\n",
       "    .dataframe tbody tr th:only-of-type {\n",
       "        vertical-align: middle;\n",
       "    }\n",
       "\n",
       "    .dataframe tbody tr th {\n",
       "        vertical-align: top;\n",
       "    }\n",
       "\n",
       "    .dataframe thead th {\n",
       "        text-align: right;\n",
       "    }\n",
       "</style>\n",
       "<table border=\"1\" class=\"dataframe\">\n",
       "  <thead>\n",
       "    <tr style=\"text-align: right;\">\n",
       "      <th></th>\n",
       "      <th>scientific_name</th>\n",
       "      <th>park_name</th>\n",
       "      <th>observations</th>\n",
       "    </tr>\n",
       "  </thead>\n",
       "  <tbody>\n",
       "    <tr>\n",
       "      <th>1865</th>\n",
       "      <td>Columba livia</td>\n",
       "      <td>Bryce National Park</td>\n",
       "      <td>135</td>\n",
       "    </tr>\n",
       "    <tr>\n",
       "      <th>2191</th>\n",
       "      <td>Columba livia</td>\n",
       "      <td>Yellowstone National Park</td>\n",
       "      <td>251</td>\n",
       "    </tr>\n",
       "    <tr>\n",
       "      <th>3255</th>\n",
       "      <td>Columba livia</td>\n",
       "      <td>Yosemite National Park</td>\n",
       "      <td>142</td>\n",
       "    </tr>\n",
       "    <tr>\n",
       "      <th>3441</th>\n",
       "      <td>Columba livia</td>\n",
       "      <td>Bryce National Park</td>\n",
       "      <td>96</td>\n",
       "    </tr>\n",
       "    <tr>\n",
       "      <th>6968</th>\n",
       "      <td>Columba livia</td>\n",
       "      <td>Bryce National Park</td>\n",
       "      <td>108</td>\n",
       "    </tr>\n",
       "    <tr>\n",
       "      <th>10468</th>\n",
       "      <td>Columba livia</td>\n",
       "      <td>Yosemite National Park</td>\n",
       "      <td>144</td>\n",
       "    </tr>\n",
       "    <tr>\n",
       "      <th>10688</th>\n",
       "      <td>Columba livia</td>\n",
       "      <td>Yellowstone National Park</td>\n",
       "      <td>232</td>\n",
       "    </tr>\n",
       "    <tr>\n",
       "      <th>11193</th>\n",
       "      <td>Columba livia</td>\n",
       "      <td>Yellowstone National Park</td>\n",
       "      <td>239</td>\n",
       "    </tr>\n",
       "    <tr>\n",
       "      <th>11859</th>\n",
       "      <td>Columba livia</td>\n",
       "      <td>Great Smoky Mountains National Park</td>\n",
       "      <td>44</td>\n",
       "    </tr>\n",
       "    <tr>\n",
       "      <th>12700</th>\n",
       "      <td>Columba livia</td>\n",
       "      <td>Great Smoky Mountains National Park</td>\n",
       "      <td>34</td>\n",
       "    </tr>\n",
       "    <tr>\n",
       "      <th>13448</th>\n",
       "      <td>Columba livia</td>\n",
       "      <td>Great Smoky Mountains National Park</td>\n",
       "      <td>91</td>\n",
       "    </tr>\n",
       "    <tr>\n",
       "      <th>17928</th>\n",
       "      <td>Columba livia</td>\n",
       "      <td>Yosemite National Park</td>\n",
       "      <td>137</td>\n",
       "    </tr>\n",
       "  </tbody>\n",
       "</table>\n",
       "</div>"
      ],
      "text/plain": [
       "      scientific_name                            park_name  observations\n",
       "1865    Columba livia                  Bryce National Park           135\n",
       "2191    Columba livia            Yellowstone National Park           251\n",
       "3255    Columba livia               Yosemite National Park           142\n",
       "3441    Columba livia                  Bryce National Park            96\n",
       "6968    Columba livia                  Bryce National Park           108\n",
       "10468   Columba livia               Yosemite National Park           144\n",
       "10688   Columba livia            Yellowstone National Park           232\n",
       "11193   Columba livia            Yellowstone National Park           239\n",
       "11859   Columba livia  Great Smoky Mountains National Park            44\n",
       "12700   Columba livia  Great Smoky Mountains National Park            34\n",
       "13448   Columba livia  Great Smoky Mountains National Park            91\n",
       "17928   Columba livia               Yosemite National Park           137"
      ]
     },
     "metadata": {},
     "output_type": "display_data"
    },
    {
     "data": {
      "text/html": [
       "<div>\n",
       "<style scoped>\n",
       "    .dataframe tbody tr th:only-of-type {\n",
       "        vertical-align: middle;\n",
       "    }\n",
       "\n",
       "    .dataframe tbody tr th {\n",
       "        vertical-align: top;\n",
       "    }\n",
       "\n",
       "    .dataframe thead th {\n",
       "        text-align: right;\n",
       "    }\n",
       "</style>\n",
       "<table border=\"1\" class=\"dataframe\">\n",
       "  <thead>\n",
       "    <tr style=\"text-align: right;\">\n",
       "      <th></th>\n",
       "      <th>scientific_name</th>\n",
       "      <th>park_name</th>\n",
       "      <th>observations</th>\n",
       "    </tr>\n",
       "  </thead>\n",
       "  <tbody>\n",
       "    <tr>\n",
       "      <th>157</th>\n",
       "      <td>Thelypodium sagittatum</td>\n",
       "      <td>Yosemite National Park</td>\n",
       "      <td>164</td>\n",
       "    </tr>\n",
       "    <tr>\n",
       "      <th>5688</th>\n",
       "      <td>Thelypodium sagittatum</td>\n",
       "      <td>Bryce National Park</td>\n",
       "      <td>121</td>\n",
       "    </tr>\n",
       "    <tr>\n",
       "      <th>6226</th>\n",
       "      <td>Thelypodium sagittatum</td>\n",
       "      <td>Yellowstone National Park</td>\n",
       "      <td>250</td>\n",
       "    </tr>\n",
       "    <tr>\n",
       "      <th>6864</th>\n",
       "      <td>Thelypodium sagittatum</td>\n",
       "      <td>Great Smoky Mountains National Park</td>\n",
       "      <td>67</td>\n",
       "    </tr>\n",
       "  </tbody>\n",
       "</table>\n",
       "</div>"
      ],
      "text/plain": [
       "             scientific_name                            park_name  observations\n",
       "157   Thelypodium sagittatum               Yosemite National Park           164\n",
       "5688  Thelypodium sagittatum                  Bryce National Park           121\n",
       "6226  Thelypodium sagittatum            Yellowstone National Park           250\n",
       "6864  Thelypodium sagittatum  Great Smoky Mountains National Park            67"
      ]
     },
     "metadata": {},
     "output_type": "display_data"
    }
   ],
   "source": [
    "# checking the dataset for the species with the most and the fewest data entries\n",
    "display(observations[observations.scientific_name == 'Columba livia'])\n",
    "display(observations[observations.scientific_name == 'Thelypodium sagittatum'])"
   ]
  },
  {
   "cell_type": "markdown",
   "metadata": {},
   "source": [
    "<br>\n",
    "\n",
    "All the species in this dataset have at least 4 data entries, however it should be confirmed whether or not these species appear in all of the National Parks.\n",
    "\n",
    "<br>"
   ]
  },
  {
   "cell_type": "code",
   "execution_count": 24,
   "metadata": {},
   "outputs": [
    {
     "name": "stdout",
     "output_type": "stream",
     "text": [
      "All of the species appear in all of the National Parks.\n"
     ]
    }
   ],
   "source": [
    "# storing a list of park names in the park_names variable\n",
    "park_names = observations.park_name.unique()\n",
    "\n",
    "# creating a loop to check if any of the species do not in all of the parks\n",
    "not_in_all_parks = []\n",
    "for species_name in observations.scientific_name.unique():\n",
    "    species_parks = observations[observations.scientific_name == species_name]\\\n",
    "                       .park_name.unique()\n",
    "    if len(park_names) != len(species_parks):\n",
    "        not_in_all_parks.append(species)\n",
    "        \n",
    "# checking to see if there are observations for every species in all of the parks\n",
    "if not_in_all_parks:\n",
    "    print('The following species do not appeear in all of the National Parks:')\n",
    "    for species_name in not_in_all_parks:\n",
    "        print(species_name)\n",
    "else:\n",
    "    print('All of the species appear in all of the National Parks.')"
   ]
  },
  {
   "cell_type": "code",
   "execution_count": 25,
   "metadata": {},
   "outputs": [
    {
     "data": {
      "text/html": [
       "<div>\n",
       "<style scoped>\n",
       "    .dataframe tbody tr th:only-of-type {\n",
       "        vertical-align: middle;\n",
       "    }\n",
       "\n",
       "    .dataframe tbody tr th {\n",
       "        vertical-align: top;\n",
       "    }\n",
       "\n",
       "    .dataframe thead th {\n",
       "        text-align: right;\n",
       "    }\n",
       "</style>\n",
       "<table border=\"1\" class=\"dataframe\">\n",
       "  <thead>\n",
       "    <tr style=\"text-align: right;\">\n",
       "      <th></th>\n",
       "      <th>park_name</th>\n",
       "      <th>scientific_name</th>\n",
       "      <th>observations</th>\n",
       "    </tr>\n",
       "  </thead>\n",
       "  <tbody>\n",
       "    <tr>\n",
       "      <th>1359</th>\n",
       "      <td>Bryce National Park</td>\n",
       "      <td>Columba livia</td>\n",
       "      <td>339</td>\n",
       "    </tr>\n",
       "    <tr>\n",
       "      <th>6900</th>\n",
       "      <td>Great Smoky Mountains National Park</td>\n",
       "      <td>Columba livia</td>\n",
       "      <td>169</td>\n",
       "    </tr>\n",
       "    <tr>\n",
       "      <th>12441</th>\n",
       "      <td>Yellowstone National Park</td>\n",
       "      <td>Columba livia</td>\n",
       "      <td>722</td>\n",
       "    </tr>\n",
       "    <tr>\n",
       "      <th>17982</th>\n",
       "      <td>Yosemite National Park</td>\n",
       "      <td>Columba livia</td>\n",
       "      <td>423</td>\n",
       "    </tr>\n",
       "  </tbody>\n",
       "</table>\n",
       "</div>"
      ],
      "text/plain": [
       "                                 park_name scientific_name  observations\n",
       "1359                   Bryce National Park   Columba livia           339\n",
       "6900   Great Smoky Mountains National Park   Columba livia           169\n",
       "12441            Yellowstone National Park   Columba livia           722\n",
       "17982               Yosemite National Park   Columba livia           423"
      ]
     },
     "metadata": {},
     "output_type": "display_data"
    },
    {
     "data": {
      "text/html": [
       "<div>\n",
       "<style scoped>\n",
       "    .dataframe tbody tr th:only-of-type {\n",
       "        vertical-align: middle;\n",
       "    }\n",
       "\n",
       "    .dataframe tbody tr th {\n",
       "        vertical-align: top;\n",
       "    }\n",
       "\n",
       "    .dataframe thead th {\n",
       "        text-align: right;\n",
       "    }\n",
       "</style>\n",
       "<table border=\"1\" class=\"dataframe\">\n",
       "  <thead>\n",
       "    <tr style=\"text-align: right;\">\n",
       "      <th></th>\n",
       "      <th>park_name</th>\n",
       "      <th>scientific_name</th>\n",
       "      <th>observations</th>\n",
       "    </tr>\n",
       "  </thead>\n",
       "  <tbody>\n",
       "    <tr>\n",
       "      <th>804</th>\n",
       "      <td>Bryce National Park</td>\n",
       "      <td>Canis lupus</td>\n",
       "      <td>130</td>\n",
       "    </tr>\n",
       "    <tr>\n",
       "      <th>6345</th>\n",
       "      <td>Great Smoky Mountains National Park</td>\n",
       "      <td>Canis lupus</td>\n",
       "      <td>59</td>\n",
       "    </tr>\n",
       "    <tr>\n",
       "      <th>11886</th>\n",
       "      <td>Yellowstone National Park</td>\n",
       "      <td>Canis lupus</td>\n",
       "      <td>330</td>\n",
       "    </tr>\n",
       "    <tr>\n",
       "      <th>17427</th>\n",
       "      <td>Yosemite National Park</td>\n",
       "      <td>Canis lupus</td>\n",
       "      <td>196</td>\n",
       "    </tr>\n",
       "  </tbody>\n",
       "</table>\n",
       "</div>"
      ],
      "text/plain": [
       "                                 park_name scientific_name  observations\n",
       "804                    Bryce National Park     Canis lupus           130\n",
       "6345   Great Smoky Mountains National Park     Canis lupus            59\n",
       "11886            Yellowstone National Park     Canis lupus           330\n",
       "17427               Yosemite National Park     Canis lupus           196"
      ]
     },
     "metadata": {},
     "output_type": "display_data"
    },
    {
     "data": {
      "text/html": [
       "<div>\n",
       "<style scoped>\n",
       "    .dataframe tbody tr th:only-of-type {\n",
       "        vertical-align: middle;\n",
       "    }\n",
       "\n",
       "    .dataframe tbody tr th {\n",
       "        vertical-align: top;\n",
       "    }\n",
       "\n",
       "    .dataframe thead th {\n",
       "        text-align: right;\n",
       "    }\n",
       "</style>\n",
       "<table border=\"1\" class=\"dataframe\">\n",
       "  <thead>\n",
       "    <tr style=\"text-align: right;\">\n",
       "      <th></th>\n",
       "      <th>park_name</th>\n",
       "      <th>scientific_name</th>\n",
       "      <th>observations</th>\n",
       "    </tr>\n",
       "  </thead>\n",
       "  <tbody>\n",
       "    <tr>\n",
       "      <th>4109</th>\n",
       "      <td>Bryce National Park</td>\n",
       "      <td>Procyon lotor</td>\n",
       "      <td>247</td>\n",
       "    </tr>\n",
       "    <tr>\n",
       "      <th>9650</th>\n",
       "      <td>Great Smoky Mountains National Park</td>\n",
       "      <td>Procyon lotor</td>\n",
       "      <td>247</td>\n",
       "    </tr>\n",
       "    <tr>\n",
       "      <th>15191</th>\n",
       "      <td>Yellowstone National Park</td>\n",
       "      <td>Procyon lotor</td>\n",
       "      <td>745</td>\n",
       "    </tr>\n",
       "    <tr>\n",
       "      <th>20732</th>\n",
       "      <td>Yosemite National Park</td>\n",
       "      <td>Procyon lotor</td>\n",
       "      <td>453</td>\n",
       "    </tr>\n",
       "  </tbody>\n",
       "</table>\n",
       "</div>"
      ],
      "text/plain": [
       "                                 park_name scientific_name  observations\n",
       "4109                   Bryce National Park   Procyon lotor           247\n",
       "9650   Great Smoky Mountains National Park   Procyon lotor           247\n",
       "15191            Yellowstone National Park   Procyon lotor           745\n",
       "20732               Yosemite National Park   Procyon lotor           453"
      ]
     },
     "metadata": {},
     "output_type": "display_data"
    }
   ],
   "source": [
    "# grouping the data entries by park name and summing the observations for each species\n",
    "grouping = ['park_name', 'scientific_name']\n",
    "observations = observations.groupby(grouping).observations.sum().reset_index()\n",
    "\n",
    "# checking a few of the species that previously had more than 4 data entries\n",
    "display(observations[observations.scientific_name == 'Columba livia'])\n",
    "display(observations[observations.scientific_name == 'Canis lupus'])\n",
    "display(observations[observations.scientific_name == 'Procyon lotor'])"
   ]
  },
  {
   "cell_type": "code",
   "execution_count": 26,
   "metadata": {},
   "outputs": [
    {
     "name": "stdout",
     "output_type": "stream",
     "text": [
      "expected number of rows: 22164\n",
      "observed number of rows: 22164 \n",
      "\n",
      "<class 'pandas.core.frame.DataFrame'>\n",
      "RangeIndex: 22164 entries, 0 to 22163\n",
      "Data columns (total 3 columns):\n",
      " #   Column           Non-Null Count  Dtype \n",
      "---  ------           --------------  ----- \n",
      " 0   park_name        22164 non-null  object\n",
      " 1   scientific_name  22164 non-null  object\n",
      " 2   observations     22164 non-null  int64 \n",
      "dtypes: int64(1), object(2)\n",
      "memory usage: 519.6+ KB\n"
     ]
    }
   ],
   "source": [
    "# it is expected that there should be 4 data entries for each species, one for each park \n",
    "# therefore the expected number of rows is four times the number of species\n",
    "print(f'expected number of rows: {observations.scientific_name.nunique() * 4}')\n",
    "print(f'observed number of rows: {len(observations)}', '\\n')\n",
    "\n",
    "# checking the DataFrame structure of the cleaned dataset\n",
    "observations.info()"
   ]
  },
  {
   "cell_type": "markdown",
   "metadata": {},
   "source": [
    "<br>\n",
    "\n",
    "### **3.3: Merged Data**\n",
    "<a id=\"merged\"></a>\n",
    "\n",
    "<br>"
   ]
  },
  {
   "cell_type": "markdown",
   "metadata": {},
   "source": [
    "<br>\n",
    "\n",
    "The final part of the *Data Cleaning* process is to merge the datasets into a single dataframe for analysis.\n",
    "\n",
    "Based on the data dictionaries of the datasets shown below, the datasets should be merged on the `scientific_name` column.\n",
    "\n",
    "<br>"
   ]
  },
  {
   "cell_type": "markdown",
   "metadata": {},
   "source": [
    "<br>\n",
    "\n",
    "#### species data dictionary:\n",
    "\n",
    "The cleaned `species` dataset contains the information of all the different species in the U.S. National Parks. \n",
    "\n",
    "The columns of the data set include:\n",
    "- **category** - The Taxonomic category fo each species\n",
    "- **scientific_name** - The scientific name of each species\n",
    "- **common_names** - The common name of each species\n",
    "- **conservation_status** - The conservation status of each species\n",
    "\n",
    "<br>\n",
    "\n",
    "#### observations data dictionary:\n",
    "\n",
    "The cleaned `observations` dataset contains information from recorded sightings of different species throughout each of the U.S. National Parks over a 7 day period. \n",
    "\n",
    "The columns included are:\n",
    "- **scientific_name** - The scientific name of each species\n",
    "- **park_name** - The name of the National Park\n",
    "- **observations** - The total number of observations collected over a 7 day period\n",
    "\n",
    "<br>"
   ]
  },
  {
   "cell_type": "code",
   "execution_count": 27,
   "metadata": {},
   "outputs": [
    {
     "name": "stdout",
     "output_type": "stream",
     "text": [
      "species shape: (5541, 4)\n",
      "observations shape: (22164, 3)\n"
     ]
    }
   ],
   "source": [
    "print(f'species shape: {species.shape}')\n",
    "print(f'observations shape: {observations.shape}')"
   ]
  },
  {
   "cell_type": "markdown",
   "metadata": {},
   "source": [
    "<br>\n",
    "\n",
    "##### Data Characteristics\n",
    "A quick look at the dimensions of the two datasets shows that `species` has 5,541 rows and 4 columns while `observations` has 22,164 rows and 3 columns.\n",
    "\n",
    "<br>"
   ]
  },
  {
   "cell_type": "code",
   "execution_count": 28,
   "metadata": {},
   "outputs": [
    {
     "data": {
      "text/html": [
       "<div>\n",
       "<style scoped>\n",
       "    .dataframe tbody tr th:only-of-type {\n",
       "        vertical-align: middle;\n",
       "    }\n",
       "\n",
       "    .dataframe tbody tr th {\n",
       "        vertical-align: top;\n",
       "    }\n",
       "\n",
       "    .dataframe thead th {\n",
       "        text-align: right;\n",
       "    }\n",
       "</style>\n",
       "<table border=\"1\" class=\"dataframe\">\n",
       "  <thead>\n",
       "    <tr style=\"text-align: right;\">\n",
       "      <th></th>\n",
       "      <th>category</th>\n",
       "      <th>scientific_name</th>\n",
       "      <th>common_names</th>\n",
       "      <th>conservation_status</th>\n",
       "    </tr>\n",
       "  </thead>\n",
       "  <tbody>\n",
       "    <tr>\n",
       "      <th>0</th>\n",
       "      <td>Mammal</td>\n",
       "      <td>Clethrionomys gapperi gapperi</td>\n",
       "      <td>Gapper's Red-Backed Vole</td>\n",
       "      <td>Least Concern</td>\n",
       "    </tr>\n",
       "    <tr>\n",
       "      <th>1</th>\n",
       "      <td>Mammal</td>\n",
       "      <td>Bos bison</td>\n",
       "      <td>Bison</td>\n",
       "      <td>Least Concern</td>\n",
       "    </tr>\n",
       "  </tbody>\n",
       "</table>\n",
       "</div>"
      ],
      "text/plain": [
       "  category                scientific_name              common_names conservation_status\n",
       "0   Mammal  Clethrionomys gapperi gapperi  Gapper's Red-Backed Vole       Least Concern\n",
       "1   Mammal                      Bos bison                     Bison       Least Concern"
      ]
     },
     "metadata": {},
     "output_type": "display_data"
    },
    {
     "data": {
      "text/html": [
       "<div>\n",
       "<style scoped>\n",
       "    .dataframe tbody tr th:only-of-type {\n",
       "        vertical-align: middle;\n",
       "    }\n",
       "\n",
       "    .dataframe tbody tr th {\n",
       "        vertical-align: top;\n",
       "    }\n",
       "\n",
       "    .dataframe thead th {\n",
       "        text-align: right;\n",
       "    }\n",
       "</style>\n",
       "<table border=\"1\" class=\"dataframe\">\n",
       "  <thead>\n",
       "    <tr style=\"text-align: right;\">\n",
       "      <th></th>\n",
       "      <th>park_name</th>\n",
       "      <th>scientific_name</th>\n",
       "      <th>observations</th>\n",
       "    </tr>\n",
       "  </thead>\n",
       "  <tbody>\n",
       "    <tr>\n",
       "      <th>0</th>\n",
       "      <td>Bryce National Park</td>\n",
       "      <td>Abies bifolia</td>\n",
       "      <td>109</td>\n",
       "    </tr>\n",
       "    <tr>\n",
       "      <th>1</th>\n",
       "      <td>Bryce National Park</td>\n",
       "      <td>Abies concolor</td>\n",
       "      <td>83</td>\n",
       "    </tr>\n",
       "  </tbody>\n",
       "</table>\n",
       "</div>"
      ],
      "text/plain": [
       "             park_name scientific_name  observations\n",
       "0  Bryce National Park   Abies bifolia           109\n",
       "1  Bryce National Park  Abies concolor            83"
      ]
     },
     "metadata": {},
     "output_type": "display_data"
    },
    {
     "data": {
      "text/html": [
       "<div>\n",
       "<style scoped>\n",
       "    .dataframe tbody tr th:only-of-type {\n",
       "        vertical-align: middle;\n",
       "    }\n",
       "\n",
       "    .dataframe tbody tr th {\n",
       "        vertical-align: top;\n",
       "    }\n",
       "\n",
       "    .dataframe thead th {\n",
       "        text-align: right;\n",
       "    }\n",
       "</style>\n",
       "<table border=\"1\" class=\"dataframe\">\n",
       "  <thead>\n",
       "    <tr style=\"text-align: right;\">\n",
       "      <th></th>\n",
       "      <th>park_name</th>\n",
       "      <th>scientific_name</th>\n",
       "      <th>observations</th>\n",
       "      <th>category</th>\n",
       "      <th>common_names</th>\n",
       "      <th>conservation_status</th>\n",
       "    </tr>\n",
       "  </thead>\n",
       "  <tbody>\n",
       "    <tr>\n",
       "      <th>0</th>\n",
       "      <td>Bryce</td>\n",
       "      <td>Abies bifolia</td>\n",
       "      <td>109</td>\n",
       "      <td>Vascular Plant</td>\n",
       "      <td>Rocky Mountain Alpine Fir</td>\n",
       "      <td>Least Concern</td>\n",
       "    </tr>\n",
       "    <tr>\n",
       "      <th>1</th>\n",
       "      <td>Great Smoky Mountains</td>\n",
       "      <td>Abies bifolia</td>\n",
       "      <td>72</td>\n",
       "      <td>Vascular Plant</td>\n",
       "      <td>Rocky Mountain Alpine Fir</td>\n",
       "      <td>Least Concern</td>\n",
       "    </tr>\n",
       "    <tr>\n",
       "      <th>2</th>\n",
       "      <td>Yellowstone</td>\n",
       "      <td>Abies bifolia</td>\n",
       "      <td>215</td>\n",
       "      <td>Vascular Plant</td>\n",
       "      <td>Rocky Mountain Alpine Fir</td>\n",
       "      <td>Least Concern</td>\n",
       "    </tr>\n",
       "    <tr>\n",
       "      <th>3</th>\n",
       "      <td>Yosemite</td>\n",
       "      <td>Abies bifolia</td>\n",
       "      <td>136</td>\n",
       "      <td>Vascular Plant</td>\n",
       "      <td>Rocky Mountain Alpine Fir</td>\n",
       "      <td>Least Concern</td>\n",
       "    </tr>\n",
       "    <tr>\n",
       "      <th>4</th>\n",
       "      <td>Bryce</td>\n",
       "      <td>Abies concolor</td>\n",
       "      <td>83</td>\n",
       "      <td>Vascular Plant</td>\n",
       "      <td>White Fir</td>\n",
       "      <td>Least Concern</td>\n",
       "    </tr>\n",
       "  </tbody>\n",
       "</table>\n",
       "</div>"
      ],
      "text/plain": [
       "               park_name scientific_name  observations        category               common_names conservation_status\n",
       "0                  Bryce   Abies bifolia           109  Vascular Plant  Rocky Mountain Alpine Fir       Least Concern\n",
       "1  Great Smoky Mountains   Abies bifolia            72  Vascular Plant  Rocky Mountain Alpine Fir       Least Concern\n",
       "2            Yellowstone   Abies bifolia           215  Vascular Plant  Rocky Mountain Alpine Fir       Least Concern\n",
       "3               Yosemite   Abies bifolia           136  Vascular Plant  Rocky Mountain Alpine Fir       Least Concern\n",
       "4                  Bryce  Abies concolor            83  Vascular Plant                  White Fir       Least Concern"
      ]
     },
     "metadata": {},
     "output_type": "display_data"
    }
   ],
   "source": [
    "# datasets will be merged on the \"scientific_name\" column\n",
    "display(species.head(2))\n",
    "display(observations.head(2))\n",
    "\n",
    "# merging data into one dataframe\n",
    "biodiversity = pd.merge(observations, species, on='scientific_name')\n",
    "\n",
    "# removing \"National Park\" from park names\n",
    "biodiversity.park_name = biodiversity.park_name.apply(lambda x: re.sub(' National Park', '', x))\n",
    "display(biodiversity.head())"
   ]
  },
  {
   "cell_type": "code",
   "execution_count": 29,
   "metadata": {},
   "outputs": [
    {
     "data": {
      "text/html": [
       "<div>\n",
       "<style scoped>\n",
       "    .dataframe tbody tr th:only-of-type {\n",
       "        vertical-align: middle;\n",
       "    }\n",
       "\n",
       "    .dataframe tbody tr th {\n",
       "        vertical-align: top;\n",
       "    }\n",
       "\n",
       "    .dataframe thead th {\n",
       "        text-align: right;\n",
       "    }\n",
       "</style>\n",
       "<table border=\"1\" class=\"dataframe\">\n",
       "  <thead>\n",
       "    <tr style=\"text-align: right;\">\n",
       "      <th></th>\n",
       "      <th>park_name</th>\n",
       "      <th>scientific_name</th>\n",
       "      <th>category</th>\n",
       "      <th>common_names</th>\n",
       "      <th>conservation_status</th>\n",
       "      <th>observations</th>\n",
       "    </tr>\n",
       "  </thead>\n",
       "  <tbody>\n",
       "    <tr>\n",
       "      <th>0</th>\n",
       "      <td>Bryce</td>\n",
       "      <td>Abies bifolia</td>\n",
       "      <td>Vascular Plant</td>\n",
       "      <td>Rocky Mountain Alpine Fir</td>\n",
       "      <td>Least Concern</td>\n",
       "      <td>109</td>\n",
       "    </tr>\n",
       "    <tr>\n",
       "      <th>1</th>\n",
       "      <td>Great Smoky Mountains</td>\n",
       "      <td>Abies bifolia</td>\n",
       "      <td>Vascular Plant</td>\n",
       "      <td>Rocky Mountain Alpine Fir</td>\n",
       "      <td>Least Concern</td>\n",
       "      <td>72</td>\n",
       "    </tr>\n",
       "    <tr>\n",
       "      <th>2</th>\n",
       "      <td>Yellowstone</td>\n",
       "      <td>Abies bifolia</td>\n",
       "      <td>Vascular Plant</td>\n",
       "      <td>Rocky Mountain Alpine Fir</td>\n",
       "      <td>Least Concern</td>\n",
       "      <td>215</td>\n",
       "    </tr>\n",
       "    <tr>\n",
       "      <th>3</th>\n",
       "      <td>Yosemite</td>\n",
       "      <td>Abies bifolia</td>\n",
       "      <td>Vascular Plant</td>\n",
       "      <td>Rocky Mountain Alpine Fir</td>\n",
       "      <td>Least Concern</td>\n",
       "      <td>136</td>\n",
       "    </tr>\n",
       "    <tr>\n",
       "      <th>4</th>\n",
       "      <td>Bryce</td>\n",
       "      <td>Abies concolor</td>\n",
       "      <td>Vascular Plant</td>\n",
       "      <td>White Fir</td>\n",
       "      <td>Least Concern</td>\n",
       "      <td>83</td>\n",
       "    </tr>\n",
       "  </tbody>\n",
       "</table>\n",
       "</div>"
      ],
      "text/plain": [
       "               park_name scientific_name        category               common_names conservation_status  observations\n",
       "0                  Bryce   Abies bifolia  Vascular Plant  Rocky Mountain Alpine Fir       Least Concern           109\n",
       "1  Great Smoky Mountains   Abies bifolia  Vascular Plant  Rocky Mountain Alpine Fir       Least Concern            72\n",
       "2            Yellowstone   Abies bifolia  Vascular Plant  Rocky Mountain Alpine Fir       Least Concern           215\n",
       "3               Yosemite   Abies bifolia  Vascular Plant  Rocky Mountain Alpine Fir       Least Concern           136\n",
       "4                  Bryce  Abies concolor  Vascular Plant                  White Fir       Least Concern            83"
      ]
     },
     "metadata": {},
     "output_type": "display_data"
    }
   ],
   "source": [
    "# reordering the columns in the dataset\n",
    "biodiversity = biodiversity[['park_name', 'scientific_name', 'category',\n",
    "       'common_names', 'conservation_status', 'observations']]\n",
    "\n",
    "# checking first few rows of the dataset\n",
    "display(biodiversity.head())"
   ]
  },
  {
   "cell_type": "code",
   "execution_count": 30,
   "metadata": {},
   "outputs": [
    {
     "name": "stdout",
     "output_type": "stream",
     "text": [
      "observations length = 22164\n",
      "biodiversity length = 22164 \n",
      "\n",
      "observations dataset: number of species = 5541\n",
      "species dataset: number of species = 5541\n",
      "biodiversity dataset: number of species = 5541 \n",
      "\n",
      "species dataset: number of categories = 7\n",
      "biodiversity dataset: number of categories = 7 \n",
      "\n",
      "observations dataset: number of parks = 4\n",
      "biodiversity dataset: number of parks = 4\n"
     ]
    }
   ],
   "source": [
    "# quick check to ensure datasets were properly merged\n",
    "print(f'observations length = {len(observations)}')\n",
    "print(f'biodiversity length = {len(biodiversity)}', '\\n')\n",
    "\n",
    "# checking the number of species\n",
    "print(f'observations dataset: number of species = {observations.scientific_name.nunique()}')\n",
    "print(f'species dataset: number of species = {species.scientific_name.nunique()}')\n",
    "print(f'biodiversity dataset: number of species = {biodiversity.scientific_name.nunique()}', '\\n')\n",
    "\n",
    "# checking the number of categories\n",
    "print(f'species dataset: number of categories = {species.category.nunique()}')\n",
    "print(f'biodiversity dataset: number of categories = {biodiversity.category.nunique()}', '\\n')\n",
    "\n",
    "# checking the number of parks\n",
    "print(f'observations dataset: number of parks = {observations.park_name.nunique()}')\n",
    "print(f'biodiversity dataset: number of parks = {biodiversity.park_name.nunique()}')"
   ]
  },
  {
   "cell_type": "code",
   "execution_count": 31,
   "metadata": {},
   "outputs": [
    {
     "name": "stdout",
     "output_type": "stream",
     "text": [
      "<class 'pandas.core.frame.DataFrame'>\n",
      "Int64Index: 22164 entries, 0 to 22163\n",
      "Data columns (total 6 columns):\n",
      " #   Column               Non-Null Count  Dtype \n",
      "---  ------               --------------  ----- \n",
      " 0   park_name            22164 non-null  object\n",
      " 1   scientific_name      22164 non-null  object\n",
      " 2   category             22164 non-null  object\n",
      " 3   common_names         22164 non-null  object\n",
      " 4   conservation_status  22164 non-null  object\n",
      " 5   observations         22164 non-null  int64 \n",
      "dtypes: int64(1), object(5)\n",
      "memory usage: 1.2+ MB\n"
     ]
    }
   ],
   "source": [
    "# checking dataframe structure\n",
    "biodiversity.info()"
   ]
  },
  {
   "cell_type": "code",
   "execution_count": 32,
   "metadata": {},
   "outputs": [],
   "source": [
    "# exporting the cleaned dataset into a .csv file title \"biodiversity.csv\"\n",
    "biodiversity.to_csv('biodiversity.csv', index=False)"
   ]
  },
  {
   "cell_type": "markdown",
   "metadata": {},
   "source": [
    "<br>\n",
    "\n",
    "#### biodiversity data dictionary:\n",
    "\n",
    "The cleaned and merged dataset has 6 columns. The columns of the data set include:\n",
    "- **park_name** - The names of the four National Parks\n",
    "- **scientific_name** - The scientific names of the 5,541 species found in the National Parks\n",
    "- **category** - The 7 taxonomic categories of the species in the National Parks\n",
    "- **common_names** - The common name of each species\n",
    "- **conservation_status** - The 5 conservation statuses of the species in the National Parks\n",
    "- **observations** - The total number of sightings, per park, for each species collected over a 7 day period\n",
    "\n",
    "<br>"
   ]
  },
  {
   "cell_type": "markdown",
   "metadata": {},
   "source": [
    "<br>\n",
    "\n",
    "### **4: Questions and Analysis**\n",
    "<a id=\"q_analysis\"> </a>\n",
    "\n",
    "<br>"
   ]
  },
  {
   "cell_type": "markdown",
   "metadata": {},
   "source": [
    "<br>\n",
    "\n",
    "#### **4.1: Which species were observed the most at each park?**\n",
    "<a id=\"q1\" ></a>\n",
    "\n",
    "<br>"
   ]
  },
  {
   "cell_type": "code",
   "execution_count": 33,
   "metadata": {},
   "outputs": [
    {
     "name": "stdout",
     "output_type": "stream",
     "text": [
      "National Park: Bryce\n",
      "            category              common_names  observations\n",
      "0     Vascular Plant                     Sedge          1529\n",
      "1     Vascular Plant               Panic Grass          1182\n",
      "2     Vascular Plant                 Wild Oats           737\n",
      "3  Nonvascular Plant             Dicranum Moss           707\n",
      "4     Vascular Plant  Sulphur-Flower Buckwheat           698 \n",
      "\n",
      "National Park: Great Smoky Mountains\n",
      "            category        common_names  observations\n",
      "0     Vascular Plant               Sedge          1223\n",
      "1     Vascular Plant         Panic Grass           914\n",
      "2  Nonvascular Plant       Dicranum Moss           544\n",
      "3  Nonvascular Plant  Brachythecium Moss           499\n",
      "4  Nonvascular Plant          Bryum Moss           469 \n",
      "\n",
      "National Park: Yellowstone\n",
      "            category              common_names  observations\n",
      "0     Vascular Plant                     Sedge          4051\n",
      "1     Vascular Plant               Panic Grass          3080\n",
      "2     Vascular Plant  Sulphur-Flower Buckwheat          1794\n",
      "3  Nonvascular Plant             Dicranum Moss          1779\n",
      "4  Nonvascular Plant        Brachythecium Moss          1673 \n",
      "\n",
      "National Park: Yosemite\n",
      "            category              common_names  observations\n",
      "0     Vascular Plant                     Sedge          2388\n",
      "1     Vascular Plant               Panic Grass          1879\n",
      "2  Nonvascular Plant        Brachythecium Moss          1066\n",
      "3     Vascular Plant  Sulphur-Flower Buckwheat          1054\n",
      "4  Nonvascular Plant             Dicranum Moss           978 \n",
      "\n"
     ]
    }
   ],
   "source": [
    "# most observed species by park\n",
    "species_per_park = biodiversity.groupby(['park_name', 'category', 'common_names'])\\\n",
    "                               .observations.sum()\n",
    "\n",
    "# display the top 5 observed species in each park\n",
    "for park in species_per_park.index.levels[0]:\n",
    "    sorted_per_park = species_per_park[park].sort_values(ascending=False).reset_index()\n",
    "    \n",
    "    print(f'National Park: {park}')\n",
    "    print(sorted_per_park.head(5),'\\n')"
   ]
  },
  {
   "cell_type": "markdown",
   "metadata": {},
   "source": [
    "<br>\n",
    "\n",
    "#### **Figure 1: Top 5 Most Observed Species by National Park**\n",
    "<a id=\"figure1\" ></a>\n",
    "\n",
    "<br>"
   ]
  },
  {
   "cell_type": "code",
   "execution_count": 34,
   "metadata": {
    "scrolled": false
   },
   "outputs": [
    {
     "data": {
      "image/png": "[encoded data removed]",
      "text/plain": [
       "<Figure size 1600x1200 with 4 Axes>"
      ]
     },
     "metadata": {},
     "output_type": "display_data"
    }
   ],
   "source": [
    "# this observations distribution is another indicator that this dataset is fictional!\n",
    "\n",
    "# define the parks and subplots layout\n",
    "parks = species_per_park.index.levels[0]\n",
    "num_parks = len(parks)\n",
    "\n",
    "# define colors for each park\n",
    "colors = ['#33658a', '#86bbd8', '#f6ae2d', '#f26419']\n",
    "\n",
    "# create the figure and subplots\n",
    "fig, axes = plt.subplots(2, 2, figsize=(16, 12))\n",
    "axes = axes.flatten()\n",
    "\n",
    "# iterate over each park\n",
    "for i, park in enumerate(parks):\n",
    "    sorted_species = species_per_park.loc[park].sort_values(ascending=False)\n",
    "\n",
    "    # get the top 5 species for the current park\n",
    "    top_species = sorted_species.head(5)\n",
    "\n",
    "    # generate the bar graph\n",
    "    ax = axes[i]\n",
    "    ax.bar(top_species.index.get_level_values('common_names'), top_species.values, \n",
    "           edgecolor='black', color=colors[i])\n",
    "\n",
    "    # add annotations on top of each bar\n",
    "    for j, v in enumerate(top_species.values):\n",
    "        ax.text(j, v + 10, str(v), ha='center')\n",
    "\n",
    "    ax.set_title(park)\n",
    "\n",
    "# set the title for the whole figure\n",
    "fig.suptitle('Most Observed Species by National Park', fontsize=16)\n",
    "\n",
    "# set x-axis tick positions and labels\n",
    "for ax in axes:\n",
    "    ax.set_xticks(range(len(top_species.index)))\n",
    "    ax.set_xticklabels(top_species.index.get_level_values('common_names'), rotation=30)\n",
    "\n",
    "# adjust the spacing between subplots\n",
    "fig.tight_layout(pad=1.5)\n",
    "\n",
    "# save the figure\n",
    "plt.savefig('Figure1.png', dpi=300, bbox_inches='tight')\n",
    "\n",
    "# display the figure\n",
    "plt.show()"
   ]
  },
  {
   "cell_type": "markdown",
   "metadata": {},
   "source": [
    "<br>\n",
    "\n",
    "#### **Figure 2: Total Observations by Park**\n",
    "<a id=\"figure2\"></a>\n",
    "\n",
    "<br>"
   ]
  },
  {
   "cell_type": "code",
   "execution_count": 35,
   "metadata": {},
   "outputs": [
    {
     "data": {
      "text/html": [
       "<div>\n",
       "<style scoped>\n",
       "    .dataframe tbody tr th:only-of-type {\n",
       "        vertical-align: middle;\n",
       "    }\n",
       "\n",
       "    .dataframe tbody tr th {\n",
       "        vertical-align: top;\n",
       "    }\n",
       "\n",
       "    .dataframe thead th {\n",
       "        text-align: right;\n",
       "    }\n",
       "</style>\n",
       "<table border=\"1\" class=\"dataframe\">\n",
       "  <thead>\n",
       "    <tr style=\"text-align: right;\">\n",
       "      <th></th>\n",
       "      <th>park_name</th>\n",
       "      <th>observations</th>\n",
       "    </tr>\n",
       "  </thead>\n",
       "  <tbody>\n",
       "    <tr>\n",
       "      <th>0</th>\n",
       "      <td>Yellowstone</td>\n",
       "      <td>1443562</td>\n",
       "    </tr>\n",
       "    <tr>\n",
       "      <th>1</th>\n",
       "      <td>Yosemite</td>\n",
       "      <td>863332</td>\n",
       "    </tr>\n",
       "    <tr>\n",
       "      <th>2</th>\n",
       "      <td>Bryce</td>\n",
       "      <td>576025</td>\n",
       "    </tr>\n",
       "    <tr>\n",
       "      <th>3</th>\n",
       "      <td>Great Smoky Mountains</td>\n",
       "      <td>431820</td>\n",
       "    </tr>\n",
       "  </tbody>\n",
       "</table>\n",
       "</div>"
      ],
      "text/plain": [
       "               park_name  observations\n",
       "0            Yellowstone       1443562\n",
       "1               Yosemite        863332\n",
       "2                  Bryce        576025\n",
       "3  Great Smoky Mountains        431820"
      ]
     },
     "metadata": {},
     "output_type": "display_data"
    },
    {
     "data": {
      "image/png": "[encoded data removed]",
      "text/plain": [
       "<Figure size 800x600 with 1 Axes>"
      ]
     },
     "metadata": {},
     "output_type": "display_data"
    }
   ],
   "source": [
    "# adjust the plot size \n",
    "plt.subplots(figsize=(8, 6))\n",
    "\n",
    "# sum and sort the observations for each category\n",
    "total_observations_by_park = biodiversity.groupby('park_name')['observations'].sum()\\\n",
    "                                         .sort_values(ascending=False).reset_index()\n",
    "\n",
    "display(total_observations_by_park)\n",
    "\n",
    "# divide by thousand for readability\n",
    "total_observations_by_park['observations'] = total_observations_by_park['observations'] / 1000\n",
    "\n",
    "# define colors for each park\n",
    "colors = ['#f6ae2d', '#f26419', '#33658a', '#86bbd8']\n",
    "\n",
    "# seaborn barplot\n",
    "sns.barplot(data=total_observations_by_park, x='park_name', y='observations', ec='k', palette=colors)\n",
    "plt.title('Total Observations by Park')\n",
    "plt.xlabel('Park Name')\n",
    "plt.ylabel('Number of Observations (thousands)')\n",
    "\n",
    "# add annotations\n",
    "for index, value in enumerate(total_observations_by_park['observations']):\n",
    "    plt.text(index, value, f'{(value/total_observations_by_park.observations.sum() * 100):.0f}%', ha='center', va='bottom')\n",
    "\n",
    "# format x-axis labels \n",
    "plt.xticks(rotation=25)\n",
    "\n",
    "# save the figure\n",
    "plt.savefig('Figure2.png', dpi=300, bbox_inches='tight')\n",
    "\n",
    "# display the figure\n",
    "plt.show()"
   ]
  },
  {
   "cell_type": "markdown",
   "metadata": {},
   "source": [
    "<br>\n",
    "\n",
    "#### **Figure 3: Top 5 Most Observed Species by Category**\n",
    "<a id=\"figure3\"></a>\n",
    "\n",
    "<br>"
   ]
  },
  {
   "cell_type": "code",
   "execution_count": 36,
   "metadata": {},
   "outputs": [
    {
     "data": {
      "text/html": [
       "<style  type=\"text/css\" >\n",
       "</style><table id=\"T_cf0d2_\" ><caption>Category: Amphibian</caption><thead>    <tr>        <th class=\"blank level0\" ></th>        <th class=\"col_heading level0 col0\" >common_names</th>        <th class=\"col_heading level0 col1\" >observations</th>    </tr></thead><tbody>\n",
       "                <tr>\n",
       "                        <th id=\"T_cf0d2_level0_row0\" class=\"row_heading level0 row0\" >1</th>\n",
       "                        <td id=\"T_cf0d2_row0_col0\" class=\"data row0 col0\" >Bullfrog</td>\n",
       "                        <td id=\"T_cf0d2_row0_col1\" class=\"data row0 col1\" >1650</td>\n",
       "            </tr>\n",
       "            <tr>\n",
       "                        <th id=\"T_cf0d2_level0_row1\" class=\"row_heading level0 row1\" >2</th>\n",
       "                        <td id=\"T_cf0d2_row1_col0\" class=\"data row1 col0\" >Woodhouse's Toad</td>\n",
       "                        <td id=\"T_cf0d2_row1_col1\" class=\"data row1 col1\" >1099</td>\n",
       "            </tr>\n",
       "            <tr>\n",
       "                        <th id=\"T_cf0d2_level0_row2\" class=\"row_heading level0 row2\" >3</th>\n",
       "                        <td id=\"T_cf0d2_row2_col0\" class=\"data row2 col0\" >Pickerel Frog</td>\n",
       "                        <td id=\"T_cf0d2_row2_col1\" class=\"data row2 col1\" >677</td>\n",
       "            </tr>\n",
       "            <tr>\n",
       "                        <th id=\"T_cf0d2_level0_row3\" class=\"row_heading level0 row3\" >4</th>\n",
       "                        <td id=\"T_cf0d2_row3_col0\" class=\"data row3 col0\" >Marbled Salamander</td>\n",
       "                        <td id=\"T_cf0d2_row3_col1\" class=\"data row3 col1\" >661</td>\n",
       "            </tr>\n",
       "            <tr>\n",
       "                        <th id=\"T_cf0d2_level0_row4\" class=\"row_heading level0 row4\" >5</th>\n",
       "                        <td id=\"T_cf0d2_row4_col0\" class=\"data row4 col0\" >Eastern Mud Salamander</td>\n",
       "                        <td id=\"T_cf0d2_row4_col1\" class=\"data row4 col1\" >656</td>\n",
       "            </tr>\n",
       "    </tbody></table>"
      ],
      "text/plain": [
       "<pandas.io.formats.style.Styler at 0x7f921e7344f0>"
      ]
     },
     "metadata": {},
     "output_type": "display_data"
    },
    {
     "data": {
      "text/html": [
       "<style  type=\"text/css\" >\n",
       "</style><table id=\"T_2ff7f_\" ><caption>Category: Bird</caption><thead>    <tr>        <th class=\"blank level0\" ></th>        <th class=\"col_heading level0 col0\" >common_names</th>        <th class=\"col_heading level0 col1\" >observations</th>    </tr></thead><tbody>\n",
       "                <tr>\n",
       "                        <th id=\"T_2ff7f_level0_row0\" class=\"row_heading level0 row0\" >1</th>\n",
       "                        <td id=\"T_2ff7f_row0_col0\" class=\"data row0 col0\" >Eurasian Collared Dove</td>\n",
       "                        <td id=\"T_2ff7f_row0_col1\" class=\"data row0 col1\" >1785</td>\n",
       "            </tr>\n",
       "            <tr>\n",
       "                        <th id=\"T_2ff7f_level0_row1\" class=\"row_heading level0 row1\" >2</th>\n",
       "                        <td id=\"T_2ff7f_row1_col0\" class=\"data row1 col0\" >Eastern Screech-Owl</td>\n",
       "                        <td id=\"T_2ff7f_row1_col1\" class=\"data row1 col1\" >1767</td>\n",
       "            </tr>\n",
       "            <tr>\n",
       "                        <th id=\"T_2ff7f_level0_row2\" class=\"row_heading level0 row2\" >3</th>\n",
       "                        <td id=\"T_2ff7f_row2_col0\" class=\"data row2 col0\" >Brewster's Warbler</td>\n",
       "                        <td id=\"T_2ff7f_row2_col1\" class=\"data row2 col1\" >1704</td>\n",
       "            </tr>\n",
       "            <tr>\n",
       "                        <th id=\"T_2ff7f_level0_row3\" class=\"row_heading level0 row3\" >4</th>\n",
       "                        <td id=\"T_2ff7f_row3_col0\" class=\"data row3 col0\" >Rock Pigeon</td>\n",
       "                        <td id=\"T_2ff7f_row3_col1\" class=\"data row3 col1\" >1653</td>\n",
       "            </tr>\n",
       "            <tr>\n",
       "                        <th id=\"T_2ff7f_level0_row4\" class=\"row_heading level0 row4\" >5</th>\n",
       "                        <td id=\"T_2ff7f_row4_col0\" class=\"data row4 col0\" >Chestnut-Sided Warbler</td>\n",
       "                        <td id=\"T_2ff7f_row4_col1\" class=\"data row4 col1\" >1310</td>\n",
       "            </tr>\n",
       "    </tbody></table>"
      ],
      "text/plain": [
       "<pandas.io.formats.style.Styler at 0x7f921e734a90>"
      ]
     },
     "metadata": {},
     "output_type": "display_data"
    },
    {
     "data": {
      "text/html": [
       "<style  type=\"text/css\" >\n",
       "</style><table id=\"T_61838_\" ><caption>Category: Fish</caption><thead>    <tr>        <th class=\"blank level0\" ></th>        <th class=\"col_heading level0 col0\" >common_names</th>        <th class=\"col_heading level0 col1\" >observations</th>    </tr></thead><tbody>\n",
       "                <tr>\n",
       "                        <th id=\"T_61838_level0_row0\" class=\"row_heading level0 row0\" >1</th>\n",
       "                        <td id=\"T_61838_row0_col0\" class=\"data row0 col0\" >Sea Trout</td>\n",
       "                        <td id=\"T_61838_row0_col1\" class=\"data row0 col1\" >1270</td>\n",
       "            </tr>\n",
       "            <tr>\n",
       "                        <th id=\"T_61838_level0_row1\" class=\"row_heading level0 row1\" >2</th>\n",
       "                        <td id=\"T_61838_row1_col0\" class=\"data row1 col0\" >Spotted Darter</td>\n",
       "                        <td id=\"T_61838_row1_col1\" class=\"data row1 col1\" >1169</td>\n",
       "            </tr>\n",
       "            <tr>\n",
       "                        <th id=\"T_61838_level0_row2\" class=\"row_heading level0 row2\" >3</th>\n",
       "                        <td id=\"T_61838_row2_col0\" class=\"data row2 col0\" >Spotfin Shiner</td>\n",
       "                        <td id=\"T_61838_row2_col1\" class=\"data row2 col1\" >1140</td>\n",
       "            </tr>\n",
       "            <tr>\n",
       "                        <th id=\"T_61838_level0_row3\" class=\"row_heading level0 row3\" >4</th>\n",
       "                        <td id=\"T_61838_row3_col0\" class=\"data row3 col0\" >Mottled Sculpin</td>\n",
       "                        <td id=\"T_61838_row3_col1\" class=\"data row3 col1\" >1129</td>\n",
       "            </tr>\n",
       "            <tr>\n",
       "                        <th id=\"T_61838_level0_row4\" class=\"row_heading level0 row4\" >5</th>\n",
       "                        <td id=\"T_61838_row4_col0\" class=\"data row4 col0\" >Whitetail Shiner</td>\n",
       "                        <td id=\"T_61838_row4_col1\" class=\"data row4 col1\" >1120</td>\n",
       "            </tr>\n",
       "    </tbody></table>"
      ],
      "text/plain": [
       "<pandas.io.formats.style.Styler at 0x7f921a782d60>"
      ]
     },
     "metadata": {},
     "output_type": "display_data"
    },
    {
     "data": {
      "text/html": [
       "<style  type=\"text/css\" >\n",
       "</style><table id=\"T_d1dc8_\" ><caption>Category: Mammal</caption><thead>    <tr>        <th class=\"blank level0\" ></th>        <th class=\"col_heading level0 col0\" >common_names</th>        <th class=\"col_heading level0 col1\" >observations</th>    </tr></thead><tbody>\n",
       "                <tr>\n",
       "                        <th id=\"T_d1dc8_level0_row0\" class=\"row_heading level0 row0\" >1</th>\n",
       "                        <td id=\"T_d1dc8_row0_col0\" class=\"data row0 col0\" >Mountain Lion</td>\n",
       "                        <td id=\"T_d1dc8_row0_col1\" class=\"data row0 col1\" >2278</td>\n",
       "            </tr>\n",
       "            <tr>\n",
       "                        <th id=\"T_d1dc8_level0_row1\" class=\"row_heading level0 row1\" >2</th>\n",
       "                        <td id=\"T_d1dc8_row1_col0\" class=\"data row1 col0\" >River Otter</td>\n",
       "                        <td id=\"T_d1dc8_row1_col1\" class=\"data row1 col1\" >1745</td>\n",
       "            </tr>\n",
       "            <tr>\n",
       "                        <th id=\"T_d1dc8_level0_row2\" class=\"row_heading level0 row2\" >3</th>\n",
       "                        <td id=\"T_d1dc8_row2_col0\" class=\"data row2 col0\" >Beaver</td>\n",
       "                        <td id=\"T_d1dc8_row2_col1\" class=\"data row2 col1\" >1725</td>\n",
       "            </tr>\n",
       "            <tr>\n",
       "                        <th id=\"T_d1dc8_level0_row3\" class=\"row_heading level0 row3\" >4</th>\n",
       "                        <td id=\"T_d1dc8_row3_col0\" class=\"data row3 col0\" >Raccoon</td>\n",
       "                        <td id=\"T_d1dc8_row3_col1\" class=\"data row3 col1\" >1692</td>\n",
       "            </tr>\n",
       "            <tr>\n",
       "                        <th id=\"T_d1dc8_level0_row4\" class=\"row_heading level0 row4\" >5</th>\n",
       "                        <td id=\"T_d1dc8_row4_col0\" class=\"data row4 col0\" >Little Brown Myotis</td>\n",
       "                        <td id=\"T_d1dc8_row4_col1\" class=\"data row4 col1\" >1547</td>\n",
       "            </tr>\n",
       "    </tbody></table>"
      ],
      "text/plain": [
       "<pandas.io.formats.style.Styler at 0x7f921a782a90>"
      ]
     },
     "metadata": {},
     "output_type": "display_data"
    },
    {
     "data": {
      "text/html": [
       "<style  type=\"text/css\" >\n",
       "</style><table id=\"T_86946_\" ><caption>Category: Nonvascular Plant</caption><thead>    <tr>        <th class=\"blank level0\" ></th>        <th class=\"col_heading level0 col0\" >common_names</th>        <th class=\"col_heading level0 col1\" >observations</th>    </tr></thead><tbody>\n",
       "                <tr>\n",
       "                        <th id=\"T_86946_level0_row0\" class=\"row_heading level0 row0\" >1</th>\n",
       "                        <td id=\"T_86946_row0_col0\" class=\"data row0 col0\" >Dicranum Moss</td>\n",
       "                        <td id=\"T_86946_row0_col1\" class=\"data row0 col1\" >4008</td>\n",
       "            </tr>\n",
       "            <tr>\n",
       "                        <th id=\"T_86946_level0_row1\" class=\"row_heading level0 row1\" >2</th>\n",
       "                        <td id=\"T_86946_row1_col0\" class=\"data row1 col0\" >Brachythecium Moss</td>\n",
       "                        <td id=\"T_86946_row1_col1\" class=\"data row1 col1\" >3910</td>\n",
       "            </tr>\n",
       "            <tr>\n",
       "                        <th id=\"T_86946_level0_row2\" class=\"row_heading level0 row2\" >3</th>\n",
       "                        <td id=\"T_86946_row2_col0\" class=\"data row2 col0\" >Bryum Moss</td>\n",
       "                        <td id=\"T_86946_row2_col1\" class=\"data row2 col1\" >3477</td>\n",
       "            </tr>\n",
       "            <tr>\n",
       "                        <th id=\"T_86946_level0_row3\" class=\"row_heading level0 row3\" >4</th>\n",
       "                        <td id=\"T_86946_row3_col0\" class=\"data row3 col0\" >Sphagnum</td>\n",
       "                        <td id=\"T_86946_row3_col1\" class=\"data row3 col1\" >3476</td>\n",
       "            </tr>\n",
       "            <tr>\n",
       "                        <th id=\"T_86946_level0_row4\" class=\"row_heading level0 row4\" >5</th>\n",
       "                        <td id=\"T_86946_row4_col0\" class=\"data row4 col0\" >Hypnum Moss</td>\n",
       "                        <td id=\"T_86946_row4_col1\" class=\"data row4 col1\" >2955</td>\n",
       "            </tr>\n",
       "    </tbody></table>"
      ],
      "text/plain": [
       "<pandas.io.formats.style.Styler at 0x7f9216857280>"
      ]
     },
     "metadata": {},
     "output_type": "display_data"
    },
    {
     "data": {
      "text/html": [
       "<style  type=\"text/css\" >\n",
       "</style><table id=\"T_03066_\" ><caption>Category: Reptile</caption><thead>    <tr>        <th class=\"blank level0\" ></th>        <th class=\"col_heading level0 col0\" >common_names</th>        <th class=\"col_heading level0 col1\" >observations</th>    </tr></thead><tbody>\n",
       "                <tr>\n",
       "                        <th id=\"T_03066_level0_row0\" class=\"row_heading level0 row0\" >1</th>\n",
       "                        <td id=\"T_03066_row0_col0\" class=\"data row0 col0\" >Northern Rubber Boa</td>\n",
       "                        <td id=\"T_03066_row0_col1\" class=\"data row0 col1\" >1144</td>\n",
       "            </tr>\n",
       "            <tr>\n",
       "                        <th id=\"T_03066_level0_row1\" class=\"row_heading level0 row1\" >2</th>\n",
       "                        <td id=\"T_03066_row1_col0\" class=\"data row1 col0\" >Western Painted Turtle</td>\n",
       "                        <td id=\"T_03066_row1_col1\" class=\"data row1 col1\" >669</td>\n",
       "            </tr>\n",
       "            <tr>\n",
       "                        <th id=\"T_03066_level0_row2\" class=\"row_heading level0 row2\" >3</th>\n",
       "                        <td id=\"T_03066_row2_col0\" class=\"data row2 col0\" >California Nightsnake</td>\n",
       "                        <td id=\"T_03066_row2_col1\" class=\"data row2 col1\" >668</td>\n",
       "            </tr>\n",
       "            <tr>\n",
       "                        <th id=\"T_03066_level0_row3\" class=\"row_heading level0 row3\" >4</th>\n",
       "                        <td id=\"T_03066_row3_col0\" class=\"data row3 col0\" >Sierra Garter Snake</td>\n",
       "                        <td id=\"T_03066_row3_col1\" class=\"data row3 col1\" >653</td>\n",
       "            </tr>\n",
       "            <tr>\n",
       "                        <th id=\"T_03066_level0_row4\" class=\"row_heading level0 row4\" >5</th>\n",
       "                        <td id=\"T_03066_row4_col0\" class=\"data row4 col0\" >Corn Snake</td>\n",
       "                        <td id=\"T_03066_row4_col1\" class=\"data row4 col1\" >649</td>\n",
       "            </tr>\n",
       "    </tbody></table>"
      ],
      "text/plain": [
       "<pandas.io.formats.style.Styler at 0x7f92168575b0>"
      ]
     },
     "metadata": {},
     "output_type": "display_data"
    },
    {
     "data": {
      "text/html": [
       "<style  type=\"text/css\" >\n",
       "</style><table id=\"T_d9bdf_\" ><caption>Category: Vascular Plant</caption><thead>    <tr>        <th class=\"blank level0\" ></th>        <th class=\"col_heading level0 col0\" >common_names</th>        <th class=\"col_heading level0 col1\" >observations</th>    </tr></thead><tbody>\n",
       "                <tr>\n",
       "                        <th id=\"T_d9bdf_level0_row0\" class=\"row_heading level0 row0\" >1</th>\n",
       "                        <td id=\"T_d9bdf_row0_col0\" class=\"data row0 col0\" >Sedge</td>\n",
       "                        <td id=\"T_d9bdf_row0_col1\" class=\"data row0 col1\" >9191</td>\n",
       "            </tr>\n",
       "            <tr>\n",
       "                        <th id=\"T_d9bdf_level0_row1\" class=\"row_heading level0 row1\" >2</th>\n",
       "                        <td id=\"T_d9bdf_row1_col0\" class=\"data row1 col0\" >Panic Grass</td>\n",
       "                        <td id=\"T_d9bdf_row1_col1\" class=\"data row1 col1\" >7055</td>\n",
       "            </tr>\n",
       "            <tr>\n",
       "                        <th id=\"T_d9bdf_level0_row2\" class=\"row_heading level0 row2\" >3</th>\n",
       "                        <td id=\"T_d9bdf_row2_col0\" class=\"data row2 col0\" >Sulphur-Flower Buckwheat</td>\n",
       "                        <td id=\"T_d9bdf_row2_col1\" class=\"data row2 col1\" >3970</td>\n",
       "            </tr>\n",
       "            <tr>\n",
       "                        <th id=\"T_d9bdf_level0_row3\" class=\"row_heading level0 row3\" >4</th>\n",
       "                        <td id=\"T_d9bdf_row3_col0\" class=\"data row3 col0\" >Wild Oats</td>\n",
       "                        <td id=\"T_d9bdf_row3_col1\" class=\"data row3 col1\" >3521</td>\n",
       "            </tr>\n",
       "            <tr>\n",
       "                        <th id=\"T_d9bdf_level0_row4\" class=\"row_heading level0 row4\" >5</th>\n",
       "                        <td id=\"T_d9bdf_row4_col0\" class=\"data row4 col0\" >Yellow-Seed False Pimpernel</td>\n",
       "                        <td id=\"T_d9bdf_row4_col1\" class=\"data row4 col1\" >2407</td>\n",
       "            </tr>\n",
       "    </tbody></table>"
      ],
      "text/plain": [
       "<pandas.io.formats.style.Styler at 0x7f921683ee20>"
      ]
     },
     "metadata": {},
     "output_type": "display_data"
    }
   ],
   "source": [
    "# most observed species by category\n",
    "species_per_category = biodiversity.groupby(['category', 'common_names']).observations.sum()\n",
    "\n",
    "# display tables for the top 5 observed species by category\n",
    "for category in species_per_category.index.levels[0]:\n",
    "    sorted_per_category = species_per_category[category].sort_values(ascending=False).reset_index()\n",
    "    sorted_per_category.index = sorted_per_category.index + 1\n",
    "    \n",
    "    display(sorted_per_category.head(5).style.set_caption(f'Category: {category}'))"
   ]
  },
  {
   "cell_type": "code",
   "execution_count": 37,
   "metadata": {},
   "outputs": [
    {
     "data": {
      "image/png": "[encoded data removed]",
      "text/plain": [
       "<Figure size 1800x1200 with 7 Axes>"
      ]
     },
     "metadata": {},
     "output_type": "display_data"
    }
   ],
   "source": [
    "# define the categories and subplots layout\n",
    "categories = species_per_category.index.levels[0]\n",
    "num_categories = len(categories)\n",
    "num_plots_per_row = 4\n",
    "num_plots_per_col = (num_categories + num_plots_per_row - 1) // num_plots_per_row\n",
    "\n",
    "# define colors for each category\n",
    "colors = ['#33658a', '#86bbd8', '#59a58e', '#90ab60', '#c8b132', '#f6ae2d', '#f26419']\n",
    "\n",
    "# create the figure and subplots\n",
    "fig, axes = plt.subplots(num_plots_per_col, num_plots_per_row, figsize=(18, 12))\n",
    "axes = axes.flatten()\n",
    "\n",
    "# iterate over each category\n",
    "for i, category in enumerate(categories):\n",
    "    sorted_species = species_per_category[category].sort_values(ascending=False)\n",
    "\n",
    "    # get the top 5 species for the current category\n",
    "    top_species = sorted_species.head(5)\n",
    "\n",
    "    # generate the bar graph\n",
    "    ax = axes[i]\n",
    "    ax.bar(top_species.index, top_species.values, color=colors[i], edgecolor='black')\n",
    "\n",
    "    # add annotations on top of each bar\n",
    "    for j, v in enumerate(top_species.values):\n",
    "        ax.text(j, v + 10, str(v), ha='center')\n",
    "\n",
    "    ax.set_title(category)\n",
    "\n",
    "    # set the title for the whole figure\n",
    "    fig.suptitle('Most Observed Species by Category', fontsize=16)\n",
    "\n",
    "    # set x-axis tick positions and labels\n",
    "    ax.set_xticks(range(len(top_species.index)))\n",
    "    ax.set_xticklabels(top_species.index, rotation=60)\n",
    "    \n",
    "# hide empty subplots\n",
    "if num_categories < num_plots_per_row * num_plots_per_col:\n",
    "    for i in range(num_categories, num_plots_per_row * num_plots_per_col):\n",
    "        fig.delaxes(axes[i])\n",
    "\n",
    "# adjust the spacing between subplots\n",
    "fig.tight_layout(pad=1)\n",
    "\n",
    "# save the figure\n",
    "plt.savefig('Figure3.png', dpi=300, bbox_inches='tight')\n",
    "\n",
    "# display the figure\n",
    "plt.show()"
   ]
  },
  {
   "cell_type": "markdown",
   "metadata": {},
   "source": [
    "<br>\n",
    "\n",
    "#### **Figure 4: Total Observations by Category**\n",
    "<a id=\"figure4\"></a>\n",
    "\n",
    "<br>"
   ]
  },
  {
   "cell_type": "code",
   "execution_count": 38,
   "metadata": {
    "scrolled": false
   },
   "outputs": [
    {
     "data": {
      "image/png": "[encoded data removed]",
      "text/plain": [
       "<Figure size 800x600 with 1 Axes>"
      ]
     },
     "metadata": {},
     "output_type": "display_data"
    }
   ],
   "source": [
    "# adjust the plot size \n",
    "plt.subplots(figsize=(8, 6))\n",
    "\n",
    "# sum and sort the observations for each category\n",
    "total_observations_per_category = biodiversity.groupby('category')['observations'].sum()\\\n",
    "                                              .reset_index().sort_values('observations', ascending=False)\n",
    "\n",
    "# divide by thousand for readability\n",
    "total_observations_per_category['observations'] = total_observations_per_category['observations'] / 1000\n",
    "\n",
    "# define colors for each category\n",
    "colors = ['#f26419', '#86bbd8', '#c8b132', '#90ab60', '#59a58e', '#f6ae2d', '#33658a']\n",
    "\n",
    "# seaborn barplot\n",
    "sns.barplot(data=total_observations_per_category, x='category', y='observations', ec='k', palette=colors)\n",
    "plt.title('Total Observations by Category')\n",
    "plt.xlabel('Category')\n",
    "plt.ylabel('Number of Observations (thousands)')\n",
    "\n",
    "# add annotations\n",
    "for index, value in enumerate(total_observations_per_category['observations']):\n",
    "    plt.text(index, value, f'{(value/total_observations_per_category.observations.sum() * 100):.2f}%', ha='center', va='bottom')\n",
    "    \n",
    "# format x-axis labels \n",
    "plt.xticks(rotation=25)\n",
    "\n",
    "# save the figure\n",
    "plt.savefig('Figure4.png', dpi=300, bbox_inches='tight')\n",
    "\n",
    "# display the figure\n",
    "plt.show()"
   ]
  },
  {
   "cell_type": "markdown",
   "metadata": {},
   "source": [
    "<br>\n",
    "\n",
    "#### **Figure 5: Species Distribution by Category**\n",
    "<a id=\"figure5\"></a>\n",
    "\n",
    "<br>"
   ]
  },
  {
   "cell_type": "code",
   "execution_count": 39,
   "metadata": {
    "scrolled": false
   },
   "outputs": [
    {
     "data": {
      "image/png": "[encoded data removed]",
      "text/plain": [
       "<Figure size 800x600 with 1 Axes>"
      ]
     },
     "metadata": {},
     "output_type": "display_data"
    }
   ],
   "source": [
    "# plot size adjustment\n",
    "plt.subplots(figsize=(8, 6))\n",
    "\n",
    "# count species by category\n",
    "species_by_category = pd.DataFrame(biodiversity.groupby('category').scientific_name.nunique()\\\n",
    "                                .sort_values(ascending=False).reset_index()\\\n",
    "                                .rename(columns={'scientific_name': 'count'}))\n",
    "\n",
    "# calculate the percentage of each category\n",
    "species_by_category['percentage'] = (species_by_category['count'] / species_by_category['count'].sum() * 100)\n",
    "\n",
    "# define colors for each category\n",
    "colors = ['#f26419', '#86bbd8', '#c8b132', '#90ab60', '#59a58e', '#33658a', '#f6ae2d']\n",
    "\n",
    "# seaborn bar plot\n",
    "sns.barplot(data=species_by_category, x='category', y='percentage', ec='k', palette=colors)\n",
    "plt.title('Species Distribution by Category')\n",
    "plt.xlabel('Category')\n",
    "plt.ylabel('Percent / %')\n",
    "plt.xticks(rotation=30)\n",
    "\n",
    "# add annotations\n",
    "for index, value in enumerate(species_by_category['percentage']):\n",
    "    plt.text(index, value, f'{value:.2f}%', ha='center', va='bottom')\n",
    "\n",
    "# save the figure\n",
    "plt.savefig('Figure5.png', dpi=300, bbox_inches='tight')\n",
    "\n",
    "# display the figure\n",
    "plt.show()"
   ]
  },
  {
   "cell_type": "markdown",
   "metadata": {},
   "source": [
    "<br>\n",
    "\n",
    "#### **Table 1: Species Distribution by Category: Count & Percentage**\n",
    "<a id=\"table1\"></a>\n",
    "\n",
    "<br>"
   ]
  },
  {
   "cell_type": "code",
   "execution_count": 40,
   "metadata": {},
   "outputs": [
    {
     "data": {
      "text/html": [
       "<style  type=\"text/css\" >\n",
       "</style><table id=\"T_51a16_\" ><caption>Species Distribution by Category: Observations Count and Percentage</caption><thead>    <tr>        <th class=\"blank level0\" ></th>        <th class=\"col_heading level0 col0\" >category</th>        <th class=\"col_heading level0 col1\" >count</th>        <th class=\"col_heading level0 col2\" >percentage</th>    </tr></thead><tbody>\n",
       "                <tr>\n",
       "                        <th id=\"T_51a16_level0_row0\" class=\"row_heading level0 row0\" >0</th>\n",
       "                        <td id=\"T_51a16_row0_col0\" class=\"data row0 col0\" >Vascular Plant</td>\n",
       "                        <td id=\"T_51a16_row0_col1\" class=\"data row0 col1\" >4262</td>\n",
       "                        <td id=\"T_51a16_row0_col2\" class=\"data row0 col2\" >76.917524</td>\n",
       "            </tr>\n",
       "            <tr>\n",
       "                        <th id=\"T_51a16_level0_row1\" class=\"row_heading level0 row1\" >1</th>\n",
       "                        <td id=\"T_51a16_row1_col0\" class=\"data row1 col0\" >Bird</td>\n",
       "                        <td id=\"T_51a16_row1_col1\" class=\"data row1 col1\" >488</td>\n",
       "                        <td id=\"T_51a16_row1_col2\" class=\"data row1 col2\" >8.807075</td>\n",
       "            </tr>\n",
       "            <tr>\n",
       "                        <th id=\"T_51a16_level0_row2\" class=\"row_heading level0 row2\" >2</th>\n",
       "                        <td id=\"T_51a16_row2_col0\" class=\"data row2 col0\" >Nonvascular Plant</td>\n",
       "                        <td id=\"T_51a16_row2_col1\" class=\"data row2 col1\" >333</td>\n",
       "                        <td id=\"T_51a16_row2_col2\" class=\"data row2 col2\" >6.009746</td>\n",
       "            </tr>\n",
       "            <tr>\n",
       "                        <th id=\"T_51a16_level0_row3\" class=\"row_heading level0 row3\" >3</th>\n",
       "                        <td id=\"T_51a16_row3_col0\" class=\"data row3 col0\" >Mammal</td>\n",
       "                        <td id=\"T_51a16_row3_col1\" class=\"data row3 col1\" >176</td>\n",
       "                        <td id=\"T_51a16_row3_col2\" class=\"data row3 col2\" >3.176322</td>\n",
       "            </tr>\n",
       "            <tr>\n",
       "                        <th id=\"T_51a16_level0_row4\" class=\"row_heading level0 row4\" >4</th>\n",
       "                        <td id=\"T_51a16_row4_col0\" class=\"data row4 col0\" >Fish</td>\n",
       "                        <td id=\"T_51a16_row4_col1\" class=\"data row4 col1\" >125</td>\n",
       "                        <td id=\"T_51a16_row4_col2\" class=\"data row4 col2\" >2.255910</td>\n",
       "            </tr>\n",
       "            <tr>\n",
       "                        <th id=\"T_51a16_level0_row5\" class=\"row_heading level0 row5\" >5</th>\n",
       "                        <td id=\"T_51a16_row5_col0\" class=\"data row5 col0\" >Amphibian</td>\n",
       "                        <td id=\"T_51a16_row5_col1\" class=\"data row5 col1\" >79</td>\n",
       "                        <td id=\"T_51a16_row5_col2\" class=\"data row5 col2\" >1.425735</td>\n",
       "            </tr>\n",
       "            <tr>\n",
       "                        <th id=\"T_51a16_level0_row6\" class=\"row_heading level0 row6\" >6</th>\n",
       "                        <td id=\"T_51a16_row6_col0\" class=\"data row6 col0\" >Reptile</td>\n",
       "                        <td id=\"T_51a16_row6_col1\" class=\"data row6 col1\" >78</td>\n",
       "                        <td id=\"T_51a16_row6_col2\" class=\"data row6 col2\" >1.407688</td>\n",
       "            </tr>\n",
       "    </tbody></table>"
      ],
      "text/plain": [
       "<pandas.io.formats.style.Styler at 0x7f922e425af0>"
      ]
     },
     "metadata": {},
     "output_type": "display_data"
    }
   ],
   "source": [
    "# display table\n",
    "display(species_by_category.style.set_caption('Species Distribution by Category: Observations Count and Percentage'))"
   ]
  },
  {
   "cell_type": "markdown",
   "metadata": {},
   "source": [
    "<br>\n",
    "\n",
    "#### **4.2: How are species distributed by conservation status**\n",
    "<a id=\"q2\" ></a>\n",
    "\n",
    "<br>"
   ]
  },
  {
   "cell_type": "markdown",
   "metadata": {},
   "source": [
    "The **conservation_status** column has 5 possible values:\n",
    "- `Least Concern`: not a focus of conservation efforts\n",
    "- `Species of Concern`: declining or appear to be in need of conservation\n",
    "- `Threatened`: vulnerable to endangerment in the near future\n",
    "- `In Recovery`: formerly `Endangered`, but currently neither in danger of extinction throughout all or a significant portion of its range\n",
    "- `Endangered`: seriously at risk of extinction"
   ]
  },
  {
   "cell_type": "markdown",
   "metadata": {},
   "source": [
    "<br>\n",
    "\n",
    "#### **Figure 6: Species Distribution by Conservation Status**\n",
    "<a id=\"figure6\"></a>\n",
    "\n",
    "<br>"
   ]
  },
  {
   "cell_type": "code",
   "execution_count": 41,
   "metadata": {},
   "outputs": [
    {
     "data": {
      "text/html": [
       "<style  type=\"text/css\" >\n",
       "</style><table id=\"T_63da2_\" ><caption>Species Distribution by Conservation Status: Count and Percentage</caption><thead>    <tr>        <th class=\"blank level0\" ></th>        <th class=\"col_heading level0 col0\" >conservation_status</th>        <th class=\"col_heading level0 col1\" >count</th>        <th class=\"col_heading level0 col2\" >percentage</th>    </tr></thead><tbody>\n",
       "                <tr>\n",
       "                        <th id=\"T_63da2_level0_row0\" class=\"row_heading level0 row0\" >0</th>\n",
       "                        <td id=\"T_63da2_row0_col0\" class=\"data row0 col0\" >Least Concern</td>\n",
       "                        <td id=\"T_63da2_row0_col1\" class=\"data row0 col1\" >5362</td>\n",
       "                        <td id=\"T_63da2_row0_col2\" class=\"data row0 col2\" >96.769536</td>\n",
       "            </tr>\n",
       "            <tr>\n",
       "                        <th id=\"T_63da2_level0_row1\" class=\"row_heading level0 row1\" >1</th>\n",
       "                        <td id=\"T_63da2_row1_col0\" class=\"data row1 col0\" >Species of Concern</td>\n",
       "                        <td id=\"T_63da2_row1_col1\" class=\"data row1 col1\" >151</td>\n",
       "                        <td id=\"T_63da2_row1_col2\" class=\"data row1 col2\" >2.725140</td>\n",
       "            </tr>\n",
       "            <tr>\n",
       "                        <th id=\"T_63da2_level0_row2\" class=\"row_heading level0 row2\" >2</th>\n",
       "                        <td id=\"T_63da2_row2_col0\" class=\"data row2 col0\" >Endangered</td>\n",
       "                        <td id=\"T_63da2_row2_col1\" class=\"data row2 col1\" >15</td>\n",
       "                        <td id=\"T_63da2_row2_col2\" class=\"data row2 col2\" >0.270709</td>\n",
       "            </tr>\n",
       "            <tr>\n",
       "                        <th id=\"T_63da2_level0_row3\" class=\"row_heading level0 row3\" >3</th>\n",
       "                        <td id=\"T_63da2_row3_col0\" class=\"data row3 col0\" >Threatened</td>\n",
       "                        <td id=\"T_63da2_row3_col1\" class=\"data row3 col1\" >10</td>\n",
       "                        <td id=\"T_63da2_row3_col2\" class=\"data row3 col2\" >0.180473</td>\n",
       "            </tr>\n",
       "            <tr>\n",
       "                        <th id=\"T_63da2_level0_row4\" class=\"row_heading level0 row4\" >4</th>\n",
       "                        <td id=\"T_63da2_row4_col0\" class=\"data row4 col0\" >In Recovery</td>\n",
       "                        <td id=\"T_63da2_row4_col1\" class=\"data row4 col1\" >3</td>\n",
       "                        <td id=\"T_63da2_row4_col2\" class=\"data row4 col2\" >0.054142</td>\n",
       "            </tr>\n",
       "    </tbody></table>"
      ],
      "text/plain": [
       "<pandas.io.formats.style.Styler at 0x7f921e718760>"
      ]
     },
     "metadata": {},
     "output_type": "display_data"
    },
    {
     "data": {
      "image/png": "[encoded data removed]",
      "text/plain": [
       "<Figure size 640x480 with 1 Axes>"
      ]
     },
     "metadata": {},
     "output_type": "display_data"
    }
   ],
   "source": [
    "# spcecies distribution by conservation status\n",
    "conservation_status_dist = pd.DataFrame(biodiversity.groupby('conservation_status')\\\n",
    "                                        .scientific_name.nunique().sort_values(ascending=False)\\\n",
    "                                        .reset_index().rename(columns={'index':'category', 'scientific_name': 'count'}))\n",
    "\n",
    "# calculating percentage\n",
    "conservation_status_dist['percentage'] = (conservation_status_dist['count'] /\\\n",
    "                                          conservation_status_dist['count'].sum() * 100)\n",
    "\n",
    "display(conservation_status_dist.style.set_caption('Species Distribution by Conservation Status: Count and Percentage'))\n",
    "\n",
    "# define colors for each conservation status\n",
    "colors = ['#33658a', '#86bbd8', '#f26419', '#f6ae2d', '#59a58e']\n",
    "\n",
    "# seaborn bar plot\n",
    "sns.barplot(data=conservation_status_dist, x='conservation_status', y='percentage', ec='k', palette=colors)\n",
    "plt.title('Overall Conservation Status Distribution (Log scale)')\n",
    "plt.xlabel('Conservation Status')\n",
    "plt.ylabel('Percent / %')\n",
    "plt.xticks(rotation=30)\n",
    "\n",
    "# add annotations\n",
    "for index, value in enumerate(conservation_status_dist['percentage']):\n",
    "    plt.text(index, value, f'{value:.2f}%', ha='center', va='bottom')\n",
    "\n",
    "# log scale transformation for legibility\n",
    "plt.yscale('log')\n",
    "\n",
    "# save the figure\n",
    "plt.savefig('Figure6.png', dpi=300, bbox_inches='tight')\n",
    "\n",
    "# display the figure\n",
    "plt.show()"
   ]
  },
  {
   "cell_type": "markdown",
   "metadata": {},
   "source": [
    "<br>\n",
    "\n",
    "#### **Table 2: Conservation Status Distribution by Park**\n",
    "<a id=\"table2\"></a>\n",
    "\n",
    "<br>"
   ]
  },
  {
   "cell_type": "code",
   "execution_count": 42,
   "metadata": {},
   "outputs": [
    {
     "data": {
      "text/html": [
       "<style  type=\"text/css\" >\n",
       "</style><table id=\"T_88927_\" ><caption>Conservation Status Distribution by Park</caption><thead>    <tr>        <th class=\"index_name level0\" >conservation_status</th>        <th class=\"col_heading level0 col0\" >Endangered</th>        <th class=\"col_heading level0 col1\" >In Recovery</th>        <th class=\"col_heading level0 col2\" >Least Concern</th>        <th class=\"col_heading level0 col3\" >Species of Concern</th>        <th class=\"col_heading level0 col4\" >Threatened</th>    </tr>    <tr>        <th class=\"index_name level0\" >park_name</th>        <th class=\"blank\" ></th>        <th class=\"blank\" ></th>        <th class=\"blank\" ></th>        <th class=\"blank\" ></th>        <th class=\"blank\" ></th>    </tr></thead><tbody>\n",
       "                <tr>\n",
       "                        <th id=\"T_88927_level0_row0\" class=\"row_heading level0 row0\" >Bryce</th>\n",
       "                        <td id=\"T_88927_row0_col0\" class=\"data row0 col0\" >15</td>\n",
       "                        <td id=\"T_88927_row0_col1\" class=\"data row0 col1\" >3</td>\n",
       "                        <td id=\"T_88927_row0_col2\" class=\"data row0 col2\" >5362</td>\n",
       "                        <td id=\"T_88927_row0_col3\" class=\"data row0 col3\" >151</td>\n",
       "                        <td id=\"T_88927_row0_col4\" class=\"data row0 col4\" >10</td>\n",
       "            </tr>\n",
       "            <tr>\n",
       "                        <th id=\"T_88927_level0_row1\" class=\"row_heading level0 row1\" >Great Smoky Mountains</th>\n",
       "                        <td id=\"T_88927_row1_col0\" class=\"data row1 col0\" >15</td>\n",
       "                        <td id=\"T_88927_row1_col1\" class=\"data row1 col1\" >3</td>\n",
       "                        <td id=\"T_88927_row1_col2\" class=\"data row1 col2\" >5362</td>\n",
       "                        <td id=\"T_88927_row1_col3\" class=\"data row1 col3\" >151</td>\n",
       "                        <td id=\"T_88927_row1_col4\" class=\"data row1 col4\" >10</td>\n",
       "            </tr>\n",
       "            <tr>\n",
       "                        <th id=\"T_88927_level0_row2\" class=\"row_heading level0 row2\" >Yellowstone</th>\n",
       "                        <td id=\"T_88927_row2_col0\" class=\"data row2 col0\" >15</td>\n",
       "                        <td id=\"T_88927_row2_col1\" class=\"data row2 col1\" >3</td>\n",
       "                        <td id=\"T_88927_row2_col2\" class=\"data row2 col2\" >5362</td>\n",
       "                        <td id=\"T_88927_row2_col3\" class=\"data row2 col3\" >151</td>\n",
       "                        <td id=\"T_88927_row2_col4\" class=\"data row2 col4\" >10</td>\n",
       "            </tr>\n",
       "            <tr>\n",
       "                        <th id=\"T_88927_level0_row3\" class=\"row_heading level0 row3\" >Yosemite</th>\n",
       "                        <td id=\"T_88927_row3_col0\" class=\"data row3 col0\" >15</td>\n",
       "                        <td id=\"T_88927_row3_col1\" class=\"data row3 col1\" >3</td>\n",
       "                        <td id=\"T_88927_row3_col2\" class=\"data row3 col2\" >5362</td>\n",
       "                        <td id=\"T_88927_row3_col3\" class=\"data row3 col3\" >151</td>\n",
       "                        <td id=\"T_88927_row3_col4\" class=\"data row3 col4\" >10</td>\n",
       "            </tr>\n",
       "    </tbody></table>"
      ],
      "text/plain": [
       "<pandas.io.formats.style.Styler at 0x7f922e5cb2b0>"
      ]
     },
     "metadata": {},
     "output_type": "display_data"
    }
   ],
   "source": [
    "# counting conservation status by parkk\n",
    "conservation_status_by_park = pd.DataFrame(biodiversity.groupby(['park_name', 'conservation_status'])\\\n",
    "                                           .scientific_name.count()\\\n",
    "                                           .unstack(fill_value=0))\n",
    "\n",
    "# this table serves as another indication that ficticious data is being used for this analysis\n",
    "# display table\n",
    "display(conservation_status_by_park.style.set_caption('Conservation Status Distribution by Park'))"
   ]
  },
  {
   "cell_type": "markdown",
   "metadata": {},
   "source": [
    "<br>\n",
    "\n",
    "#### **Table 3: Conservation Status Distribution by Category**\n",
    "<a id=\"table3\"></a>\n",
    "\n",
    "<br>"
   ]
  },
  {
   "cell_type": "code",
   "execution_count": 43,
   "metadata": {
    "scrolled": true
   },
   "outputs": [
    {
     "data": {
      "text/html": [
       "<style  type=\"text/css\" >\n",
       "</style><table id=\"T_338fe_\" ><caption>Conservation Status Distribution by Category</caption><thead>    <tr>        <th class=\"index_name level0\" >conservation_status</th>        <th class=\"col_heading level0 col0\" >Least Concern</th>        <th class=\"col_heading level0 col1\" >In Recovery</th>        <th class=\"col_heading level0 col2\" >Species of Concern</th>        <th class=\"col_heading level0 col3\" >Threatened</th>        <th class=\"col_heading level0 col4\" >Endangered</th>        <th class=\"col_heading level0 col5\" >Total</th>    </tr>    <tr>        <th class=\"index_name level0\" >category</th>        <th class=\"blank\" ></th>        <th class=\"blank\" ></th>        <th class=\"blank\" ></th>        <th class=\"blank\" ></th>        <th class=\"blank\" ></th>        <th class=\"blank\" ></th>    </tr></thead><tbody>\n",
       "                <tr>\n",
       "                        <th id=\"T_338fe_level0_row0\" class=\"row_heading level0 row0\" >Amphibian</th>\n",
       "                        <td id=\"T_338fe_row0_col0\" class=\"data row0 col0\" >72</td>\n",
       "                        <td id=\"T_338fe_row0_col1\" class=\"data row0 col1\" >0</td>\n",
       "                        <td id=\"T_338fe_row0_col2\" class=\"data row0 col2\" >4</td>\n",
       "                        <td id=\"T_338fe_row0_col3\" class=\"data row0 col3\" >2</td>\n",
       "                        <td id=\"T_338fe_row0_col4\" class=\"data row0 col4\" >1</td>\n",
       "                        <td id=\"T_338fe_row0_col5\" class=\"data row0 col5\" >79</td>\n",
       "            </tr>\n",
       "            <tr>\n",
       "                        <th id=\"T_338fe_level0_row1\" class=\"row_heading level0 row1\" >Bird</th>\n",
       "                        <td id=\"T_338fe_row1_col0\" class=\"data row1 col0\" >413</td>\n",
       "                        <td id=\"T_338fe_row1_col1\" class=\"data row1 col1\" >3</td>\n",
       "                        <td id=\"T_338fe_row1_col2\" class=\"data row1 col2\" >68</td>\n",
       "                        <td id=\"T_338fe_row1_col3\" class=\"data row1 col3\" >0</td>\n",
       "                        <td id=\"T_338fe_row1_col4\" class=\"data row1 col4\" >4</td>\n",
       "                        <td id=\"T_338fe_row1_col5\" class=\"data row1 col5\" >488</td>\n",
       "            </tr>\n",
       "            <tr>\n",
       "                        <th id=\"T_338fe_level0_row2\" class=\"row_heading level0 row2\" >Fish</th>\n",
       "                        <td id=\"T_338fe_row2_col0\" class=\"data row2 col0\" >114</td>\n",
       "                        <td id=\"T_338fe_row2_col1\" class=\"data row2 col1\" >0</td>\n",
       "                        <td id=\"T_338fe_row2_col2\" class=\"data row2 col2\" >4</td>\n",
       "                        <td id=\"T_338fe_row2_col3\" class=\"data row2 col3\" >4</td>\n",
       "                        <td id=\"T_338fe_row2_col4\" class=\"data row2 col4\" >3</td>\n",
       "                        <td id=\"T_338fe_row2_col5\" class=\"data row2 col5\" >125</td>\n",
       "            </tr>\n",
       "            <tr>\n",
       "                        <th id=\"T_338fe_level0_row3\" class=\"row_heading level0 row3\" >Mammal</th>\n",
       "                        <td id=\"T_338fe_row3_col0\" class=\"data row3 col0\" >146</td>\n",
       "                        <td id=\"T_338fe_row3_col1\" class=\"data row3 col1\" >0</td>\n",
       "                        <td id=\"T_338fe_row3_col2\" class=\"data row3 col2\" >22</td>\n",
       "                        <td id=\"T_338fe_row3_col3\" class=\"data row3 col3\" >2</td>\n",
       "                        <td id=\"T_338fe_row3_col4\" class=\"data row3 col4\" >6</td>\n",
       "                        <td id=\"T_338fe_row3_col5\" class=\"data row3 col5\" >176</td>\n",
       "            </tr>\n",
       "            <tr>\n",
       "                        <th id=\"T_338fe_level0_row4\" class=\"row_heading level0 row4\" >Nonvascular Plant</th>\n",
       "                        <td id=\"T_338fe_row4_col0\" class=\"data row4 col0\" >328</td>\n",
       "                        <td id=\"T_338fe_row4_col1\" class=\"data row4 col1\" >0</td>\n",
       "                        <td id=\"T_338fe_row4_col2\" class=\"data row4 col2\" >5</td>\n",
       "                        <td id=\"T_338fe_row4_col3\" class=\"data row4 col3\" >0</td>\n",
       "                        <td id=\"T_338fe_row4_col4\" class=\"data row4 col4\" >0</td>\n",
       "                        <td id=\"T_338fe_row4_col5\" class=\"data row4 col5\" >333</td>\n",
       "            </tr>\n",
       "            <tr>\n",
       "                        <th id=\"T_338fe_level0_row5\" class=\"row_heading level0 row5\" >Reptile</th>\n",
       "                        <td id=\"T_338fe_row5_col0\" class=\"data row5 col0\" >73</td>\n",
       "                        <td id=\"T_338fe_row5_col1\" class=\"data row5 col1\" >0</td>\n",
       "                        <td id=\"T_338fe_row5_col2\" class=\"data row5 col2\" >5</td>\n",
       "                        <td id=\"T_338fe_row5_col3\" class=\"data row5 col3\" >0</td>\n",
       "                        <td id=\"T_338fe_row5_col4\" class=\"data row5 col4\" >0</td>\n",
       "                        <td id=\"T_338fe_row5_col5\" class=\"data row5 col5\" >78</td>\n",
       "            </tr>\n",
       "            <tr>\n",
       "                        <th id=\"T_338fe_level0_row6\" class=\"row_heading level0 row6\" >Vascular Plant</th>\n",
       "                        <td id=\"T_338fe_row6_col0\" class=\"data row6 col0\" >4216</td>\n",
       "                        <td id=\"T_338fe_row6_col1\" class=\"data row6 col1\" >0</td>\n",
       "                        <td id=\"T_338fe_row6_col2\" class=\"data row6 col2\" >43</td>\n",
       "                        <td id=\"T_338fe_row6_col3\" class=\"data row6 col3\" >2</td>\n",
       "                        <td id=\"T_338fe_row6_col4\" class=\"data row6 col4\" >1</td>\n",
       "                        <td id=\"T_338fe_row6_col5\" class=\"data row6 col5\" >4262</td>\n",
       "            </tr>\n",
       "            <tr>\n",
       "                        <th id=\"T_338fe_level0_row7\" class=\"row_heading level0 row7\" >Total</th>\n",
       "                        <td id=\"T_338fe_row7_col0\" class=\"data row7 col0\" >5362</td>\n",
       "                        <td id=\"T_338fe_row7_col1\" class=\"data row7 col1\" >3</td>\n",
       "                        <td id=\"T_338fe_row7_col2\" class=\"data row7 col2\" >151</td>\n",
       "                        <td id=\"T_338fe_row7_col3\" class=\"data row7 col3\" >10</td>\n",
       "                        <td id=\"T_338fe_row7_col4\" class=\"data row7 col4\" >15</td>\n",
       "                        <td id=\"T_338fe_row7_col5\" class=\"data row7 col5\" >5541</td>\n",
       "            </tr>\n",
       "    </tbody></table>"
      ],
      "text/plain": [
       "<pandas.io.formats.style.Styler at 0x7f922e58dee0>"
      ]
     },
     "metadata": {},
     "output_type": "display_data"
    }
   ],
   "source": [
    "# calculating number of species by conservation status per category\n",
    "conservation_status_by_category = pd.DataFrame(biodiversity.groupby(['category','conservation_status'])\\\n",
    "                                           .scientific_name.nunique()\\\n",
    "                                           .unstack(fill_value=0))\n",
    "\n",
    "# adding a row called 'total' with the total sum of each column\n",
    "conservation_status_by_category.loc['Total'] = conservation_status_by_category.sum()\n",
    "\n",
    "# add a column called \"total\" with the total sum for each category\n",
    "conservation_status_by_category['Total'] = conservation_status_by_category.sum(axis=1)\n",
    "\n",
    "# reorganizing columns\n",
    "conservation_status_by_category = conservation_status_by_category[['Least Concern', 'In Recovery', 'Species of Concern', 'Threatened', 'Endangered', 'Total']]\n",
    "\n",
    "# display table\n",
    "display(conservation_status_by_category.style.set_caption('Conservation Status Distribution by Category'))"
   ]
  },
  {
   "cell_type": "markdown",
   "metadata": {},
   "source": [
    "<br>\n",
    "\n",
    "#### **4.3: Are certain types of species more likely to be endagered?**\n",
    "<a id=\"q3\"></a>\n",
    "\n",
    "<br>"
   ]
  },
  {
   "cell_type": "markdown",
   "metadata": {},
   "source": [
    "<br>\n",
    "\n",
    "#### **Table 4: Species Distrbution by Conservation Status per Category (Percentage)**\n",
    "<a id=\"table4\"></a>\n",
    "\n",
    "<br>"
   ]
  },
  {
   "cell_type": "code",
   "execution_count": 44,
   "metadata": {},
   "outputs": [
    {
     "data": {
      "text/html": [
       "<style  type=\"text/css\" >\n",
       "</style><table id=\"T_c46a4_\" ><caption>Conservation Status Distribution by Category (Percentage)</caption><thead>    <tr>        <th class=\"index_name level0\" >conservation_status</th>        <th class=\"col_heading level0 col0\" >Least Concern</th>        <th class=\"col_heading level0 col1\" >In Recovery</th>        <th class=\"col_heading level0 col2\" >Species of Concern</th>        <th class=\"col_heading level0 col3\" >Threatened</th>        <th class=\"col_heading level0 col4\" >Endangered</th>    </tr>    <tr>        <th class=\"index_name level0\" >category</th>        <th class=\"blank\" ></th>        <th class=\"blank\" ></th>        <th class=\"blank\" ></th>        <th class=\"blank\" ></th>        <th class=\"blank\" ></th>    </tr></thead><tbody>\n",
       "                <tr>\n",
       "                        <th id=\"T_c46a4_level0_row0\" class=\"row_heading level0 row0\" >Amphibian</th>\n",
       "                        <td id=\"T_c46a4_row0_col0\" class=\"data row0 col0\" >1.34</td>\n",
       "                        <td id=\"T_c46a4_row0_col1\" class=\"data row0 col1\" >0.00</td>\n",
       "                        <td id=\"T_c46a4_row0_col2\" class=\"data row0 col2\" >2.65</td>\n",
       "                        <td id=\"T_c46a4_row0_col3\" class=\"data row0 col3\" >20.00</td>\n",
       "                        <td id=\"T_c46a4_row0_col4\" class=\"data row0 col4\" >6.67</td>\n",
       "            </tr>\n",
       "            <tr>\n",
       "                        <th id=\"T_c46a4_level0_row1\" class=\"row_heading level0 row1\" >Bird</th>\n",
       "                        <td id=\"T_c46a4_row1_col0\" class=\"data row1 col0\" >7.70</td>\n",
       "                        <td id=\"T_c46a4_row1_col1\" class=\"data row1 col1\" >100.00</td>\n",
       "                        <td id=\"T_c46a4_row1_col2\" class=\"data row1 col2\" >45.03</td>\n",
       "                        <td id=\"T_c46a4_row1_col3\" class=\"data row1 col3\" >0.00</td>\n",
       "                        <td id=\"T_c46a4_row1_col4\" class=\"data row1 col4\" >26.67</td>\n",
       "            </tr>\n",
       "            <tr>\n",
       "                        <th id=\"T_c46a4_level0_row2\" class=\"row_heading level0 row2\" >Fish</th>\n",
       "                        <td id=\"T_c46a4_row2_col0\" class=\"data row2 col0\" >2.13</td>\n",
       "                        <td id=\"T_c46a4_row2_col1\" class=\"data row2 col1\" >0.00</td>\n",
       "                        <td id=\"T_c46a4_row2_col2\" class=\"data row2 col2\" >2.65</td>\n",
       "                        <td id=\"T_c46a4_row2_col3\" class=\"data row2 col3\" >40.00</td>\n",
       "                        <td id=\"T_c46a4_row2_col4\" class=\"data row2 col4\" >20.00</td>\n",
       "            </tr>\n",
       "            <tr>\n",
       "                        <th id=\"T_c46a4_level0_row3\" class=\"row_heading level0 row3\" >Mammal</th>\n",
       "                        <td id=\"T_c46a4_row3_col0\" class=\"data row3 col0\" >2.72</td>\n",
       "                        <td id=\"T_c46a4_row3_col1\" class=\"data row3 col1\" >0.00</td>\n",
       "                        <td id=\"T_c46a4_row3_col2\" class=\"data row3 col2\" >14.57</td>\n",
       "                        <td id=\"T_c46a4_row3_col3\" class=\"data row3 col3\" >20.00</td>\n",
       "                        <td id=\"T_c46a4_row3_col4\" class=\"data row3 col4\" >40.00</td>\n",
       "            </tr>\n",
       "            <tr>\n",
       "                        <th id=\"T_c46a4_level0_row4\" class=\"row_heading level0 row4\" >Nonvascular Plant</th>\n",
       "                        <td id=\"T_c46a4_row4_col0\" class=\"data row4 col0\" >6.12</td>\n",
       "                        <td id=\"T_c46a4_row4_col1\" class=\"data row4 col1\" >0.00</td>\n",
       "                        <td id=\"T_c46a4_row4_col2\" class=\"data row4 col2\" >3.31</td>\n",
       "                        <td id=\"T_c46a4_row4_col3\" class=\"data row4 col3\" >0.00</td>\n",
       "                        <td id=\"T_c46a4_row4_col4\" class=\"data row4 col4\" >0.00</td>\n",
       "            </tr>\n",
       "            <tr>\n",
       "                        <th id=\"T_c46a4_level0_row5\" class=\"row_heading level0 row5\" >Reptile</th>\n",
       "                        <td id=\"T_c46a4_row5_col0\" class=\"data row5 col0\" >1.36</td>\n",
       "                        <td id=\"T_c46a4_row5_col1\" class=\"data row5 col1\" >0.00</td>\n",
       "                        <td id=\"T_c46a4_row5_col2\" class=\"data row5 col2\" >3.31</td>\n",
       "                        <td id=\"T_c46a4_row5_col3\" class=\"data row5 col3\" >0.00</td>\n",
       "                        <td id=\"T_c46a4_row5_col4\" class=\"data row5 col4\" >0.00</td>\n",
       "            </tr>\n",
       "            <tr>\n",
       "                        <th id=\"T_c46a4_level0_row6\" class=\"row_heading level0 row6\" >Vascular Plant</th>\n",
       "                        <td id=\"T_c46a4_row6_col0\" class=\"data row6 col0\" >78.63</td>\n",
       "                        <td id=\"T_c46a4_row6_col1\" class=\"data row6 col1\" >0.00</td>\n",
       "                        <td id=\"T_c46a4_row6_col2\" class=\"data row6 col2\" >28.48</td>\n",
       "                        <td id=\"T_c46a4_row6_col3\" class=\"data row6 col3\" >20.00</td>\n",
       "                        <td id=\"T_c46a4_row6_col4\" class=\"data row6 col4\" >6.67</td>\n",
       "            </tr>\n",
       "            <tr>\n",
       "                        <th id=\"T_c46a4_level0_row7\" class=\"row_heading level0 row7\" >Total</th>\n",
       "                        <td id=\"T_c46a4_row7_col0\" class=\"data row7 col0\" >100.00</td>\n",
       "                        <td id=\"T_c46a4_row7_col1\" class=\"data row7 col1\" >100.00</td>\n",
       "                        <td id=\"T_c46a4_row7_col2\" class=\"data row7 col2\" >100.00</td>\n",
       "                        <td id=\"T_c46a4_row7_col3\" class=\"data row7 col3\" >100.00</td>\n",
       "                        <td id=\"T_c46a4_row7_col4\" class=\"data row7 col4\" >100.00</td>\n",
       "            </tr>\n",
       "    </tbody></table>"
      ],
      "text/plain": [
       "<pandas.io.formats.style.Styler at 0x7f9217330f10>"
      ]
     },
     "metadata": {},
     "output_type": "display_data"
    }
   ],
   "source": [
    "# table to calculate the number of species by conservation status per category\n",
    "endangerment_table = conservation_status_by_category.copy().drop(labels=['Total'], axis=1)\n",
    "\n",
    "# calculate the percentage of total for each row\n",
    "endangerment_table_percent = endangerment_table.copy()\n",
    "for column in endangerment_table.columns:\n",
    "        endangerment_table_percent[column] = endangerment_table_percent[column] / endangerment_table_percent[column]['Total'] * 100\n",
    "\n",
    "# display table\n",
    "display(endangerment_table_percent.style.set_caption('Conservation Status Distribution by Category (Percentage)').format('{:.2f}'))"
   ]
  },
  {
   "cell_type": "markdown",
   "metadata": {},
   "source": [
    "<br>\n",
    "\n",
    "#### **Figure 7: Species of Concern Distribution by Category**\n",
    "<a id=\"figure7\"></a>\n",
    "\n",
    "<br>"
   ]
  },
  {
   "cell_type": "code",
   "execution_count": 45,
   "metadata": {},
   "outputs": [
    {
     "name": "stdout",
     "output_type": "stream",
     "text": [
      "            category  count\n",
      "0               Bird     68\n",
      "1     Vascular Plant     43\n",
      "2             Mammal     22\n",
      "3  Nonvascular Plant      5\n",
      "4            Reptile      5\n",
      "5          Amphibian      4\n",
      "6               Fish      4\n"
     ]
    },
    {
     "data": {
      "image/png": "[encoded data removed]",
      "text/plain": [
       "<Figure size 640x480 with 1 Axes>"
      ]
     },
     "metadata": {},
     "output_type": "display_data"
    }
   ],
   "source": [
    "# dataframe containing only 'Species of Concern' species\n",
    "species_of_concern_df = biodiversity.loc[biodiversity['conservation_status'] == 'Species of Concern']\n",
    "\n",
    "# count of 'Species of Concern' species by category\n",
    "species_of_concern_dist = species_of_concern_df.groupby('category').scientific_name\\\n",
    "                               .nunique().sort_values(ascending=False).reset_index()\\\n",
    "                               .rename(columns={'index':'category', 'scientific_name': 'count'})\n",
    "\n",
    "print(species_of_concern_dist)\n",
    "\n",
    "# define colors for each category\n",
    "colors = ['#86bbd8', '#f26419', '#90ab60', '#f6ae2d', '#c8b132', '#33658a', '#59a58e']\n",
    "\n",
    "# pie chart\n",
    "pie_wedges = species_of_concern_dist['count']\n",
    "pie_labels = species_of_concern_dist.category\n",
    "\n",
    "# \"exploding\" the 1st slice (i.e. 'Bird')\n",
    "explode = (0.1, 0, 0, 0, 0, 0, 0)  \n",
    "\n",
    "# matplot pie chart\n",
    "fig7, ax1 = plt.subplots()\n",
    "ax1.pie(x=pie_wedges, explode=explode, colors=colors, shadow=False, autopct='%.1f%%')\n",
    "ax1.axis('equal')\n",
    "plt.title('Species of Concern Distribution')\n",
    "plt.legend(pie_labels, title='Category', loc='upper right', bbox_to_anchor=(1.2,1))\n",
    "plt.tight_layout()\n",
    "\n",
    "# save the figure\n",
    "plt.savefig('Figure7.png', dpi=300, bbox_inches='tight')\n",
    "\n",
    "# display the figure\n",
    "plt.show()"
   ]
  },
  {
   "cell_type": "code",
   "execution_count": 46,
   "metadata": {},
   "outputs": [
    {
     "data": {
      "text/html": [
       "<style  type=\"text/css\" >\n",
       "</style><table id=\"T_46528_\" ><caption>Most Observed 'Species of Concern' Birds (Top 10)</caption><thead>    <tr>        <th class=\"blank level0\" ></th>        <th class=\"col_heading level0 col0\" >common_names</th>        <th class=\"col_heading level0 col1\" >observations</th>    </tr></thead><tbody>\n",
       "                <tr>\n",
       "                        <th id=\"T_46528_level0_row0\" class=\"row_heading level0 row0\" >1</th>\n",
       "                        <td id=\"T_46528_row0_col0\" class=\"data row0 col0\" >Sand Martin</td>\n",
       "                        <td id=\"T_46528_row0_col1\" class=\"data row0 col1\" >1042</td>\n",
       "            </tr>\n",
       "            <tr>\n",
       "                        <th id=\"T_46528_level0_row1\" class=\"row_heading level0 row1\" >2</th>\n",
       "                        <td id=\"T_46528_row1_col0\" class=\"data row1 col0\" >Western Osprey</td>\n",
       "                        <td id=\"T_46528_row1_col1\" class=\"data row1 col1\" >1040</td>\n",
       "            </tr>\n",
       "            <tr>\n",
       "                        <th id=\"T_46528_level0_row2\" class=\"row_heading level0 row2\" >3</th>\n",
       "                        <td id=\"T_46528_row2_col0\" class=\"data row2 col0\" >Black-Crowned Night Heron</td>\n",
       "                        <td id=\"T_46528_row2_col1\" class=\"data row2 col1\" >1018</td>\n",
       "            </tr>\n",
       "            <tr>\n",
       "                        <th id=\"T_46528_level0_row3\" class=\"row_heading level0 row3\" >4</th>\n",
       "                        <td id=\"T_46528_row3_col0\" class=\"data row3 col0\" >Great Northern Loon</td>\n",
       "                        <td id=\"T_46528_row3_col1\" class=\"data row3 col1\" >1016</td>\n",
       "            </tr>\n",
       "            <tr>\n",
       "                        <th id=\"T_46528_level0_row4\" class=\"row_heading level0 row4\" >5</th>\n",
       "                        <td id=\"T_46528_row4_col0\" class=\"data row4 col0\" >White-Faced Ibis</td>\n",
       "                        <td id=\"T_46528_row4_col1\" class=\"data row4 col1\" >595</td>\n",
       "            </tr>\n",
       "            <tr>\n",
       "                        <th id=\"T_46528_level0_row5\" class=\"row_heading level0 row5\" >6</th>\n",
       "                        <td id=\"T_46528_row5_col0\" class=\"data row5 col0\" >Lesser Scaup</td>\n",
       "                        <td id=\"T_46528_row5_col1\" class=\"data row5 col1\" >581</td>\n",
       "            </tr>\n",
       "            <tr>\n",
       "                        <th id=\"T_46528_level0_row6\" class=\"row_heading level0 row6\" >7</th>\n",
       "                        <td id=\"T_46528_row6_col0\" class=\"data row6 col0\" >Marbled Godwit</td>\n",
       "                        <td id=\"T_46528_row6_col1\" class=\"data row6 col1\" >575</td>\n",
       "            </tr>\n",
       "            <tr>\n",
       "                        <th id=\"T_46528_level0_row7\" class=\"row_heading level0 row7\" >8</th>\n",
       "                        <td id=\"T_46528_row7_col0\" class=\"data row7 col0\" >American White Pelican</td>\n",
       "                        <td id=\"T_46528_row7_col1\" class=\"data row7 col1\" >569</td>\n",
       "            </tr>\n",
       "            <tr>\n",
       "                        <th id=\"T_46528_level0_row8\" class=\"row_heading level0 row8\" >9</th>\n",
       "                        <td id=\"T_46528_row8_col0\" class=\"data row8 col0\" >Olive-Sided Flycatcher</td>\n",
       "                        <td id=\"T_46528_row8_col1\" class=\"data row8 col1\" >563</td>\n",
       "            </tr>\n",
       "            <tr>\n",
       "                        <th id=\"T_46528_level0_row9\" class=\"row_heading level0 row9\" >10</th>\n",
       "                        <td id=\"T_46528_row9_col0\" class=\"data row9 col0\" >Williamson's Sapsucker</td>\n",
       "                        <td id=\"T_46528_row9_col1\" class=\"data row9 col1\" >554</td>\n",
       "            </tr>\n",
       "    </tbody></table>"
      ],
      "text/plain": [
       "<pandas.io.formats.style.Styler at 0x7f921e719790>"
      ]
     },
     "metadata": {},
     "output_type": "display_data"
    }
   ],
   "source": [
    "species_of_concern_birds = biodiversity[(biodiversity['conservation_status'] == 'Species of Concern')\\\n",
    "                                        & (biodiversity['category'] == 'Bird')]\\\n",
    "                                        .groupby('common_names')\\\n",
    "                                        .observations.sum()\\\n",
    "                                        .sort_values(ascending=False).reset_index()\n",
    "\n",
    "# start row index from 1\n",
    "species_of_concern_birds.index = species_of_concern_birds.index + 1\n",
    "\n",
    "# display \"Most Observed 'Species of Concern' Birds\"\n",
    "display(species_of_concern_birds.head(10).style.set_caption(\"Most Observed 'Species of Concern' Birds (Top 10)\"))"
   ]
  },
  {
   "cell_type": "markdown",
   "metadata": {},
   "source": [
    "<br>\n",
    "\n",
    "#### **Figure 8: Threatened Species Distribution by Category**\n",
    "<a id=\"figure8\"></a>\n",
    "\n",
    "<br>"
   ]
  },
  {
   "cell_type": "code",
   "execution_count": 47,
   "metadata": {},
   "outputs": [
    {
     "name": "stdout",
     "output_type": "stream",
     "text": [
      "         category  count\n",
      "0            Fish      4\n",
      "1       Amphibian      2\n",
      "2          Mammal      2\n",
      "3  Vascular Plant      2\n"
     ]
    },
    {
     "data": {
      "image/png": "[encoded data removed]",
      "text/plain": [
       "<Figure size 640x480 with 1 Axes>"
      ]
     },
     "metadata": {},
     "output_type": "display_data"
    }
   ],
   "source": [
    "# dataframe containing only 'Threatened' species\n",
    "threatened_species_df = biodiversity.loc[biodiversity['conservation_status'] == 'Threatened']\n",
    "\n",
    "# count of 'Threatened' species by category\n",
    "threatened_species_dist = threatened_species_df.groupby('category').scientific_name\\\n",
    "                               .nunique().sort_values(ascending=False).reset_index()\\\n",
    "                               .rename(columns={'index':'category', 'scientific_name': 'count'})\n",
    "print(threatened_species_dist)\n",
    "\n",
    "# define colors for each category\n",
    "colors = ['#59a58e', '#90ab60', '#33658a', '#f26419']\n",
    "\n",
    "# pie chart\n",
    "pie_wedges = threatened_species_dist['count']\n",
    "pie_labels = threatened_species_dist.category\n",
    "\n",
    "# \"exploding\" the 1st slice (i.e. 'Fish')\n",
    "explode = (0.1, 0, 0, 0)  \n",
    "\n",
    "# matplot pie chart\n",
    "fig8, ax1 = plt.subplots()\n",
    "ax1.pie(x=pie_wedges, explode=explode, colors=colors, shadow=False, autopct='%.1f%%')\n",
    "ax1.axis('equal')\n",
    "plt.title('Threatened Species Distribution by Category')\n",
    "plt.legend(pie_labels, title='Category', loc='upper right', bbox_to_anchor=(1.2,1))\n",
    "plt.tight_layout()\n",
    "\n",
    "# save the figure\n",
    "plt.savefig('Figure8.png', dpi=300, bbox_inches='tight')\n",
    "\n",
    "# display the figure\n",
    "plt.show()"
   ]
  },
  {
   "cell_type": "code",
   "execution_count": 48,
   "metadata": {},
   "outputs": [
    {
     "data": {
      "text/html": [
       "<style  type=\"text/css\" >\n",
       "</style><table id=\"T_03b31_\" ><caption>Most Observed 'Threatened' Fish Species</caption><thead>    <tr>        <th class=\"blank level0\" ></th>        <th class=\"col_heading level0 col0\" >common_names</th>        <th class=\"col_heading level0 col1\" >observations</th>    </tr></thead><tbody>\n",
       "                <tr>\n",
       "                        <th id=\"T_03b31_level0_row0\" class=\"row_heading level0 row0\" >1</th>\n",
       "                        <td id=\"T_03b31_row0_col0\" class=\"data row0 col0\" >Rainbow Trout</td>\n",
       "                        <td id=\"T_03b31_row0_col1\" class=\"data row0 col1\" >813</td>\n",
       "            </tr>\n",
       "            <tr>\n",
       "                        <th id=\"T_03b31_level0_row1\" class=\"row_heading level0 row1\" >2</th>\n",
       "                        <td id=\"T_03b31_row1_col0\" class=\"data row1 col0\" >Lahontan Cutthroat Trout</td>\n",
       "                        <td id=\"T_03b31_row1_col1\" class=\"data row1 col1\" >301</td>\n",
       "            </tr>\n",
       "            <tr>\n",
       "                        <th id=\"T_03b31_level0_row2\" class=\"row_heading level0 row2\" >3</th>\n",
       "                        <td id=\"T_03b31_row2_col0\" class=\"data row2 col0\" >Yellowfin Madtom</td>\n",
       "                        <td id=\"T_03b31_row2_col1\" class=\"data row2 col1\" >289</td>\n",
       "            </tr>\n",
       "            <tr>\n",
       "                        <th id=\"T_03b31_level0_row3\" class=\"row_heading level0 row3\" >4</th>\n",
       "                        <td id=\"T_03b31_row3_col0\" class=\"data row3 col0\" >Spotfin Chub</td>\n",
       "                        <td id=\"T_03b31_row3_col1\" class=\"data row3 col1\" >242</td>\n",
       "            </tr>\n",
       "    </tbody></table>"
      ],
      "text/plain": [
       "<pandas.io.formats.style.Styler at 0x7f9217553bb0>"
      ]
     },
     "metadata": {},
     "output_type": "display_data"
    }
   ],
   "source": [
    "threatened_fish = biodiversity[(biodiversity['conservation_status'] == 'Threatened') \\\n",
    "                                        & (biodiversity['category'] == 'Fish')]\\\n",
    "                                        .groupby('common_names')\\\n",
    "                                        .observations.sum()\\\n",
    "                                        .sort_values(ascending=False).reset_index()\n",
    "\n",
    "# start row index from 1\n",
    "threatened_fish.index = threatened_fish.index + 1\n",
    "\n",
    "# display \"Most Observed 'Threatened' Fish Species by Park\"\n",
    "display(threatened_fish.style.set_caption(\"Most Observed 'Threatened' Fish Species\"))"
   ]
  },
  {
   "cell_type": "markdown",
   "metadata": {},
   "source": [
    "<br>\n",
    "\n",
    "#### **Figure 9: Endangered Species Distribution by Category**\n",
    "<a id=\"figure9\"></a>\n",
    "\n",
    "<br>"
   ]
  },
  {
   "cell_type": "code",
   "execution_count": 49,
   "metadata": {},
   "outputs": [
    {
     "name": "stdout",
     "output_type": "stream",
     "text": [
      "         category  count\n",
      "0          Mammal      6\n",
      "1            Bird      4\n",
      "2            Fish      3\n",
      "3       Amphibian      1\n",
      "4  Vascular Plant      1\n"
     ]
    },
    {
     "data": {
      "image/png": "[encoded data removed]",
      "text/plain": [
       "<Figure size 640x480 with 1 Axes>"
      ]
     },
     "metadata": {},
     "output_type": "display_data"
    }
   ],
   "source": [
    "# dataframe containing only 'Species of Concern' species\n",
    "endangered_species_df = biodiversity.loc[biodiversity['conservation_status'] == 'Endangered']\n",
    "\n",
    "# count of 'Species of Concern' species by category\n",
    "endangered_species_dist = endangered_species_df.groupby('category').scientific_name\\\n",
    "                               .nunique().sort_values(ascending=False).reset_index()\\\n",
    "                               .rename(columns={'index':'category', 'scientific_name': 'count'})\n",
    "print(endangered_species_dist)\n",
    "\n",
    "# define colors for each category\n",
    "colors = ['#90ab60', '#86bbd8', '#59a58e', '#33658a', '#f26419']\n",
    "\n",
    "# pie chart\n",
    "pie_wedges = endangered_species_dist['count']\n",
    "pie_labels = endangered_species_dist.category\n",
    "\n",
    "# \"exploding\" the 1st slice (i.e. 'Mammal')\n",
    "explode = (0.1, 0, 0, 0, 0)  \n",
    "\n",
    "# matplot pie chart\n",
    "fig9, ax1 = plt.subplots()\n",
    "ax1.pie(x=pie_wedges, explode=explode, colors=colors, shadow=False, autopct='%.1f%%')\n",
    "ax1.axis('equal')\n",
    "plt.title('Endangered Species Distribution')\n",
    "plt.legend(pie_labels, title='Category', loc='upper right', bbox_to_anchor=(1.2,1))\n",
    "plt.tight_layout()\n",
    "\n",
    "# save the figure\n",
    "plt.savefig('Figure9.png', dpi=300, bbox_inches='tight')\n",
    "\n",
    "# display the figure\n",
    "plt.show()"
   ]
  },
  {
   "cell_type": "code",
   "execution_count": 50,
   "metadata": {},
   "outputs": [
    {
     "data": {
      "text/html": [
       "<style  type=\"text/css\" >\n",
       "</style><table id=\"T_d2a6f_\" ><caption>Most Observed 'Endangered' Mammal Species</caption><thead>    <tr>        <th class=\"blank level0\" ></th>        <th class=\"col_heading level0 col0\" >common_names</th>        <th class=\"col_heading level0 col1\" >observations</th>    </tr></thead><tbody>\n",
       "                <tr>\n",
       "                        <th id=\"T_d2a6f_level0_row0\" class=\"row_heading level0 row0\" >1</th>\n",
       "                        <td id=\"T_d2a6f_row0_col0\" class=\"data row0 col0\" >Wolf</td>\n",
       "                        <td id=\"T_d2a6f_row0_col1\" class=\"data row0 col1\" >715</td>\n",
       "            </tr>\n",
       "            <tr>\n",
       "                        <th id=\"T_d2a6f_level0_row1\" class=\"row_heading level0 row1\" >2</th>\n",
       "                        <td id=\"T_d2a6f_row1_col0\" class=\"data row1 col0\" >Gray Myotis</td>\n",
       "                        <td id=\"T_d2a6f_row1_col1\" class=\"data row1 col1\" >160</td>\n",
       "            </tr>\n",
       "            <tr>\n",
       "                        <th id=\"T_d2a6f_level0_row2\" class=\"row_heading level0 row2\" >3</th>\n",
       "                        <td id=\"T_d2a6f_row2_col0\" class=\"data row2 col0\" >Northern Flying Squirrel</td>\n",
       "                        <td id=\"T_d2a6f_row2_col1\" class=\"data row2 col1\" >153</td>\n",
       "            </tr>\n",
       "            <tr>\n",
       "                        <th id=\"T_d2a6f_level0_row3\" class=\"row_heading level0 row3\" >4</th>\n",
       "                        <td id=\"T_d2a6f_row3_col0\" class=\"data row3 col0\" >Sierra Nevada Bighorn Sheep</td>\n",
       "                        <td id=\"T_d2a6f_row3_col1\" class=\"data row3 col1\" >153</td>\n",
       "            </tr>\n",
       "            <tr>\n",
       "                        <th id=\"T_d2a6f_level0_row4\" class=\"row_heading level0 row4\" >5</th>\n",
       "                        <td id=\"T_d2a6f_row4_col0\" class=\"data row4 col0\" >Social Myotis</td>\n",
       "                        <td id=\"T_d2a6f_row4_col1\" class=\"data row4 col1\" >145</td>\n",
       "            </tr>\n",
       "            <tr>\n",
       "                        <th id=\"T_d2a6f_level0_row5\" class=\"row_heading level0 row5\" >6</th>\n",
       "                        <td id=\"T_d2a6f_row5_col0\" class=\"data row5 col0\" >Red Wolf</td>\n",
       "                        <td id=\"T_d2a6f_row5_col1\" class=\"data row5 col1\" >137</td>\n",
       "            </tr>\n",
       "    </tbody></table>"
      ],
      "text/plain": [
       "<pandas.io.formats.style.Styler at 0x7f922e31d8b0>"
      ]
     },
     "metadata": {},
     "output_type": "display_data"
    }
   ],
   "source": [
    "endangered_mammal = biodiversity[(biodiversity['conservation_status'] == 'Endangered') \\\n",
    "                                        & (biodiversity['category'] == 'Mammal')]\\\n",
    "                                        .groupby('common_names')\\\n",
    "                                        .observations.sum()\\\n",
    "                                        .sort_values(ascending=False).reset_index()\n",
    "\n",
    "# start row index from 1\n",
    "endangered_mammal.index = endangered_mammal.index + 1\n",
    "\n",
    "# display \"Most Observed 'Threatened' Fish Species by Park\"\n",
    "display(endangered_mammal.style.set_caption(\"Most Observed 'Endangered' Mammal Species\"))"
   ]
  },
  {
   "cell_type": "markdown",
   "metadata": {},
   "source": [
    "<br>\n",
    "\n",
    "#### **4.4: Are the differences between species and their conservation status significant?**\n",
    "<a id=\"q4\"></a>\n",
    "\n",
    "<br>"
   ]
  },
  {
   "cell_type": "markdown",
   "metadata": {},
   "source": [
    "<br>\n",
    "\n",
    "#### **4.4.1: Chi-squared Test**\n",
    "<a id=\"q4.1\"></a>\n",
    "\n",
    "<br>\n",
    "\n",
    "**Chi-squared (χ²) Test**:\n",
    "\n",
    "(https://en.wikipedia.org/wiki/Chi-squared_test)\n",
    "\n",
    "The chi-squared test is used to determine the association between two categorical variables. It compares the observed frequencies in a contingency table with the expected frequencies under the assumption of independence. The test statistic, χ², is calculated based on the differences between observed and expected frequencies. The p-value is then derived from the chi-square distribution with appropriate degrees of freedom. A low p-value suggests that there is a significant association between the variables.\n",
    "\n",
    "<br>\n",
    "<br>\n",
    "\n",
    "To analyze the statistics and p-values of a chi-squared test, **the obtained p-value is usually compared to a significance level (such as 0.05; 5%)**. If the **p-value is smaller** than the **significance level**, **the null hypothesis is rejected** and it is concluded that there is evidence of an association between the variables. Conversely, if the **p-value is larger** than the **significance level**, **the null hypothesis stands** and **it can be concluded that there is insufficient evidence to suggest an association**.\n",
    "\n",
    "Statistical hypothesis testing is based on rejecting the null hypothesis if the likelihood of the observed data under the null hypotheses is low.\n",
    "\n",
    "<br>\n",
    "<br>\n",
    "\n",
    "**Null Hypothesis**: There are no significant differences between the protection status and unprotected species.\n",
    "\n",
    "**Alternative Hypothesis**: There are significant differences between the protected and unprotected species.\n",
    "\n",
    "<br>\n",
    "<br>\n",
    "\n",
    "To analyze the given results, we **compare the p-values** with the predetermined **significance level of 0.05**. The significance level, also known as **alpha (α)**, **represents the threshold below which we reject the null hypothesis**.\n",
    "\n",
    "<br>"
   ]
  },
  {
   "cell_type": "markdown",
   "metadata": {},
   "source": [
    "<br>\n",
    "\n",
    "#### **Table 5: Species Distrbution by Protection Stauts (Count, Total & Percentage)**\n",
    "<a id=\"table5\"></a>\n",
    "\n",
    "<br>"
   ]
  },
  {
   "cell_type": "markdown",
   "metadata": {},
   "source": [
    "<br>\n",
    "\n",
    "To explore whether some species are more likely to be endagered than others, a new column called **is_protected** is created to include any protected species; species that have a a conservation status other than `Least Concern`.\n",
    "\n",
    "<br>"
   ]
  },
  {
   "cell_type": "code",
   "execution_count": 51,
   "metadata": {},
   "outputs": [
    {
     "data": {
      "text/html": [
       "<style  type=\"text/css\" >\n",
       "</style><table id=\"T_0f6d9_\" ><caption>Category Distribution by Protection Status</caption><thead>    <tr>        <th class=\"blank level0\" ></th>        <th class=\"col_heading level0 col0\" >category</th>        <th class=\"col_heading level0 col1\" >protected</th>        <th class=\"col_heading level0 col2\" >not_protected</th>        <th class=\"col_heading level0 col3\" >total</th>        <th class=\"col_heading level0 col4\" >percent_protected</th>    </tr></thead><tbody>\n",
       "                <tr>\n",
       "                        <th id=\"T_0f6d9_level0_row0\" class=\"row_heading level0 row0\" >0</th>\n",
       "                        <td id=\"T_0f6d9_row0_col0\" class=\"data row0 col0\" >Amphibian</td>\n",
       "                        <td id=\"T_0f6d9_row0_col1\" class=\"data row0 col1\" >7</td>\n",
       "                        <td id=\"T_0f6d9_row0_col2\" class=\"data row0 col2\" >72</td>\n",
       "                        <td id=\"T_0f6d9_row0_col3\" class=\"data row0 col3\" >79</td>\n",
       "                        <td id=\"T_0f6d9_row0_col4\" class=\"data row0 col4\" >8.860759</td>\n",
       "            </tr>\n",
       "            <tr>\n",
       "                        <th id=\"T_0f6d9_level0_row1\" class=\"row_heading level0 row1\" >1</th>\n",
       "                        <td id=\"T_0f6d9_row1_col0\" class=\"data row1 col0\" >Bird</td>\n",
       "                        <td id=\"T_0f6d9_row1_col1\" class=\"data row1 col1\" >75</td>\n",
       "                        <td id=\"T_0f6d9_row1_col2\" class=\"data row1 col2\" >413</td>\n",
       "                        <td id=\"T_0f6d9_row1_col3\" class=\"data row1 col3\" >488</td>\n",
       "                        <td id=\"T_0f6d9_row1_col4\" class=\"data row1 col4\" >15.368852</td>\n",
       "            </tr>\n",
       "            <tr>\n",
       "                        <th id=\"T_0f6d9_level0_row2\" class=\"row_heading level0 row2\" >2</th>\n",
       "                        <td id=\"T_0f6d9_row2_col0\" class=\"data row2 col0\" >Fish</td>\n",
       "                        <td id=\"T_0f6d9_row2_col1\" class=\"data row2 col1\" >11</td>\n",
       "                        <td id=\"T_0f6d9_row2_col2\" class=\"data row2 col2\" >114</td>\n",
       "                        <td id=\"T_0f6d9_row2_col3\" class=\"data row2 col3\" >125</td>\n",
       "                        <td id=\"T_0f6d9_row2_col4\" class=\"data row2 col4\" >8.800000</td>\n",
       "            </tr>\n",
       "            <tr>\n",
       "                        <th id=\"T_0f6d9_level0_row3\" class=\"row_heading level0 row3\" >3</th>\n",
       "                        <td id=\"T_0f6d9_row3_col0\" class=\"data row3 col0\" >Mammal</td>\n",
       "                        <td id=\"T_0f6d9_row3_col1\" class=\"data row3 col1\" >30</td>\n",
       "                        <td id=\"T_0f6d9_row3_col2\" class=\"data row3 col2\" >146</td>\n",
       "                        <td id=\"T_0f6d9_row3_col3\" class=\"data row3 col3\" >176</td>\n",
       "                        <td id=\"T_0f6d9_row3_col4\" class=\"data row3 col4\" >17.045455</td>\n",
       "            </tr>\n",
       "            <tr>\n",
       "                        <th id=\"T_0f6d9_level0_row4\" class=\"row_heading level0 row4\" >4</th>\n",
       "                        <td id=\"T_0f6d9_row4_col0\" class=\"data row4 col0\" >Nonvascular Plant</td>\n",
       "                        <td id=\"T_0f6d9_row4_col1\" class=\"data row4 col1\" >5</td>\n",
       "                        <td id=\"T_0f6d9_row4_col2\" class=\"data row4 col2\" >328</td>\n",
       "                        <td id=\"T_0f6d9_row4_col3\" class=\"data row4 col3\" >333</td>\n",
       "                        <td id=\"T_0f6d9_row4_col4\" class=\"data row4 col4\" >1.501502</td>\n",
       "            </tr>\n",
       "            <tr>\n",
       "                        <th id=\"T_0f6d9_level0_row5\" class=\"row_heading level0 row5\" >5</th>\n",
       "                        <td id=\"T_0f6d9_row5_col0\" class=\"data row5 col0\" >Reptile</td>\n",
       "                        <td id=\"T_0f6d9_row5_col1\" class=\"data row5 col1\" >5</td>\n",
       "                        <td id=\"T_0f6d9_row5_col2\" class=\"data row5 col2\" >73</td>\n",
       "                        <td id=\"T_0f6d9_row5_col3\" class=\"data row5 col3\" >78</td>\n",
       "                        <td id=\"T_0f6d9_row5_col4\" class=\"data row5 col4\" >6.410256</td>\n",
       "            </tr>\n",
       "            <tr>\n",
       "                        <th id=\"T_0f6d9_level0_row6\" class=\"row_heading level0 row6\" >6</th>\n",
       "                        <td id=\"T_0f6d9_row6_col0\" class=\"data row6 col0\" >Vascular Plant</td>\n",
       "                        <td id=\"T_0f6d9_row6_col1\" class=\"data row6 col1\" >46</td>\n",
       "                        <td id=\"T_0f6d9_row6_col2\" class=\"data row6 col2\" >4216</td>\n",
       "                        <td id=\"T_0f6d9_row6_col3\" class=\"data row6 col3\" >4262</td>\n",
       "                        <td id=\"T_0f6d9_row6_col4\" class=\"data row6 col4\" >1.079305</td>\n",
       "            </tr>\n",
       "    </tbody></table>"
      ],
      "text/plain": [
       "<pandas.io.formats.style.Styler at 0x7f92182ee7c0>"
      ]
     },
     "metadata": {},
     "output_type": "display_data"
    }
   ],
   "source": [
    "# adding 'is_protected' column to the \"biodiversity\" table\n",
    "biodiversity['is_protected'] = biodiversity.conservation_status != 'Least Concern'\n",
    "\n",
    "# counting species by category and protection status\n",
    "protected_dist = biodiversity.groupby(['category', 'is_protected'])\\\n",
    "                    .scientific_name.nunique()\\\n",
    "                    .reset_index()\\\n",
    "                    .pivot(columns='is_protected', index='category', values='scientific_name')\\\n",
    "                    .reset_index()\n",
    "\n",
    "# renaming columns from pivoted df\n",
    "protected_dist.columns = ['category', 'not_protected', 'protected']\n",
    "\n",
    "# calculating totals by category\n",
    "protected_dist['total'] = protected_dist.protected + protected_dist.not_protected\n",
    "\n",
    "# calculating percent protected by category\n",
    "protected_dist['percent_protected'] = (protected_dist.protected/protected_dist.total * 100)\n",
    "\n",
    "# reordering coolumns\n",
    "protected_dist = protected_dist[['category', 'protected', 'not_protected', 'total', 'percent_protected']]\n",
    "\n",
    "# display table\n",
    "display(protected_dist.style.set_caption('Category Distribution by Protection Status'))"
   ]
  },
  {
   "cell_type": "markdown",
   "metadata": {},
   "source": [
    "<br>\n",
    "\n",
    "For this statistical analysis, chi-squared tests were used to determine if different species had statistically significant differences in conservation status rates. In order to run a chi squared test, 2x2 contingency tables were created for all potential pairings of categories. \n",
    "\n",
    "The contingency tables were prepared using the following format:\n",
    "\n",
    "    contingency_table = [[7, 72], [75, 413]]\n",
    "\n",
    "<br>\n",
    "\n",
    "The alpha value used to determine **statistical significance was 0.05**.\n",
    "\n",
    "<br>"
   ]
  },
  {
   "cell_type": "code",
   "execution_count": 52,
   "metadata": {},
   "outputs": [],
   "source": [
    "# function that calculates Chi2 tests and stores the data into the \"test_results_df\" dataframe\n",
    "def calculate_test(contingency_table):\n",
    "    # calculating chi2 results\n",
    "    chi2, pval, dof, expected = chi2_contingency(contingency_table)\n",
    "\n",
    "    # storing results in dataframe\n",
    "    test_results_df = pd.DataFrame(columns=['Test', 'Statistic', 'p-value'])\n",
    "    test_results_df.loc[0] = ['Chi2', chi2, pval]\n",
    "    \n",
    "    return test_results_df"
   ]
  },
  {
   "cell_type": "code",
   "execution_count": 53,
   "metadata": {},
   "outputs": [
    {
     "name": "stdout",
     "output_type": "stream",
     "text": [
      "Calculations successfully completed (21/21 combinations)\n"
     ]
    }
   ],
   "source": [
    "# function that iterates through \"protected_dist\" and runs the \"calculate_test()\" function\n",
    "# for each 2x2 contingency table (except for AA; if there is AB, exclude BA)\n",
    "\n",
    "# creating empty lists to store categories under Null and Alternative hypotheses\n",
    "null_results = []\n",
    "alternative_results = []\n",
    "\n",
    "iteration = 0\n",
    "\n",
    "# calculate the total number of iterations\n",
    "total_iterations = (len(protected_dist) * (len(protected_dist) - 1)) // 2\n",
    "\n",
    "# set the desired p-value threshold; 5% can be considered as the universal standard\n",
    "# Divided by \"total_iterations\" to include the Bonferroni correction\n",
    "# Expected output is 21 calculations; Checks out!\n",
    "p_value = 0.05\n",
    "\n",
    "# loops that ensure the right amount of combinations for the contingency tables\n",
    "for i in range(len(protected_dist)):\n",
    "    not_protected_1 = protected_dist.iloc[i]['not_protected']\n",
    "    protected_1 = protected_dist.iloc[i]['protected']\n",
    "    category_1 = protected_dist.category.iloc[i]\n",
    "    \n",
    "    for n in range(i+1, len(protected_dist)):\n",
    "        not_protected_2 = protected_dist.iloc[n]['not_protected']\n",
    "        protected_2 = protected_dist.iloc[n]['protected']\n",
    "        category_2 = protected_dist.category.iloc[n]\n",
    "        \n",
    "        result = calculate_test([[not_protected_1, protected_1], [not_protected_2, protected_2]])\n",
    "\n",
    "        # compare the p-value to the given threshold and store everything\n",
    "        # reasoning for \"any\" is to force comparison with the most rigorous test (Barnards)\n",
    "        if any(result['p-value'] > p_value):\n",
    "            alternative_results.append({'Category 1': category_1,\n",
    "                                        'Category 2': category_2,\n",
    "                                        'Chi2 statistic': result['Statistic'][0],\n",
    "                                        'Chi2 p-value': result['p-value'][0],\n",
    "                                        'Hypothesis': 'Alternative'})\n",
    "        else:\n",
    "            null_results.append({'Category 1': category_1,\n",
    "                                 'Category 2': category_2,\n",
    "                                 'Chi2 statistic': result['Statistic'][0],\n",
    "                                 'Chi2 p-value': result['p-value'][0],\n",
    "                                 'Hypothesis': 'Null'})\n",
    "\n",
    "        iteration += 1\n",
    "        \n",
    "\n",
    "# create DataFrames to categorize the results\n",
    "null_hypothesis_df = pd.DataFrame(null_results)\n",
    "alternative_hypothesis_results = pd.DataFrame(alternative_results)\n",
    "\n",
    "# merge null and alternative hypothesis DataFrames\n",
    "test_results = pd.concat([null_hypothesis_df, alternative_hypothesis_results], ignore_index=True)\n",
    "\n",
    "# confirming that all combinations were calculated\n",
    "print(f'Calculations successfully completed ({iteration}/{total_iterations} combinations)')\n"
   ]
  },
  {
   "cell_type": "markdown",
   "metadata": {},
   "source": [
    "<br>\n",
    "\n",
    "#### **Table 6: Chi-Squared Test Results**\n",
    "<a id=\"table6\"></a>\n",
    "\n",
    "<br>"
   ]
  },
  {
   "cell_type": "code",
   "execution_count": 54,
   "metadata": {},
   "outputs": [
    {
     "data": {
      "text/html": [
       "<style  type=\"text/css\" >\n",
       "</style><table id=\"T_110b1_\" ><caption>Chi-squared test results (Significance level: 0.05)</caption><thead>    <tr>        <th class=\"blank level0\" ></th>        <th class=\"col_heading level0 col0\" >Category 1</th>        <th class=\"col_heading level0 col1\" >Category 2</th>        <th class=\"col_heading level0 col2\" >Chi2 statistic</th>        <th class=\"col_heading level0 col3\" >Chi2 p-value</th>        <th class=\"col_heading level0 col4\" >Hypothesis</th>    </tr></thead><tbody>\n",
       "                <tr>\n",
       "                        <th id=\"T_110b1_level0_row0\" class=\"row_heading level0 row0\" >0</th>\n",
       "                        <td id=\"T_110b1_row0_col0\" class=\"data row0 col0\" >Amphibian</td>\n",
       "                        <td id=\"T_110b1_row0_col1\" class=\"data row0 col1\" >Nonvascular Plant</td>\n",
       "                        <td id=\"T_110b1_row0_col2\" class=\"data row0 col2\" >9.765104</td>\n",
       "                        <td id=\"T_110b1_row0_col3\" class=\"data row0 col3\" >0.001779</td>\n",
       "                        <td id=\"T_110b1_row0_col4\" class=\"data row0 col4\" >Null</td>\n",
       "            </tr>\n",
       "            <tr>\n",
       "                        <th id=\"T_110b1_level0_row1\" class=\"row_heading level0 row1\" >1</th>\n",
       "                        <td id=\"T_110b1_row1_col0\" class=\"data row1 col0\" >Amphibian</td>\n",
       "                        <td id=\"T_110b1_row1_col1\" class=\"data row1 col1\" >Vascular Plant</td>\n",
       "                        <td id=\"T_110b1_row1_col2\" class=\"data row1 col2\" >32.757298</td>\n",
       "                        <td id=\"T_110b1_row1_col3\" class=\"data row1 col3\" >0.000000</td>\n",
       "                        <td id=\"T_110b1_row1_col4\" class=\"data row1 col4\" >Null</td>\n",
       "            </tr>\n",
       "            <tr>\n",
       "                        <th id=\"T_110b1_level0_row2\" class=\"row_heading level0 row2\" >2</th>\n",
       "                        <td id=\"T_110b1_row2_col0\" class=\"data row2 col0\" >Bird</td>\n",
       "                        <td id=\"T_110b1_row2_col1\" class=\"data row2 col1\" >Nonvascular Plant</td>\n",
       "                        <td id=\"T_110b1_row2_col2\" class=\"data row2 col2\" >41.717458</td>\n",
       "                        <td id=\"T_110b1_row2_col3\" class=\"data row2 col3\" >0.000000</td>\n",
       "                        <td id=\"T_110b1_row2_col4\" class=\"data row2 col4\" >Null</td>\n",
       "            </tr>\n",
       "            <tr>\n",
       "                        <th id=\"T_110b1_level0_row3\" class=\"row_heading level0 row3\" >3</th>\n",
       "                        <td id=\"T_110b1_row3_col0\" class=\"data row3 col0\" >Bird</td>\n",
       "                        <td id=\"T_110b1_row3_col1\" class=\"data row3 col1\" >Vascular Plant</td>\n",
       "                        <td id=\"T_110b1_row3_col2\" class=\"data row3 col2\" >354.423327</td>\n",
       "                        <td id=\"T_110b1_row3_col3\" class=\"data row3 col3\" >0.000000</td>\n",
       "                        <td id=\"T_110b1_row3_col4\" class=\"data row3 col4\" >Null</td>\n",
       "            </tr>\n",
       "            <tr>\n",
       "                        <th id=\"T_110b1_level0_row4\" class=\"row_heading level0 row4\" >4</th>\n",
       "                        <td id=\"T_110b1_row4_col0\" class=\"data row4 col0\" >Fish</td>\n",
       "                        <td id=\"T_110b1_row4_col1\" class=\"data row4 col1\" >Nonvascular Plant</td>\n",
       "                        <td id=\"T_110b1_row4_col2\" class=\"data row4 col2\" >12.276440</td>\n",
       "                        <td id=\"T_110b1_row4_col3\" class=\"data row4 col3\" >0.000459</td>\n",
       "                        <td id=\"T_110b1_row4_col4\" class=\"data row4 col4\" >Null</td>\n",
       "            </tr>\n",
       "            <tr>\n",
       "                        <th id=\"T_110b1_level0_row5\" class=\"row_heading level0 row5\" >5</th>\n",
       "                        <td id=\"T_110b1_row5_col0\" class=\"data row5 col0\" >Fish</td>\n",
       "                        <td id=\"T_110b1_row5_col1\" class=\"data row5 col1\" >Vascular Plant</td>\n",
       "                        <td id=\"T_110b1_row5_col2\" class=\"data row5 col2\" >50.587109</td>\n",
       "                        <td id=\"T_110b1_row5_col3\" class=\"data row5 col3\" >0.000000</td>\n",
       "                        <td id=\"T_110b1_row5_col4\" class=\"data row5 col4\" >Null</td>\n",
       "            </tr>\n",
       "            <tr>\n",
       "                        <th id=\"T_110b1_level0_row6\" class=\"row_heading level0 row6\" >6</th>\n",
       "                        <td id=\"T_110b1_row6_col0\" class=\"data row6 col0\" >Mammal</td>\n",
       "                        <td id=\"T_110b1_row6_col1\" class=\"data row6 col1\" >Nonvascular Plant</td>\n",
       "                        <td id=\"T_110b1_row6_col2\" class=\"data row6 col2\" >41.052600</td>\n",
       "                        <td id=\"T_110b1_row6_col3\" class=\"data row6 col3\" >0.000000</td>\n",
       "                        <td id=\"T_110b1_row6_col4\" class=\"data row6 col4\" >Null</td>\n",
       "            </tr>\n",
       "            <tr>\n",
       "                        <th id=\"T_110b1_level0_row7\" class=\"row_heading level0 row7\" >7</th>\n",
       "                        <td id=\"T_110b1_row7_col0\" class=\"data row7 col0\" >Mammal</td>\n",
       "                        <td id=\"T_110b1_row7_col1\" class=\"data row7 col1\" >Reptile</td>\n",
       "                        <td id=\"T_110b1_row7_col2\" class=\"data row7 col2\" >4.289183</td>\n",
       "                        <td id=\"T_110b1_row7_col3\" class=\"data row7 col3\" >0.038356</td>\n",
       "                        <td id=\"T_110b1_row7_col4\" class=\"data row7 col4\" >Null</td>\n",
       "            </tr>\n",
       "            <tr>\n",
       "                        <th id=\"T_110b1_level0_row8\" class=\"row_heading level0 row8\" >8</th>\n",
       "                        <td id=\"T_110b1_row8_col0\" class=\"data row8 col0\" >Mammal</td>\n",
       "                        <td id=\"T_110b1_row8_col1\" class=\"data row8 col1\" >Vascular Plant</td>\n",
       "                        <td id=\"T_110b1_row8_col2\" class=\"data row8 col2\" >246.587042</td>\n",
       "                        <td id=\"T_110b1_row8_col3\" class=\"data row8 col3\" >0.000000</td>\n",
       "                        <td id=\"T_110b1_row8_col4\" class=\"data row8 col4\" >Null</td>\n",
       "            </tr>\n",
       "            <tr>\n",
       "                        <th id=\"T_110b1_level0_row9\" class=\"row_heading level0 row9\" >9</th>\n",
       "                        <td id=\"T_110b1_row9_col0\" class=\"data row9 col0\" >Nonvascular Plant</td>\n",
       "                        <td id=\"T_110b1_row9_col1\" class=\"data row9 col1\" >Reptile</td>\n",
       "                        <td id=\"T_110b1_row9_col2\" class=\"data row9 col2\" >4.513570</td>\n",
       "                        <td id=\"T_110b1_row9_col3\" class=\"data row9 col3\" >0.033627</td>\n",
       "                        <td id=\"T_110b1_row9_col4\" class=\"data row9 col4\" >Null</td>\n",
       "            </tr>\n",
       "            <tr>\n",
       "                        <th id=\"T_110b1_level0_row10\" class=\"row_heading level0 row10\" >10</th>\n",
       "                        <td id=\"T_110b1_row10_col0\" class=\"data row10 col0\" >Reptile</td>\n",
       "                        <td id=\"T_110b1_row10_col1\" class=\"data row10 col1\" >Vascular Plant</td>\n",
       "                        <td id=\"T_110b1_row10_col2\" class=\"data row10 col2\" >14.435371</td>\n",
       "                        <td id=\"T_110b1_row10_col3\" class=\"data row10 col3\" >0.000145</td>\n",
       "                        <td id=\"T_110b1_row10_col4\" class=\"data row10 col4\" >Null</td>\n",
       "            </tr>\n",
       "            <tr>\n",
       "                        <th id=\"T_110b1_level0_row11\" class=\"row_heading level0 row11\" >11</th>\n",
       "                        <td id=\"T_110b1_row11_col0\" class=\"data row11 col0\" >Amphibian</td>\n",
       "                        <td id=\"T_110b1_row11_col1\" class=\"data row11 col1\" >Bird</td>\n",
       "                        <td id=\"T_110b1_row11_col2\" class=\"data row11 col2\" >1.831622</td>\n",
       "                        <td id=\"T_110b1_row11_col3\" class=\"data row11 col3\" >0.175936</td>\n",
       "                        <td id=\"T_110b1_row11_col4\" class=\"data row11 col4\" >Alternative</td>\n",
       "            </tr>\n",
       "            <tr>\n",
       "                        <th id=\"T_110b1_level0_row12\" class=\"row_heading level0 row12\" >12</th>\n",
       "                        <td id=\"T_110b1_row12_col0\" class=\"data row12 col0\" >Amphibian</td>\n",
       "                        <td id=\"T_110b1_row12_col1\" class=\"data row12 col1\" >Fish</td>\n",
       "                        <td id=\"T_110b1_row12_col2\" class=\"data row12 col2\" >0.056866</td>\n",
       "                        <td id=\"T_110b1_row12_col3\" class=\"data row12 col3\" >0.811520</td>\n",
       "                        <td id=\"T_110b1_row12_col4\" class=\"data row12 col4\" >Alternative</td>\n",
       "            </tr>\n",
       "            <tr>\n",
       "                        <th id=\"T_110b1_level0_row13\" class=\"row_heading level0 row13\" >13</th>\n",
       "                        <td id=\"T_110b1_row13_col0\" class=\"data row13 col0\" >Amphibian</td>\n",
       "                        <td id=\"T_110b1_row13_col1\" class=\"data row13 col1\" >Mammal</td>\n",
       "                        <td id=\"T_110b1_row13_col2\" class=\"data row13 col2\" >2.321747</td>\n",
       "                        <td id=\"T_110b1_row13_col3\" class=\"data row13 col3\" >0.127577</td>\n",
       "                        <td id=\"T_110b1_row13_col4\" class=\"data row13 col4\" >Alternative</td>\n",
       "            </tr>\n",
       "            <tr>\n",
       "                        <th id=\"T_110b1_level0_row14\" class=\"row_heading level0 row14\" >14</th>\n",
       "                        <td id=\"T_110b1_row14_col0\" class=\"data row14 col0\" >Amphibian</td>\n",
       "                        <td id=\"T_110b1_row14_col1\" class=\"data row14 col1\" >Reptile</td>\n",
       "                        <td id=\"T_110b1_row14_col2\" class=\"data row14 col2\" >0.076967</td>\n",
       "                        <td id=\"T_110b1_row14_col3\" class=\"data row14 col3\" >0.781450</td>\n",
       "                        <td id=\"T_110b1_row14_col4\" class=\"data row14 col4\" >Alternative</td>\n",
       "            </tr>\n",
       "            <tr>\n",
       "                        <th id=\"T_110b1_level0_row15\" class=\"row_heading level0 row15\" >15</th>\n",
       "                        <td id=\"T_110b1_row15_col0\" class=\"data row15 col0\" >Bird</td>\n",
       "                        <td id=\"T_110b1_row15_col1\" class=\"data row15 col1\" >Fish</td>\n",
       "                        <td id=\"T_110b1_row15_col2\" class=\"data row15 col2\" >3.036284</td>\n",
       "                        <td id=\"T_110b1_row15_col3\" class=\"data row15 col3\" >0.081422</td>\n",
       "                        <td id=\"T_110b1_row15_col4\" class=\"data row15 col4\" >Alternative</td>\n",
       "            </tr>\n",
       "            <tr>\n",
       "                        <th id=\"T_110b1_level0_row16\" class=\"row_heading level0 row16\" >16</th>\n",
       "                        <td id=\"T_110b1_row16_col0\" class=\"data row16 col0\" >Bird</td>\n",
       "                        <td id=\"T_110b1_row16_col1\" class=\"data row16 col1\" >Mammal</td>\n",
       "                        <td id=\"T_110b1_row16_col2\" class=\"data row16 col2\" >0.161701</td>\n",
       "                        <td id=\"T_110b1_row16_col3\" class=\"data row16 col3\" >0.687595</td>\n",
       "                        <td id=\"T_110b1_row16_col4\" class=\"data row16 col4\" >Alternative</td>\n",
       "            </tr>\n",
       "            <tr>\n",
       "                        <th id=\"T_110b1_level0_row17\" class=\"row_heading level0 row17\" >17</th>\n",
       "                        <td id=\"T_110b1_row17_col0\" class=\"data row17 col0\" >Bird</td>\n",
       "                        <td id=\"T_110b1_row17_col1\" class=\"data row17 col1\" >Reptile</td>\n",
       "                        <td id=\"T_110b1_row17_col2\" class=\"data row17 col2\" >3.739655</td>\n",
       "                        <td id=\"T_110b1_row17_col3\" class=\"data row17 col3\" >0.053135</td>\n",
       "                        <td id=\"T_110b1_row17_col4\" class=\"data row17 col4\" >Alternative</td>\n",
       "            </tr>\n",
       "            <tr>\n",
       "                        <th id=\"T_110b1_level0_row18\" class=\"row_heading level0 row18\" >18</th>\n",
       "                        <td id=\"T_110b1_row18_col0\" class=\"data row18 col0\" >Fish</td>\n",
       "                        <td id=\"T_110b1_row18_col1\" class=\"data row18 col1\" >Mammal</td>\n",
       "                        <td id=\"T_110b1_row18_col2\" class=\"data row18 col2\" >3.551667</td>\n",
       "                        <td id=\"T_110b1_row18_col3\" class=\"data row18 col3\" >0.059486</td>\n",
       "                        <td id=\"T_110b1_row18_col4\" class=\"data row18 col4\" >Alternative</td>\n",
       "            </tr>\n",
       "            <tr>\n",
       "                        <th id=\"T_110b1_level0_row19\" class=\"row_heading level0 row19\" >19</th>\n",
       "                        <td id=\"T_110b1_row19_col0\" class=\"data row19 col0\" >Fish</td>\n",
       "                        <td id=\"T_110b1_row19_col1\" class=\"data row19 col1\" >Reptile</td>\n",
       "                        <td id=\"T_110b1_row19_col2\" class=\"data row19 col2\" >0.120332</td>\n",
       "                        <td id=\"T_110b1_row19_col3\" class=\"data row19 col3\" >0.728675</td>\n",
       "                        <td id=\"T_110b1_row19_col4\" class=\"data row19 col4\" >Alternative</td>\n",
       "            </tr>\n",
       "            <tr>\n",
       "                        <th id=\"T_110b1_level0_row20\" class=\"row_heading level0 row20\" >20</th>\n",
       "                        <td id=\"T_110b1_row20_col0\" class=\"data row20 col0\" >Nonvascular Plant</td>\n",
       "                        <td id=\"T_110b1_row20_col1\" class=\"data row20 col1\" >Vascular Plant</td>\n",
       "                        <td id=\"T_110b1_row20_col2\" class=\"data row20 col2\" >0.190691</td>\n",
       "                        <td id=\"T_110b1_row20_col3\" class=\"data row20 col3\" >0.662342</td>\n",
       "                        <td id=\"T_110b1_row20_col4\" class=\"data row20 col4\" >Alternative</td>\n",
       "            </tr>\n",
       "    </tbody></table>"
      ],
      "text/plain": [
       "<pandas.io.formats.style.Styler at 0x7f921751c280>"
      ]
     },
     "metadata": {},
     "output_type": "display_data"
    }
   ],
   "source": [
    "# display table\n",
    "display(test_results.style.set_caption(f'Chi-squared test results (Significance level: {p_value})'))"
   ]
  },
  {
   "cell_type": "markdown",
   "metadata": {},
   "source": [
    "<br>\n",
    "\n",
    "**Null Hypothesis**: There are no significant differences between the protected and unprotected species.\n",
    "\n",
    "**Alternative Hypothesis**: There are significant differences between the protected and unprotected species.\n",
    "\n",
    "<br>"
   ]
  },
  {
   "cell_type": "markdown",
   "metadata": {},
   "source": [
    "<br>\n",
    "\n",
    "# **5: Discussion**\n",
    "<a id=\"discussion\"></a>\n",
    "\n",
    "<br>"
   ]
  },
  {
   "cell_type": "markdown",
   "metadata": {},
   "source": [
    "<br>\n",
    "\n",
    "This project sought out to analyze biodiversity data from the U.S. National Parks Service collected over a 7 day period in four National Parks:\n",
    "\n",
    "<br>\n",
    "\n",
    "> - **Yellowstone National Park**\n",
    "> - **Yosemite National Park**\n",
    "> - **Great Smoky Mountains National Park**\n",
    "> - **Bryce National Park**\n",
    "\n",
    "<br>\n",
    "\n",
    "The dataset provided contained information on **5541 unique species** across **7 categories**:\n",
    "\n",
    "<br>\n",
    "\n",
    "> - **Mammal**\n",
    "> - **Bird**\n",
    "> - **Reptile**\n",
    "> - **Amphibian**\n",
    "> - **Fish**\n",
    "> - **Vascular Plant**\n",
    "> - **Nonvascular Plant**\n",
    "\n",
    "<br>\n",
    "\n",
    "The data showed that the **most observed species**, in each park, is a Vascular Plant commonly referred to as a `Sedge` (https://en.wikipedia.org/wiki/Cyperaceae). The five most observed species for each National Park is shown in [**Figure 1**](#figure1), while [**Figure 2**](#figure2) shows a distribution of the number of observations by National Park with Yellowstone having the largest share.\n",
    "\n",
    "<br>\n",
    "\n",
    "[**Figure 3**](#figure3) depicts the **top five most observed species in each category**. In this dataset, observations served as one of the key analytic factors. When looking at the **total count and relative proportions of observations by category**, `Vascular Plants` were found to account for 77% of total observations, as seen in [**Figure 4**](#figure4). This is understandable given that plants have a high species abundance, a wide range, remain immobile, and are often easily identifiable. This statement is further supported when looking at the **total count and relative proportions of species by category** in [**Figure 5**](#figure5).\n",
    "\n",
    "<br>\n",
    "\n",
    "Additionally, the dataset also includes **five distinct conservation status groups** for each species, which help **to indicate the degree to which a species is threatened or protected**:\n",
    "\n",
    "> - **Least Concern**: not a focus of conservation efforts\n",
    "> - **Species of Concern**: declining or appear to be in need of conservation\n",
    "> - **Threatened**: vulnerable to endangerment in the near future\n",
    "> - **In Recovery**: formerly `Endangered`, but currently neither in danger of extinction throughout all or a significant portion of its range\n",
    "> - **Endangered**: seriously at risk of extinction\n",
    "\n",
    "<br>\n",
    "\n",
    "[**Figure 6**](#figure6) provides an **overview of the conservation status distribution**, showing that vast majority of species within the dataset belong to the **\"Least Concern\" category with more than 96% of the total species**. A more comprehensive breakdown of this is shown in [**Table 3**](#table3), which contains this same information broken down by **conservation status and species category**. [**Table 4**](table4) presents these results in the form of **percentages, offering another clear representation of the data**. `Species of Concern`, `Threatened` species, and species that are `Endangered` were further analyzed in more detail.\n",
    "\n",
    "<br>\n",
    "\n",
    "[**Figures 7**](#figure7), [**8**](#figure8) and [**9**](#figure9) present a summary of the conservation statuses for `Species of Concern`, `Threatened` and `Endangered` species, respectively. When looking at `Species of Concern`, the largest proportion of species belong the `Bird` category at 45% while `Fish` and `Mammals` make the up the majority at 40% of `Threatened` and `Endangered` species, respectively. In addition to the firgures, there are tables highlighting the **most observed species for their respective conservation status**.\n",
    "\n",
    "<br>\n",
    "\n",
    "In addition to analyzing the biodiversity data, this prroject sought out to answer whether or not there was a relationship between protection status and species category. This was assessed using a Chi-Squared test, as shown in section [**4.4.1**](#q4.1). [**Table 6**](#Table6) shows the test **results for each category pair, including the corresponding statistic and p-value for each test**. Additionally, there is a \"**Hypothesis**\" column indicating whether the **Null Hypothesis is accepted or rejected**. In case of rejection, it states \"Alternative\".\n",
    "\n",
    "<br>\n",
    "\n",
    "These results indicate that **mammals and birds** are the **most endangered categories** because they account for the highest percentage of all protected species, followed by **fish and amphibians**. Some protected and unprotected categories show **statistically significant differences**, while others do not. \n",
    "\n",
    "<br>\n",
    "\n",
    "To conclude, ensuring the survival of at-risk species is imperative to maintaining biodiversity in wildlife populations. Aside from the fact that, while inspired by real data, this dataset is mostly fictitious and only includes observations collected over a 7-day period, making it impossible to analyze changes over time. It would be interesting to obtain real data and conduct a more thorough analysis to investigate what factors might contribute to the substantial number of bird species falling under the `Species of Concern` conservation status, as well as the fish species classified as `Threatened`. Based off this data alone, one may begin to think of several **potential risk factors**  that may be influence these conservation statuses, such as: \n",
    "\n",
    "> - **Water pollution**\n",
    "> - **Detrimental impact of wildfires**\n",
    "> - **Unsustainable hunting practices**\n",
    "> - **Habitat destruction**\n",
    "\n",
    "<br>\n",
    "\n"
   ]
  }
 ],
 "metadata": {
  "kernelspec": {
   "display_name": "Python 3",
   "language": "python",
   "name": "python3"
  },
  "language_info": {
   "codemirror_mode": {
    "name": "ipython",
    "version": 3
   },
   "file_extension": ".py",
   "mimetype": "text/x-python",
   "name": "python",
   "nbconvert_exporter": "python",
   "pygments_lexer": "ipython3",
   "version": "3.8.8"
  }
 },
 "nbformat": 4,
 "nbformat_minor": 4
}
